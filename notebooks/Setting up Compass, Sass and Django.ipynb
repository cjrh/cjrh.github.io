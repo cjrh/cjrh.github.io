{
 "cells": [
  {
   "cell_type": "markdown",
   "metadata": {},
   "source": [
    "# Setting up Compass, Sass and Django"
   ]
  },
  {
   "cell_type": "markdown",
   "metadata": {},
   "source": [
    "Brandon Rhodes gives a [great tutorial](http://rhodesmill.org/brandon/2011/adding-compass/) on how to add Compass to a [Django](https://www.djangoproject.com/) project. In that tutorial, the first step is to create a `compass` folder, and inside that folder, run an `install.sh` script to create the gems required for Compass.  I had trouble with the line inside this script that looks like this:\n",
    "\n",
    "```shell\n",
    "BASE=$(dirname $(readlink -f $(which \"$0\")))\n",
    "```\n",
    "\n",
    "For some reason on my Mac, `readlink` was missing. Instead, I [found](http://stackoverflow.com/questions/59895/can-a-bash-script-tell-what-directory-its-stored-in) a different way of obtaining the folder in which a script resides, and so my `install.sh` looks like this:"
   ]
  },
  {
   "cell_type": "markdown",
   "metadata": {},
   "source": [
    "```shell\n",
    "#!/bin/bash\n",
    "# compass/install.sh - install Compass under the \"./Gem\" directory\n",
    "\n",
    "if ! which gem >/dev/null ;then\n",
    "    echo 'Error: no \"gem\" command available'\n",
    "    echo 'Please install Ruby.'\n",
    "    exit 1\n",
    "fi\n",
    "BASE=$( cd \"$( dirname \"${BASH_SOURCE[0]}\" )\" && pwd )\n",
    "cd $BASE  # the directory where this script lives\n",
    "gem install -i Gem compass\n",
    "gem install -i Gem compass-susy-plugin\n",
    "```"
   ]
  },
  {
   "cell_type": "markdown",
   "metadata": {},
   "source": [
    "The same occurs in the second script, `compass.sh`:"
   ]
  },
  {
   "cell_type": "markdown",
   "metadata": {},
   "source": [
    "```shell\n",
    "#!/bin/bash\n",
    "# compass/compass.sh - properly invoke the \"Compass\" program\n",
    "\n",
    "BASE=$( cd \"$( dirname \"${BASH_SOURCE[0]}\" )\" && pwd )\n",
    "export GEM_HOME=$BASE/Gem\n",
    "export RUBYLIB=$BASE/Gem/lib\n",
    "$BASE/Gem/bin/compass \"$@\"\n",
    "```"
   ]
  },
  {
   "cell_type": "markdown",
   "metadata": {},
   "source": [
    "The remainder of the tutorial remains the same."
   ]
  },
  {
   "cell_type": "markdown",
   "metadata": {},
   "source": [
    "<h3 style=\"color: red; \">Edit: 14 Aug 2015</h3>\n",
    "\n",
    "## There is a better way\n",
    "\n",
    "There are tools that make this all much easier.  Once you have a ruby installed and working, the first step is to install [bundler](http://bundler.io):\n",
    "\n",
    "```bash\n",
    "$ sudo gem install bundler\n",
    "```\n",
    "\n",
    "After that, you need to add a `Gemfile` to your Django project.  I put mine alongside my `requirements.txt`, for all the same reasons.  The contents of the Gemfile look something like this:\n",
    "\n",
    "```ruby\n",
    "source 'https://rubygems.org'\n",
    "\n",
    "gem 'sass'\n",
    "gem 'compass'\n",
    "gem 'breakpoint'\n",
    "gem 'singularitygs'\n",
    "gem 'color-schemer'\n",
    "```\n",
    "\n",
    "Note: dependencies can be version-clamped. I haven't done that here, but the information is easily found online.\n",
    "\n",
    "Then, to install these gems, you simply (in the same folder as the `Gemfile`):\n",
    "\n",
    "```bash\n",
    "$ bundle install\n",
    "```\n",
    "\n",
    "Thereafter, to run any of the gems on your _Sass_ files, you can execute the bundle version of gem executables like so:\n",
    "\n",
    "```bash\n",
    "$ bundle exec compass watch\n",
    "```\n",
    "\n",
    "In my case, I've installed the wonderful [livereload](https://github.com/lepture/python-livereload) (with `pip install livereload`) and I've modified the Django `manage.py` file to use livereload for the development server when launched with\n",
    "\n",
    "```bash\n",
    "$ python manage.py livereload\n",
    "```\n",
    "\n",
    "So, my `manage.py` looks like this:"
   ]
  },
  {
   "cell_type": "markdown",
   "metadata": {},
   "source": [
    "```python\n",
    "#!/usr/bin/env python\n",
    "import os\n",
    "import sys\n",
    "\n",
    "\n",
    "if __name__ == \"__main__\":\n",
    "    # CHANGED manage.py will use development settings by\n",
    "    # default. Change the DJANGO_SETTINGS_MODULE environment variable\n",
    "    # for using the environment specific settings file.\n",
    "    os.environ.setdefault(\"DJANGO_SETTINGS_MODULE\", \"myproj.settings.development\")\n",
    "\n",
    "    from django.core.management import execute_from_command_line\n",
    "\n",
    "    if 'livereload' in sys.argv:\n",
    "        from django.core.wsgi import get_wsgi_application\n",
    "        from livereload import Server, shell\n",
    "        application = get_wsgi_application()\n",
    "        server = Server(application)\n",
    "\n",
    "        # Add watches - plain files\n",
    "        folders = ['myproj/', 'media/', 'profiles/',\n",
    "                   'static/', 'templates/']\n",
    "        for folder in folders:\n",
    "            server.watch(folder)\n",
    "\n",
    "        # Add watch: Compass & Sass\n",
    "        compass_info = dict(\n",
    "            compass='bundle exec compass',\n",
    "            sass_dir='./compass/sass',\n",
    "            css_dir='./static/site/css'\n",
    "            )\n",
    "        cmd = '{compass} compile --sass-dir {sass_dir} --css-dir {css_dir}'.format(\n",
    "                **compass_info\n",
    "                )\n",
    "        server.watch('compass/sass/', shell(cmd=cmd, shell=True))\n",
    "\n",
    "        # This is to make static files actually work in the development server.\n",
    "        from django.contrib.staticfiles.urls import staticfiles_urlpatterns\n",
    "        import codermoji.urls\n",
    "        codermoji.urls.urlpatterns += staticfiles_urlpatterns()\n",
    "\n",
    "        # Serve with livereload\n",
    "        server.serve()\n",
    "    else:\n",
    "        execute_from_command_line(sys.argv)\n",
    "\n",
    "```"
   ]
  },
  {
   "cell_type": "markdown",
   "metadata": {},
   "source": [
    "As you can see, in the section for `livereload`, One of the parts executes compass on my `sass` files whenever they change, and livereload _injects_ the changes css into my browser window."
   ]
  },
  {
   "cell_type": "code",
   "execution_count": null,
   "metadata": {
    "collapsed": true
   },
   "outputs": [],
   "source": []
  }
 ],
 "metadata": {
  "kernelspec": {
   "display_name": "Python 2",
   "language": "python",
   "name": "python2"
  },
  "language_info": {
   "codemirror_mode": {
    "name": "ipython",
    "version": 2
   },
   "file_extension": ".py",
   "mimetype": "text/x-python",
   "name": "python",
   "nbconvert_exporter": "python",
   "pygments_lexer": "ipython2",
   "version": "2.7.10"
  }
 },
 "nbformat": 4,
 "nbformat_minor": 0
}
