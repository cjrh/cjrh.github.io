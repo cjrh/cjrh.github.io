{
 "cells": [
  {
   "cell_type": "markdown",
   "id": "01662e45",
   "metadata": {},
   "source": [
    "# Another pointless comparison of binary size between Rust and C++\n",
    "\n",
    "I recently saw a Youtube video of someone going through a laundry list of complaints about Rust. The merits of the discussion notwithstanding, one of the points raised was about the difference in binary size produced from different compilers.\n",
    "\n",
    "There are [many](https://github.com/johnthagen/min-sized-rust), [many](https://os.phil-opp.com/freestanding-rust-binary/), [many](https://lifthrasiir.github.io/rustlog/why-is-a-rust-executable-large.html), [many](https://kripken.github.io/blog/binaryen/2018/04/18/rust-emscripten.html), [many](https://stackoverflow.com/questions/29008127/why-are-rust-executables-so-huge), [many](https://github.com/rust-embedded/wg/issues/5) discussions about Rust binary sizes online and I'm not going to rehash any of that. I was just curious about reproducing the data in the Youtube video, and in particular I am generally interested in producing static binaries for simplified deployment reasons.  I realise the static-vs-dynamic debate is a whole other flamewar online and I don't really care 😃\n",
    "\n",
    "_This post was made in a Jupyter Notebook using the awesome [evcxr](https://github.com/google/evcxr) Rust interpreter. All the cells were executed live in the notebook._"
   ]
  },
  {
   "cell_type": "markdown",
   "id": "b993df10",
   "metadata": {},
   "source": [
    "## Utility functions"
   ]
  },
  {
   "cell_type": "code",
   "execution_count": 2,
   "id": "3fad98bf",
   "metadata": {},
   "outputs": [],
   "source": [
    "/// Tool to easily run shell commands.\n",
    "fn sh(dir: &str, cmd: &str, args: &[&'static str]) -> Result<(), Box<dyn std::error::Error>> {\n",
    "    let output = std::process::Command::new(cmd)\n",
    "        .current_dir(dir)\n",
    "        .args(args)\n",
    "        .output()?;\n",
    "    if output.stdout.len() > 0 {\n",
    "        println!(\"stdout:\\n{}\", String::from_utf8(output.stdout)?);\n",
    "    }\n",
    "    if output.stderr.len() > 0 {\n",
    "        println!(\"stderr:\\n{}\", String::from_utf8(output.stderr)?);\n",
    "    }\n",
    "    Ok(())\n",
    "}"
   ]
  },
  {
   "cell_type": "markdown",
   "id": "abccd05d",
   "metadata": {},
   "source": [
    "# C++ binary size\n",
    "\n",
    "The example given in the video was like this:"
   ]
  },
  {
   "cell_type": "code",
   "execution_count": 3,
   "id": "29792039",
   "metadata": {},
   "outputs": [],
   "source": [
    "std::fs::remove_dir_all(\"~/tmp/cppsize/\").ok();\n",
    "std::fs::create_dir_all(\"~/tmp/cppsize/\")?;\n",
    "std::fs::write(\"~/tmp/cppsize/main.cc\", \"int main() {}\")?;"
   ]
  },
  {
   "cell_type": "code",
   "execution_count": 4,
   "id": "2639f34c",
   "metadata": {},
   "outputs": [
    {
     "name": "stdout",
     "output_type": "stream",
     "text": [
      "stdout:\n",
      "total 4.0K\n",
      "drwxr-xr-x. 1 caleb caleb 14 Jun  1 12:20 .\n",
      "drwxr-xr-x. 1 caleb caleb 14 Jun  1 12:20 ..\n",
      "-rw-r--r--. 1 caleb caleb 13 Jun  1 12:20 main.cc\n",
      "\n"
     ]
    }
   ],
   "source": [
    "sh(\"~/tmp/cppsize\", \"ls\", &vec![\"-lah\"])?;"
   ]
  },
  {
   "cell_type": "markdown",
   "id": "6e518896",
   "metadata": {},
   "source": [
    "Compiling the empty file, according to the aforementioned video:"
   ]
  },
  {
   "cell_type": "code",
   "execution_count": 5,
   "id": "86255330",
   "metadata": {},
   "outputs": [],
   "source": [
    "sh(\n",
    "    \"~/tmp/cppsize\",\n",
    "    \"g++\",\n",
    "    &vec![\"-o\", \"main\", \n",
    "        \"main.cc\", \n",
    "        \"-Ofast\", \n",
    "        \"-std=c++20\", \n",
    "        \"-s\", \n",
    "        \"-flto\", \n",
    "        \"-static-libgcc\", \n",
    "        \"-static-libstdc++\"\n",
    "    ]\n",
    ")?;"
   ]
  },
  {
   "cell_type": "code",
   "execution_count": 6,
   "id": "66a68877",
   "metadata": {},
   "outputs": [
    {
     "name": "stdout",
     "output_type": "stream",
     "text": [
      "stdout:\n",
      "total 16K\n",
      "drwxr-xr-x. 1 caleb caleb  22 Jun  1 12:20 .\n",
      "drwxr-xr-x. 1 caleb caleb  14 Jun  1 12:20 ..\n",
      "-rwxr-xr-x. 1 caleb caleb 11K Jun  1 12:20 main\n",
      "-rw-r--r--. 1 caleb caleb  13 Jun  1 12:20 main.cc\n",
      "\n"
     ]
    }
   ],
   "source": [
    "sh(\"~/tmp/cppsize\", \"ls\", &vec![\"-lah\"])?;"
   ]
  },
  {
   "cell_type": "markdown",
   "id": "6cd2a150",
   "metadata": {},
   "source": [
    "In the Youtube video, the very low binary size of `main` was as given above, around **11 kB**. We can look at the runtime dynamic dependencies with `ldd`:"
   ]
  },
  {
   "cell_type": "code",
   "execution_count": 7,
   "id": "e1355ffe",
   "metadata": {},
   "outputs": [
    {
     "name": "stdout",
     "output_type": "stream",
     "text": [
      "stdout:\n",
      "\tlinux-vdso.so.1 (0x00007f98cdc15000)\n",
      "\tlibm.so.6 => /lib64/libm.so.6 (0x00007f98cdb02000)\n",
      "\tlibc.so.6 => /lib64/libc.so.6 (0x00007f98cd910000)\n",
      "\t/lib64/ld-linux-x86-64.so.2 (0x00007f98cdc17000)\n",
      "\n"
     ]
    }
   ],
   "source": [
    "sh(\"~/tmp/cppsize\", \"ldd\", &vec![\"main\"])?;"
   ]
  },
  {
   "attachments": {},
   "cell_type": "markdown",
   "id": "b8642806-cd0d-48a2-b2cf-29457d20341d",
   "metadata": {},
   "source": [
    "We want to make comparisons without being affected by which dependencies are being dynamically linked and which are statically linked. So, we can add one small extra option to the compiler options for this empty C++ example to produce a fully static binary.\n",
    "\n",
    "You may need to install static versions of some libraries on your system for the next command to work. On Fedora Linux, this command would be:\n",
    "\n",
    "```shell\n",
    "sudo dnf install glibc-static libstdc++-static\n",
    "```\n",
    "\n",
    "Here is the static compile:"
   ]
  },
  {
   "cell_type": "code",
   "execution_count": 12,
   "id": "9ba09cfa",
   "metadata": {},
   "outputs": [],
   "source": [
    "sh(\n",
    "    \"~/tmp/cppsize\",\n",
    "    \"g++\",\n",
    "    &vec![\"-o\", \"main\", \n",
    "        \"main.cc\", \n",
    "        \"-Ofast\", \n",
    "        \"-std=c++20\", \n",
    "        \"-s\", \n",
    "        \"-flto\", \n",
    "        \"-static-libgcc\", \n",
    "        \"-static-libstdc++\",\n",
    "        \"-static\"  // <--- THIS IS THE EXTRA OPTION\n",
    "    ]\n",
    ")?;"
   ]
  },
  {
   "cell_type": "code",
   "execution_count": 13,
   "id": "1876b1f3",
   "metadata": {},
   "outputs": [
    {
     "name": "stdout",
     "output_type": "stream",
     "text": [
      "stdout:\n",
      "total 708K\n",
      "drwxr-xr-x. 1 caleb caleb   22 Jun  1 12:32 .\n",
      "drwxr-xr-x. 1 caleb caleb   14 Jun  1 12:20 ..\n",
      "-rwxr-xr-x. 1 caleb caleb 701K Jun  1 12:32 main\n",
      "-rw-r--r--. 1 caleb caleb   13 Jun  1 12:20 main.cc\n",
      "\n"
     ]
    }
   ],
   "source": [
    "sh(\"~/tmp/cppsize\", \"ls\", &vec![\"-lah\"])?;"
   ]
  },
  {
   "cell_type": "markdown",
   "id": "b1efe3af",
   "metadata": {},
   "source": [
    "Now the size is much bigger, around **701 kB**. `ldd` tells us the binary no longer links dynamically to anything:"
   ]
  },
  {
   "cell_type": "code",
   "execution_count": 14,
   "id": "7da36d4b",
   "metadata": {},
   "outputs": [
    {
     "name": "stdout",
     "output_type": "stream",
     "text": [
      "stderr:\n",
      "\tnot a dynamic executable\n",
      "\n"
     ]
    }
   ],
   "source": [
    "sh(\"~/tmp/cppsize\", \"ldd\", &vec![\"main\"])?;"
   ]
  },
  {
   "cell_type": "markdown",
   "id": "d4f34d7f",
   "metadata": {},
   "source": [
    "## Rust binary size\n",
    "\n",
    "In the Youtube video, an empty rust file was compiled in the following way:"
   ]
  },
  {
   "cell_type": "code",
   "execution_count": 15,
   "id": "25c88500",
   "metadata": {},
   "outputs": [],
   "source": [
    "std::fs::remove_dir_all(\"~/tmp/rustsize/\").ok();\n",
    "std::fs::create_dir_all(\"~/tmp/rustsize/\")?;\n",
    "std::fs::write(\"~/tmp/rustsize/a.rs\", \"fn main() {}\")?;"
   ]
  },
  {
   "cell_type": "code",
   "execution_count": 16,
   "id": "3f986e2a",
   "metadata": {},
   "outputs": [
    {
     "name": "stdout",
     "output_type": "stream",
     "text": [
      "stdout:\n",
      "total 4.0K\n",
      "drwxr-xr-x. 1 caleb caleb  8 Jun  1 12:32 .\n",
      "drwxr-xr-x. 1 caleb caleb 30 Jun  1 12:32 ..\n",
      "-rw-r--r--. 1 caleb caleb 12 Jun  1 12:32 a.rs\n",
      "\n"
     ]
    }
   ],
   "source": [
    "sh(\"~/tmp/rustsize\", \"ls\", &vec![\"-lah\"])?;"
   ]
  },
  {
   "cell_type": "markdown",
   "id": "452c9f10",
   "metadata": {},
   "source": [
    "For some reason the video author didn't want to use Cargo 🤷. Anyway let's go with it:"
   ]
  },
  {
   "cell_type": "code",
   "execution_count": 17,
   "id": "e41651d7",
   "metadata": {},
   "outputs": [],
   "source": [
    "sh(\n",
    "    \"~/tmp/rustsize\",\n",
    "    \"rustc\",\n",
    "    &vec![\n",
    "        \"-O\", \n",
    "        \"-C\", \"strip=symbols\",\n",
    "        \"a.rs\", \n",
    "    ]\n",
    ")?;"
   ]
  },
  {
   "cell_type": "code",
   "execution_count": 18,
   "id": "0d95e16f",
   "metadata": {},
   "outputs": [
    {
     "name": "stdout",
     "output_type": "stream",
     "text": [
      "stdout:\n",
      "total 352K\n",
      "drwxr-xr-x. 1 caleb caleb   10 Jun  1 12:33 .\n",
      "drwxr-xr-x. 1 caleb caleb   30 Jun  1 12:32 ..\n",
      "-rwxr-xr-x. 1 caleb caleb 346K Jun  1 12:33 a\n",
      "-rw-r--r--. 1 caleb caleb   12 Jun  1 12:32 a.rs\n",
      "\n"
     ]
    }
   ],
   "source": [
    "sh(\"~/tmp/rustsize\", \"ls\", &vec![\"-lah\"])?;"
   ]
  },
  {
   "cell_type": "markdown",
   "id": "d136bbdb",
   "metadata": {},
   "source": [
    "Indeed, we find a similar number as the author in the video, around **350 kB**. The author concludes that Rust-induced bloat is 346/11 => 30X bigger.\n",
    "\n",
    "Let's add some optimizations, and work towards a static build to do the comparison correctly:"
   ]
  },
  {
   "cell_type": "code",
   "execution_count": 19,
   "id": "b0de4131",
   "metadata": {},
   "outputs": [],
   "source": [
    "sh(\n",
    "    \"~/tmp/rustsize\",\n",
    "    \"rustc\",\n",
    "    &vec![\n",
    "        \"-O\", \n",
    "        \"-C\", \"strip=symbols\",\n",
    "        \"-C\", \"lto=on\",\n",
    "        \"-C\", \"codegen-units=1\",\n",
    "        \"a.rs\", \n",
    "    ]\n",
    ")?;"
   ]
  },
  {
   "cell_type": "code",
   "execution_count": 20,
   "id": "571a7b4d",
   "metadata": {},
   "outputs": [
    {
     "name": "stdout",
     "output_type": "stream",
     "text": [
      "stdout:\n",
      "total 324K\n",
      "drwxr-xr-x. 1 caleb caleb   10 Jun  1 12:36 .\n",
      "drwxr-xr-x. 1 caleb caleb   30 Jun  1 12:32 ..\n",
      "-rwxr-xr-x. 1 caleb caleb 318K Jun  1 12:36 a\n",
      "-rw-r--r--. 1 caleb caleb   12 Jun  1 12:32 a.rs\n",
      "\n"
     ]
    }
   ],
   "source": [
    "sh(\"~/tmp/rustsize\", \"ls\", &vec![\"-lah\"])?;"
   ]
  },
  {
   "cell_type": "markdown",
   "id": "5e91cf68",
   "metadata": {},
   "source": [
    "Marginal improvement.\n",
    "\n",
    "There are a few more extra options beyond what was used in the C++ example, but these don't make a significant difference to a completely-empty program."
   ]
  },
  {
   "cell_type": "code",
   "execution_count": 21,
   "id": "5b31ec8f",
   "metadata": {},
   "outputs": [],
   "source": [
    "sh(\n",
    "    \"~/tmp/rustsize\",\n",
    "    \"rustc\",\n",
    "    &vec![\n",
    "        \"-O\", \n",
    "        \"-C\", \"strip=symbols\",\n",
    "        \"-C\", \"lto=on\",\n",
    "        \"-C\", \"codegen-units=1\",\n",
    "        \n",
    "        // Extra\n",
    "        \"-C\", \"opt-level=s\",  // Optimize for size\n",
    "        \"-C\", \"panic=abort\",  // Disable stack-unwinding\n",
    "        \n",
    "        \"a.rs\", \n",
    "    ]\n",
    ")?;"
   ]
  },
  {
   "cell_type": "code",
   "execution_count": 22,
   "id": "b54c65a7",
   "metadata": {},
   "outputs": [
    {
     "name": "stdout",
     "output_type": "stream",
     "text": [
      "stdout:\n",
      "total 304K\n",
      "drwxr-xr-x. 1 caleb caleb   10 Jun  1 12:36 .\n",
      "drwxr-xr-x. 1 caleb caleb   30 Jun  1 12:32 ..\n",
      "-rwxr-xr-x. 1 caleb caleb 298K Jun  1 12:36 a\n",
      "-rw-r--r--. 1 caleb caleb   12 Jun  1 12:32 a.rs\n",
      "\n"
     ]
    }
   ],
   "source": [
    "sh(\"~/tmp/rustsize\", \"ls\", &vec![\"-lah\"])?;"
   ]
  },
  {
   "cell_type": "markdown",
   "id": "ac7f2326",
   "metadata": {},
   "source": [
    "These extra flags and settings are making marginal improvements. We haven't yet checked whether the Rust binary is linking dynamically to anything yet.  Apples-to-apples, remember? So let's look into that:"
   ]
  },
  {
   "cell_type": "code",
   "execution_count": 23,
   "id": "d40dee12",
   "metadata": {},
   "outputs": [
    {
     "name": "stdout",
     "output_type": "stream",
     "text": [
      "stdout:\n",
      "\tlinux-vdso.so.1 (0x00007fd2149ca000)\n",
      "\tlibgcc_s.so.1 => /lib64/libgcc_s.so.1 (0x00007fd21492e000)\n",
      "\tlibc.so.6 => /lib64/libc.so.6 (0x00007fd21473c000)\n",
      "\t/lib64/ld-linux-x86-64.so.2 (0x00007fd2149cc000)\n",
      "\n"
     ]
    }
   ],
   "source": [
    "sh(\"~/tmp/rustsize\", \"ldd\", &vec![\"a\"])?;"
   ]
  },
  {
   "cell_type": "markdown",
   "id": "63587818",
   "metadata": {},
   "source": [
    "Woah, the Rust binary is dynamically linked to libc! Why does it need to do that?  Here's a great concise explanation [from 2015](https://news.ycombinator.com/item?id=9436004):\n",
    "\n",
    "> erickt on April 24, 2015:\n",
    ">\n",
    "> No it's not a stupid question. libc (or CRT on windows) really is the library that exposes all the user space system libraries. It contains the functions to do IO, sockets, threads, and etc. So we use it to expose that functionality to rust users.\n",
    ">\n",
    "> Now there are some languages, namely Go, that skip libc and just implement directly against the syscall interface. Go has the advantage of being able to draw from Google's vast experience interacting deep within the system, so it was comparatively cheap for them to do this.\n",
    ">\n",
    "> For rust, it never really felt like it was worth the effort for the benefit we'd get out of it. It was more important to get the language done. \n",
    "\n",
    "So Rust is still using the C runtime to interact with the OS through userspace libraries provided in the C runtime. So it doesn't need the C or C++ standard libraries, only the runtime for OS interaction.\n",
    "\n",
    "Ok so for a fair comparison we should compare the sizes after statically linking against the CRT.\n"
   ]
  },
  {
   "cell_type": "code",
   "execution_count": 24,
   "id": "7a1e8ed2",
   "metadata": {},
   "outputs": [],
   "source": [
    "sh(\n",
    "    \"~/tmp/rustsize\",\n",
    "    \"rustc\",\n",
    "    &vec![\n",
    "        \"-O\", \n",
    "        \"-C\", \"strip=symbols\",\n",
    "        \"-C\", \"lto=on\",\n",
    "        \"-C\", \"codegen-units=1\",\n",
    "        \"-C\", \"opt-level=s\",  // Optimize for size\n",
    "        \"-C\", \"panic=abort\",  // Disable stack-unwinding\n",
    "        \n",
    "        // New\n",
    "        \"-C\", \"target-feature=+crt-static\",\n",
    "        \n",
    "        \"a.rs\", \n",
    "    ]\n",
    ")?;"
   ]
  },
  {
   "cell_type": "code",
   "execution_count": 25,
   "id": "8f12450a",
   "metadata": {},
   "outputs": [
    {
     "name": "stdout",
     "output_type": "stream",
     "text": [
      "stdout:\n",
      "\tstatically linked\n",
      "\n"
     ]
    }
   ],
   "source": [
    "sh(\"~/tmp/rustsize\", \"ldd\", &vec![\"a\"])?;"
   ]
  },
  {
   "cell_type": "markdown",
   "id": "7bd93986",
   "metadata": {},
   "source": [
    "And the size?"
   ]
  },
  {
   "cell_type": "code",
   "execution_count": 26,
   "id": "a4b64e34",
   "metadata": {},
   "outputs": [
    {
     "name": "stdout",
     "output_type": "stream",
     "text": [
      "stdout:\n",
      "total 1.2M\n",
      "drwxr-xr-x. 1 caleb caleb   10 Jun  1 12:39 .\n",
      "drwxr-xr-x. 1 caleb caleb   30 Jun  1 12:32 ..\n",
      "-rwxr-xr-x. 1 caleb caleb 1.2M Jun  1 12:39 a\n",
      "-rw-r--r--. 1 caleb caleb   12 Jun  1 12:32 a.rs\n",
      "\n"
     ]
    }
   ],
   "source": [
    "sh(\"~/tmp/rustsize\", \"ls\", &vec![\"-lah\"])?;"
   ]
  },
  {
   "cell_type": "markdown",
   "id": "d86fe651",
   "metadata": {},
   "source": [
    "Now it's a whopping 1.2 MB. So if we do all the work to produce a fully static executable from an empty `main()` for both Rust and C++, we indeed find that C++ produces the smaller binary. It's 1 - 721/1200 => **40%** smaller than the Rust binary, which is clearly a much smaller difference than the ~ 30X comparison I gave at the start."
   ]
  },
  {
   "cell_type": "markdown",
   "id": "1714e631-b680-4083-ac12-08992ff4ebb3",
   "metadata": {},
   "source": [
    "# What happens when the program is not empty?\n",
    "\n",
    "What happens to the comparison if the `main()` function is not empty, but instead uses some stdlib functionality?"
   ]
  },
  {
   "cell_type": "markdown",
   "id": "58a03709-78d4-4889-bca1-c4f7868c9136",
   "metadata": {},
   "source": [
    "For C++:"
   ]
  },
  {
   "cell_type": "code",
   "execution_count": 51,
   "id": "d95a5c3b-9332-41e1-acbd-52bdce385f65",
   "metadata": {},
   "outputs": [],
   "source": [
    "std::fs::remove_dir_all(\"~/tmp/cppsize3/\").ok();\n",
    "std::fs::create_dir_all(\"~/tmp/cppsize3/\")?;\n",
    "let content = r#\"\n",
    "#include <cstdio>\n",
    "int main() {\n",
    "    printf(\"Hello world\\n\");\n",
    "    return 0;\n",
    "}\n",
    "\"#;\n",
    "std::fs::write(\"~/tmp/cppsize3/main.cc\", content)?;"
   ]
  },
  {
   "cell_type": "code",
   "execution_count": 52,
   "id": "ffb93be4-8d08-4053-8cdf-a010bebe7e0d",
   "metadata": {},
   "outputs": [],
   "source": [
    "sh(\n",
    "    \"~/tmp/cppsize3\",\n",
    "    \"g++\",\n",
    "    &vec![\"-o\", \"main\", \n",
    "        \"main.cc\", \n",
    "        \"-Ofast\", \n",
    "        \"-std=c++20\", \n",
    "        \"-s\", \n",
    "        \"-flto\", \n",
    "        \"-static-libgcc\", \n",
    "        \"-static-libstdc++\",\n",
    "        \"-static\"  // <--- THIS IS THE EXTRA OPTION\n",
    "    ]\n",
    ")?;"
   ]
  },
  {
   "cell_type": "code",
   "execution_count": 53,
   "id": "e5ea2b48-c04c-45d8-b018-850252a1b9ce",
   "metadata": {},
   "outputs": [],
   "source": [
    "sh(\"~/tmp/cppsize3\", \"strip\", &vec![\"main\"])?;"
   ]
  },
  {
   "cell_type": "code",
   "execution_count": 54,
   "id": "5a761e18-d8b4-40d5-be52-ad2154850c28",
   "metadata": {},
   "outputs": [
    {
     "name": "stdout",
     "output_type": "stream",
     "text": [
      "stdout:\n",
      "total 700K\n",
      "drwxr-xr-x. 1 caleb caleb   22 Jun  1 13:02 .\n",
      "drwxr-xr-x. 1 caleb caleb   80 Jun  1 13:02 ..\n",
      "-rwxr-xr-x. 1 caleb caleb 694K Jun  1 13:02 main\n",
      "-rw-r--r--. 1 caleb caleb   77 Jun  1 13:02 main.cc\n",
      "\n"
     ]
    }
   ],
   "source": [
    "sh(\"~/tmp/cppsize3\", \"ls\", &vec![\"-lah\"])?;"
   ]
  },
  {
   "cell_type": "markdown",
   "id": "d15a1c50-f314-4a64-bf84-ef153b6ccf02",
   "metadata": {},
   "source": [
    "And let's also check using the C++ `iostream` stdlib:"
   ]
  },
  {
   "cell_type": "code",
   "execution_count": 55,
   "id": "44e3087d-4cc5-484b-8ac1-0b7ca58c33f6",
   "metadata": {},
   "outputs": [],
   "source": [
    "std::fs::remove_dir_all(\"~/tmp/cppsize2/\").ok();\n",
    "std::fs::create_dir_all(\"~/tmp/cppsize2/\")?;\n",
    "let content = r#\"\n",
    "#include <iostream>\n",
    "int main() {\n",
    "    std::cout << \"Hello world\" << std::endl;\n",
    "    return 0;\n",
    "}\n",
    "\"#;\n",
    "std::fs::write(\"~/tmp/cppsize2/main.cc\", content)?;"
   ]
  },
  {
   "cell_type": "code",
   "execution_count": 56,
   "id": "268393cd-e697-4084-95e2-658bb739f78b",
   "metadata": {},
   "outputs": [],
   "source": [
    "sh(\n",
    "    \"~/tmp/cppsize2\",\n",
    "    \"g++\",\n",
    "    &vec![\"-o\", \"main\", \n",
    "        \"main.cc\", \n",
    "        \"-Ofast\", \n",
    "        \"-std=c++20\", \n",
    "        \"-s\", \n",
    "        \"-flto\", \n",
    "        \"-static-libgcc\", \n",
    "        \"-static-libstdc++\",\n",
    "        \"-static\"  // <--- THIS IS THE EXTRA OPTION\n",
    "    ]\n",
    ")?;"
   ]
  },
  {
   "cell_type": "code",
   "execution_count": 57,
   "id": "b9c47602-ecdc-4c06-9dd4-069e8bc2c075",
   "metadata": {},
   "outputs": [],
   "source": [
    "sh(\"~/tmp/cppsize2\", \"strip\", &vec![\"main\"])?;"
   ]
  },
  {
   "cell_type": "code",
   "execution_count": 58,
   "id": "e559fe94-a582-4300-82e5-400a747f9ed2",
   "metadata": {},
   "outputs": [
    {
     "name": "stdout",
     "output_type": "stream",
     "text": [
      "stdout:\n",
      "total 1.9M\n",
      "drwxr-xr-x. 1 caleb caleb   22 Jun  1 13:03 .\n",
      "drwxr-xr-x. 1 caleb caleb   80 Jun  1 13:03 ..\n",
      "-rwxr-xr-x. 1 caleb caleb 1.8M Jun  1 13:03 main\n",
      "-rw-r--r--. 1 caleb caleb   95 Jun  1 13:03 main.cc\n",
      "\n"
     ]
    }
   ],
   "source": [
    "sh(\"~/tmp/cppsize2\", \"ls\", &vec![\"-lah\"])?;"
   ]
  },
  {
   "cell_type": "markdown",
   "id": "41273f37-e33c-474f-82c1-b7281641bc2e",
   "metadata": {},
   "source": [
    "For Rust:"
   ]
  },
  {
   "cell_type": "code",
   "execution_count": 64,
   "id": "4bfd99f3-a835-4872-acdd-ea15abbc5106",
   "metadata": {},
   "outputs": [],
   "source": [
    "std::fs::remove_dir_all(\"~/tmp/rustsize3/\").ok();\n",
    "std::fs::create_dir_all(\"~/tmp/rustsize3/\")?;\n",
    "let content = r#\"\n",
    "use std::io::{self, Write};\n",
    "\n",
    "fn main() -> io::Result<()> {\n",
    "    io::stdout().write_all(b\"Hello world\\n\")?;\n",
    "    Ok(())\n",
    "}\n",
    "\"#;\n",
    "std::fs::write(\"~/tmp/rustsize3/main.rs\", content)?;"
   ]
  },
  {
   "cell_type": "code",
   "execution_count": 65,
   "id": "716106d0-311a-4eb9-86e1-c3a8a7346ad0",
   "metadata": {},
   "outputs": [],
   "source": [
    "sh(\n",
    "    \"~/tmp/rustsize3\",\n",
    "    \"rustc\",\n",
    "    &vec![\n",
    "        \"-O\", \n",
    "        \"-C\", \"strip=symbols\",\n",
    "        \"-C\", \"lto=on\",\n",
    "        \"-C\", \"codegen-units=1\",\n",
    "        \"-C\", \"opt-level=s\",  // Optimize for size\n",
    "        \"-C\", \"panic=abort\",  // Disable stack-unwinding\n",
    "        \n",
    "        // New\n",
    "        \"-C\", \"target-feature=+crt-static\",\n",
    "        \n",
    "        \"main.rs\", \n",
    "    ]\n",
    ")?;"
   ]
  },
  {
   "cell_type": "code",
   "execution_count": 66,
   "id": "bff90aec-af65-4f78-9a37-85771681021b",
   "metadata": {},
   "outputs": [
    {
     "name": "stdout",
     "output_type": "stream",
     "text": [
      "stdout:\n",
      "total 1.2M\n",
      "drwxr-xr-x. 1 caleb caleb   22 Jun  1 13:07 .\n",
      "drwxr-xr-x. 1 caleb caleb   98 Jun  1 13:07 ..\n",
      "-rwxr-xr-x. 1 caleb caleb 1.2M Jun  1 13:07 main\n",
      "-rw-r--r--. 1 caleb caleb  120 Jun  1 13:07 main.rs\n",
      "\n"
     ]
    }
   ],
   "source": [
    "sh(\"~/tmp/rustsize3\", \"ls\", &vec![\"-lah\"])?;"
   ]
  },
  {
   "cell_type": "markdown",
   "id": "15f56f1a-b7d0-4d24-b36b-5254081e9dbd",
   "metadata": {},
   "source": [
    "And let's also check the `println!()` macro:"
   ]
  },
  {
   "cell_type": "code",
   "execution_count": 48,
   "id": "b2f34e5e-079d-4883-acce-45e76ce96030",
   "metadata": {},
   "outputs": [],
   "source": [
    "std::fs::remove_dir_all(\"~/tmp/rustsize2/\").ok();\n",
    "std::fs::create_dir_all(\"~/tmp/rustsize2/\")?;\n",
    "let content = r#\"\n",
    "fn main() {\n",
    "    println!(\"Hello world\");\n",
    "}\n",
    "\"#;\n",
    "std::fs::write(\"~/tmp/rustsize2/main.rs\", content)?;"
   ]
  },
  {
   "cell_type": "code",
   "execution_count": 49,
   "id": "e839f89f-d504-477c-8879-7d448e0c8f3c",
   "metadata": {},
   "outputs": [],
   "source": [
    "sh(\n",
    "    \"~/tmp/rustsize2\",\n",
    "    \"rustc\",\n",
    "    &vec![\n",
    "        \"-O\", \n",
    "        \"-C\", \"strip=symbols\",\n",
    "        \"-C\", \"lto=on\",\n",
    "        \"-C\", \"codegen-units=1\",\n",
    "        \"-C\", \"opt-level=s\",  // Optimize for size\n",
    "        \"-C\", \"panic=abort\",  // Disable stack-unwinding\n",
    "        \n",
    "        // New\n",
    "        \"-C\", \"target-feature=+crt-static\",\n",
    "        \n",
    "        \"main.rs\", \n",
    "    ]\n",
    ")?;"
   ]
  },
  {
   "cell_type": "code",
   "execution_count": 50,
   "id": "e0dbe023-dcab-4096-8e7a-bdad477abb01",
   "metadata": {},
   "outputs": [
    {
     "name": "stdout",
     "output_type": "stream",
     "text": [
      "stdout:\n",
      "total 1.2M\n",
      "drwxr-xr-x. 1 caleb caleb   22 Jun  1 12:51 .\n",
      "drwxr-xr-x. 1 caleb caleb   64 Jun  1 12:51 ..\n",
      "-rwxr-xr-x. 1 caleb caleb 1.2M Jun  1 12:51 main\n",
      "-rw-r--r--. 1 caleb caleb   44 Jun  1 12:51 main.rs\n",
      "\n"
     ]
    }
   ],
   "source": [
    "sh(\"~/tmp/rustsize2\", \"ls\", &vec![\"-lah\"])?;"
   ]
  },
  {
   "cell_type": "markdown",
   "id": "3699049b-0d4e-4bee-89fe-95f8220ae6d0",
   "metadata": {},
   "source": [
    "When the C++ code is using `printf`, the rust binary is still larger (1.2 MB vs 700 kb), but when the C++ code is using `iostream`, the rust hello-world binary is smaller than the C++ one, by 1.2/1.8 => 34%. (In rust there is no difference whether `println!` or `stdout().write_all()` is used)."
   ]
  },
  {
   "cell_type": "markdown",
   "id": "5320db7e",
   "metadata": {},
   "source": [
    "## Conclusion\n",
    "\n",
    "What do you think this is, a research paper? My parting words are that none of this really matters. Binary size is certainly a concern in certain environments, but the real impact of whether you use Rust, C or C++ is not going to matter. The people working in the embedded space are already all over these issues. If you're interested in the embedded domain, do go check out the [Embedded Rust Working Group](http://blog.rust-embedded.org/)."
   ]
  }
 ],
 "metadata": {
  "kernelspec": {
   "display_name": "Rust",
   "language": "rust",
   "name": "rust"
  },
  "language_info": {
   "codemirror_mode": "rust",
   "file_extension": ".rs",
   "mimetype": "text/rust",
   "name": "Rust",
   "pygment_lexer": "rust",
   "version": ""
  }
 },
 "nbformat": 4,
 "nbformat_minor": 5
}
