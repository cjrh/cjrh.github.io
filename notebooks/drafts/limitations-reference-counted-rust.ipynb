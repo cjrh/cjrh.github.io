{
 "cells": [
  {
   "cell_type": "markdown",
   "id": "b98199c7",
   "metadata": {},
   "source": [
    "# Limitations of reference-counted Rc and Arc types in Rust"
   ]
  },
  {
   "cell_type": "markdown",
   "id": "2bb83373",
   "metadata": {},
   "source": [
    "The important property of `std::rc::Rc` is that clones of it can \n",
    "be moved around. Ownership of those values can be moved around \n",
    "your program, which can sometimes help to around tricky design\n",
    "problems. However, it doesn't solve all problems.\n",
    "\n",
    "Consider the code below. Note that we *move* each clone of the\n",
    "`Rc` into the function being called:"
   ]
  },
  {
   "cell_type": "code",
   "execution_count": 40,
   "id": "c56c4197",
   "metadata": {},
   "outputs": [
    {
     "name": "stdout",
     "output_type": "stream",
     "text": [
      "hey\n",
      "hey\n"
     ]
    },
    {
     "data": {
      "text/plain": [
       "()"
      ]
     },
     "execution_count": 40,
     "metadata": {},
     "output_type": "execute_result"
    }
   ],
   "source": [
    "use std::rc::Rc;\n",
    "\n",
    "fn a(x: Rc<String>) {\n",
    "    println!(\"{}\", x);\n",
    "}\n",
    "\n",
    "fn b(y: Rc<String>) {\n",
    "    println!(\"{}\", y);\n",
    "}\n",
    "\n",
    "pub fn hey() {\n",
    "    let s = \"hey\".to_string();\n",
    "    let r = Rc::new(s);\n",
    "    a(r.clone());\n",
    "    b(r.clone());\n",
    "}\n",
    "\n",
    "hey()"
   ]
  },
  {
   "cell_type": "markdown",
   "id": "528a83f3",
   "metadata": {},
   "source": [
    "Well the question is: what can you do with that? As far as mutability is \n",
    "concerned, not much.\n",
    "\n",
    "The code below is almost the same, but here I'm trying to obtain a\n",
    "mutable ref to the `String` inside one of the clones of the `Rc`:"
   ]
  },
  {
   "cell_type": "code",
   "execution_count": 18,
   "id": "aac51c50",
   "metadata": {},
   "outputs": [
    {
     "name": "stderr",
     "output_type": "stream",
     "text": [
      "thread '<unnamed>' panicked at 'called `Option::unwrap()` on a `None` value', src/lib.rs:15:39\n",
      "stack backtrace:\n",
      "   0: rust_begin_unwind\n",
      "             at /rustc/9bc8c42bb2f19e745a63f3445f1ac248fb015e53/library/std/src/panicking.rs:493:5\n",
      "   1: core::panicking::panic_fmt\n",
      "             at /rustc/9bc8c42bb2f19e745a63f3445f1ac248fb015e53/library/core/src/panicking.rs:92:14\n",
      "   2: core::panicking::panic\n",
      "             at /rustc/9bc8c42bb2f19e745a63f3445f1ac248fb015e53/library/core/src/panicking.rs:50:5\n",
      "   3: run_user_code_5\n",
      "   4: evcxr::runtime::Runtime::run_loop\n",
      "   5: evcxr::runtime::runtime_hook\n",
      "   6: evcxr_jupyter::main\n",
      "note: Some details are omitted, run with `RUST_BACKTRACE=full` for a verbose backtrace.\n",
      "Segmentation fault.\n",
      "   0: evcxr::runtime::Runtime::install_crash_handlers::segfault_handler\n",
      "   1: <unknown>\n",
      "   2: mi_free\n",
      "   3: alloc::alloc::dealloc\n",
      "             at /rustc/9bc8c42bb2f19e745a63f3445f1ac248fb015e53/library/alloc/src/alloc.rs:104:14\n",
      "      <alloc::alloc::Global as core::alloc::Allocator>::deallocate\n",
      "             at /rustc/9bc8c42bb2f19e745a63f3445f1ac248fb015e53/library/alloc/src/alloc.rs:239:22\n",
      "      alloc::alloc::box_free\n",
      "             at /rustc/9bc8c42bb2f19e745a63f3445f1ac248fb015e53/library/alloc/src/alloc.rs:334:9\n",
      "      panic_unwind::real_imp::cleanup\n",
      "             at /rustc/9bc8c42bb2f19e745a63f3445f1ac248fb015e53/library/panic_unwind/src/gcc.rs:83:5\n",
      "      __rust_panic_cleanup\n",
      "             at /rustc/9bc8c42bb2f19e745a63f3445f1ac248fb015e53/library/panic_unwind/src/lib.rs:100:19\n",
      "   4: std::panicking::try::cleanup\n",
      "             at /rustc/9bc8c42bb2f19e745a63f3445f1ac248fb015e53/library/std/src/panicking.rs:360:42\n",
      "   5: std::panicking::try::do_catch\n",
      "             at /rustc/9bc8c42bb2f19e745a63f3445f1ac248fb015e53/library/std/src/panicking.rs:404:23\n",
      "      std::panicking::try\n",
      "             at /rustc/9bc8c42bb2f19e745a63f3445f1ac248fb015e53/library/std/src/panicking.rs:343:19\n",
      "      std::panic::catch_unwind\n",
      "             at /rustc/9bc8c42bb2f19e745a63f3445f1ac248fb015e53/library/std/src/panic.rs:431:14\n",
      "      std::rt::lang_start_internal\n",
      "             at /rustc/9bc8c42bb2f19e745a63f3445f1ac248fb015e53/library/std/src/rt.rs:51:25\n",
      "   6: main\n",
      "   7: __libc_start_main\n",
      "   8: _start\n",
      "\n"
     ]
    },
    {
     "ename": "Error",
     "evalue": "Child process terminated with status: signal: 6 (core dumped)",
     "output_type": "error",
     "traceback": [
      "Child process terminated with status: signal: 6 (core dumped)"
     ]
    }
   ],
   "source": [
    "fn a(mut x: Rc<String>) {\n",
    "    let mut z = &*Rc::get_mut(&mut x).unwrap();\n",
    "    println!(\"{}\", z);\n",
    "}\n",
    "\n",
    "fn b(y: Rc<String>) {\n",
    "    println!(\"{}\", y);\n",
    "}\n",
    "\n",
    "pub fn hey() {\n",
    "    let s = \"hey\".to_string();\n",
    "    let r = Rc::new(s);\n",
    "    a(r.clone());\n",
    "    b(r.clone());\n",
    "}\n",
    "\n",
    "hey()"
   ]
  },
  {
   "cell_type": "markdown",
   "id": "2a649ba3",
   "metadata": {},
   "source": [
    "It doesn't go well. The problem here is that the `Option` you get back from `Rc::get_mut` returns `None` because\n",
    "you're not allowed to mutate the string since it's being referenced in another `Rc` somewhere else (in function `b()`). So even though `Rc` does easily let you move ownership around (of the wrapper), it doesn't make mutation any easier."
   ]
  },
  {
   "cell_type": "markdown",
   "id": "7e4d0462",
   "metadata": {},
   "source": [
    "However, `Rc` does let you do interesting things for read-only situations that would otherwise be cumbersome. For example, we can make two structs reference each other quite easily:"
   ]
  },
  {
   "cell_type": "code",
   "execution_count": 39,
   "id": "da0b2512",
   "metadata": {},
   "outputs": [
    {
     "data": {
      "text/plain": [
       "(Node { id: 1, other: Some(Node { id: 2, other: None }) }, 1)"
      ]
     },
     "execution_count": 39,
     "metadata": {},
     "output_type": "execute_result"
    }
   ],
   "source": [
    "#[derive(Debug)]\n",
    "struct Node {\n",
    "    id: usize,\n",
    "    other: Option<Rc<Node>>\n",
    "}\n",
    "\n",
    "let mut n1 = Node { id: 1, other: None };\n",
    "let n2 = Node { id: 2, other: None };\n",
    "\n",
    "n1.other = Some(Rc::new(n2));\n",
    "\n",
    "let mut r = Rc::new(n1);\n",
    "let mut n2 = &mut *Rc::get_mut(&mut r).unwrap();\n",
    "\n",
    "//let mut n2 = &mut *Rc::get_mut(&mut n2r).unwrap();\n",
    "//drop(n2);\n",
    "\n",
    "\n",
    "\n",
    "fn attach(mut n: &mut Rc<Node>, other: &Rc<Node>) {\n",
    "    let mut inner = &mut *Rc::get_mut(n).unwrap();\n",
    "    inner.other = Some(other.clone());\n",
    "}\n",
    "\n",
    "\n",
    "(&r, 1)"
   ]
  },
  {
   "cell_type": "code",
   "execution_count": null,
   "id": "40f81a20",
   "metadata": {},
   "outputs": [],
   "source": []
  }
 ],
 "metadata": {
  "kernelspec": {
   "display_name": "Rust",
   "language": "rust",
   "name": "rust"
  },
  "language_info": {
   "codemirror_mode": "rust",
   "file_extension": ".rs",
   "mimetype": "text/rust",
   "name": "Rust",
   "pygment_lexer": "rust",
   "version": ""
  }
 },
 "nbformat": 4,
 "nbformat_minor": 5
}
