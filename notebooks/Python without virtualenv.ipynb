{
 "cells": [
  {
   "cell_type": "markdown",
   "metadata": {},
   "source": [
    "# Python programming without virtualenv\n",
    "\n",
    "There is a way to work with Python without any kind of virtual environments, but still have different dependency requirements (and versions) for different projects. Here's how: when starting a new project, install dependencies like this:\n",
    "```bash\n",
    "$ PYTHONUSERBASE=$PWD/.pkgs python3 -m pip install --user requests flask\n",
    "```    \n",
    "For sake of demonstration, I'm installing the popular third-party `requests` and `flask` packages. The above command does the following:\n",
    "\n",
    "1. Overrides the `PYTHONUSERBASE` environment variable, to point to a new `.pkgs` directory in the current directory (`.pkgs` will be created if missing).\n",
    "2. Installs the packages with the `--user` flag\n",
    "\n",
    "Once this is done, you will have to execute your application, and your test runs, with the following commands:\n",
    "\n",
    "- Run the program (assume it's called `main.py`:\n",
    "```bash\n",
    "$ PYTHONUSERBASE=$PWD/.pkgs python3 main.py\n",
    "```\n",
    "    \n",
    "- Run your tests:\n",
    "```bash\n",
    "$ PYTHONUSERBASE=$PWD/.pkgs python3 -m pytest\n",
    "```    \n",
    "\n",
    "### The small print\n",
    "\n",
    "There are several caveats to this approach:\n",
    "\n",
    "1. By default, you won't override packages installed in the base Python installation. `pip` will refuse to install such existing packages into your new `--user` environment. It is possible to handle this, but requires extra flags. For example, suppose you had already installed your *distribution-supplied* versions of `requests` and `flask`, but you wanted to install newer versions in a local `.pkgs/` directory in the current dir. Do that like this:\n",
    "```bash\n",
    "$ PYTHONUSERBASE=$PWD/.pkgs python3 -m pip install --ignore-installed --user requests flask\n",
    "```    \n",
    "2. You would have to always remember to call python in this way, i.e., with the `PYTHONUSERBASE` stuff out front. Fortunately this is quite easy to handle: just make the following shell script (or equivalent batch file):\n",
    "```bash\n",
    "# pylocal.sh\n",
    "if [ -d \"$PWD/.pkgs\" ]\n",
    "then\n",
    "    PYTHONUSERBASE=\"$PWD/.pkgs\" python3 \"$@\" \n",
    "fi\n",
    "```\n",
    "After you make that script executable and put it on your path somehwere, (perhaps `~/bin`, that kind of thing), then you can execute your programs with your new command instead. Our two examples from before:"
   ]
  },
  {
   "cell_type": "markdown",
   "metadata": {},
   "source": [
    "- Run the program (assume it's called `main.py`:\n",
    "```bash\n",
    "$ pylocal main.py\n",
    "```\n",
    "    \n",
    "- Run your tests:\n",
    "```bash\n",
    "$ pylocal -m pytest\n",
    "```    "
   ]
  },
  {
   "cell_type": "code",
   "execution_count": null,
   "metadata": {},
   "outputs": [],
   "source": []
  }
 ],
 "metadata": {
  "kernelspec": {
   "display_name": "Python 3",
   "language": "python",
   "name": "python3"
  },
  "language_info": {
   "codemirror_mode": {
    "name": "ipython",
    "version": 3
   },
   "file_extension": ".py",
   "mimetype": "text/x-python",
   "name": "python",
   "nbconvert_exporter": "python",
   "pygments_lexer": "ipython3",
   "version": "3.6.5"
  }
 },
 "nbformat": 4,
 "nbformat_minor": 2
}
