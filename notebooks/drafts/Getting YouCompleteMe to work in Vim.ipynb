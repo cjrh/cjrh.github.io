{
 "cells": [
  {
   "cell_type": "markdown",
   "metadata": {},
   "source": [
    "# Getting YouCompleteMe to work!\n",
    "\n",
    "[YouCompleteMe]() is a plugin for the [Vim]() text editor.  It does automagic completion for several languages including Python (using [Jedi](), C/C++ (using clang), Rust, Javascript (using [Tern]()) and Go.  For a long time I avoided using it because at the time I had to work on Windows and it was a real pain to install correctly.  Instead, I got by with using _jedi-vim_ directly.\n",
    "\n",
    "My habits carried over to my Mac, and after about 3 years I decided to try again.  Unfortunately, getting this working was almost as bad.  Here is the main issue: YouCompleteMe is a C++ plugin, and it requires compilation and linking against external code to work correctly.\n",
    "\n",
    "My problems were related to the version of Python being dynamically linked-to.  Considering _only Python 2_, I have\n",
    "- The system (OS X) version (2.7.10)\n",
    "- The [Homebrew] version (2.7.11)\n",
    "- The one I actually use, an anaconda installation in my home folder (2.7.11).\n",
    "\n",
    "My Vim installation is not compiled against Python 3 (intentionally), but it's worth pointing out that I have several of these as well.  For example, I also have installed Python 3 from Homebrew (3.5.1).  And then there are the environments:\n",
    "- _Sixteen_ virtualenvs in my home folder alone, and another dozen sprinkled in various project directories\n",
    "- _35 (thirty five!) [Conda]() envs also in my anaconda folder, including various versions from 2.6 to 3.5.\n",
    "\n",
    "So my computer overflowing with snakes.\n",
    "\n",
    "I point this out so that you understand how easy it is to make mistakes when you link C/C++ libraries against things dynamically. When you `brew install vim`, by default it wants to link to the Homebrew-supplied python.  This is a good thing because that way everything that got installed via Homebrew is internally consistent.\n"
   ]
  }
 ],
 "metadata": {
  "kernelspec": {
   "display_name": "Python 3",
   "language": "python",
   "name": "python3"
  },
  "language_info": {
   "codemirror_mode": {
    "name": "ipython",
    "version": 3.0
   },
   "file_extension": ".py",
   "mimetype": "text/x-python",
   "name": "python",
   "nbconvert_exporter": "python",
   "pygments_lexer": "ipython3",
   "version": "3.5.1"
  }
 },
 "nbformat": 4,
 "nbformat_minor": 0
}