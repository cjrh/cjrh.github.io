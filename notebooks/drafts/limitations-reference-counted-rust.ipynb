{
 "cells": [
  {
   "cell_type": "markdown",
   "id": "b98199c7",
   "metadata": {},
   "source": [
    "# Limitations of reference-counted Rc and Arc types in Rust"
   ]
  },
  {
   "cell_type": "markdown",
   "id": "2bb83373",
   "metadata": {},
   "source": [
    "The important property of `std::rc::Rc` is that clones of it can \n",
    "be moved around. Ownership of those values can be moved around \n",
    "your program, which can sometimes help to around tricky design\n",
    "problems. However, it doesn't solve all problems.\n",
    "\n",
    "## Rc\n",
    "\n",
    "Consider the code below. Note that we *move* each clone of the\n",
    "`Rc` into the function being called:"
   ]
  },
  {
   "cell_type": "code",
   "execution_count": 2,
   "id": "c56c4197",
   "metadata": {},
   "outputs": [
    {
     "name": "stdout",
     "output_type": "stream",
     "text": [
      "hey\n",
      "hey\n"
     ]
    },
    {
     "data": {
      "text/plain": [
       "()"
      ]
     },
     "execution_count": 2,
     "metadata": {},
     "output_type": "execute_result"
    }
   ],
   "source": [
    "use std::rc::Rc;\n",
    "\n",
    "fn a(x: Rc<String>) {\n",
    "    println!(\"{}\", x);\n",
    "}\n",
    "\n",
    "fn b(y: Rc<String>) {\n",
    "    println!(\"{}\", y);\n",
    "}\n",
    "\n",
    "pub fn hey() {\n",
    "    let s = \"hey\".to_string();\n",
    "    let r = Rc::new(s);\n",
    "    a(r.clone());\n",
    "    b(r.clone());\n",
    "}\n",
    "\n",
    "hey()"
   ]
  },
  {
   "cell_type": "markdown",
   "id": "528a83f3",
   "metadata": {},
   "source": [
    "Well the question is: what can you do with that? As far as mutability is \n",
    "concerned, not much.  There is support for obtaining a mutable reference\n",
    "to the thing inside the `Rc`, but the issue is that when you call\n",
    "`Rc::get_mut()`, what you *actually* get back is an `Option`, which \n",
    "will be `None` if you have a cloned `Rc` of your `Rc` anywhere \n",
    "else.  So you can't really do very much with this mutation support\n",
    "other than perhaps some kind of initialization or something.\n",
    "\n",
    "Example:\n",
    "\n",
    "The code below is almost the same as the previous one, but here I'm \n",
    "trying to obtain a mutable ref to the `String` inside one of the \n",
    "clones of the `Rc`:"
   ]
  },
  {
   "cell_type": "code",
   "execution_count": 3,
   "id": "aac51c50",
   "metadata": {},
   "outputs": [
    {
     "name": "stderr",
     "output_type": "stream",
     "text": [
      "thread '<unnamed>' panicked at 'called `Option::unwrap()` on a `None` value', src/lib.rs:7:39\n",
      "stack backtrace:\n",
      "   0: rust_begin_unwind\n",
      "             at /rustc/9bc8c42bb2f19e745a63f3445f1ac248fb015e53/library/std/src/panicking.rs:493:5\n",
      "   1: core::panicking::panic_fmt\n",
      "             at /rustc/9bc8c42bb2f19e745a63f3445f1ac248fb015e53/library/core/src/panicking.rs:92:14\n",
      "   2: core::panicking::panic\n",
      "             at /rustc/9bc8c42bb2f19e745a63f3445f1ac248fb015e53/library/core/src/panicking.rs:50:5\n",
      "   3: run_user_code_3\n",
      "   4: evcxr::runtime::Runtime::run_loop\n",
      "   5: evcxr::runtime::runtime_hook\n",
      "   6: evcxr_jupyter::main\n",
      "note: Some details are omitted, run with `RUST_BACKTRACE=full` for a verbose backtrace.\n",
      "Segmentation fault.\n",
      "   0: evcxr::runtime::Runtime::install_crash_handlers::segfault_handler\n",
      "   1: <unknown>\n",
      "   2: mi_free\n",
      "   3: alloc::alloc::dealloc\n",
      "             at /rustc/9bc8c42bb2f19e745a63f3445f1ac248fb015e53/library/alloc/src/alloc.rs:104:14\n",
      "      <alloc::alloc::Global as core::alloc::Allocator>::deallocate\n",
      "             at /rustc/9bc8c42bb2f19e745a63f3445f1ac248fb015e53/library/alloc/src/alloc.rs:239:22\n",
      "      alloc::alloc::box_free\n",
      "             at /rustc/9bc8c42bb2f19e745a63f3445f1ac248fb015e53/library/alloc/src/alloc.rs:334:9\n",
      "      core::ptr::drop_in_place<alloc::boxed::Box<dyn core::any::Any+core::marker::Send>>\n",
      "             at /rustc/9bc8c42bb2f19e745a63f3445f1ac248fb015e53/library/core/src/ptr/mod.rs:187:1\n",
      "      core::ptr::drop_in_place<core::result::Result<i32,alloc::boxed::Box<dyn core::any::Any+core::marker::Send>>>\n",
      "             at /rustc/9bc8c42bb2f19e745a63f3445f1ac248fb015e53/library/core/src/ptr/mod.rs:187:1\n",
      "      core::result::Result<T,E>::unwrap_or\n",
      "             at /rustc/9bc8c42bb2f19e745a63f3445f1ac248fb015e53/library/core/src/result.rs:801:5\n",
      "      std::rt::lang_start_internal\n",
      "             at /rustc/9bc8c42bb2f19e745a63f3445f1ac248fb015e53/library/std/src/rt.rs:54:9\n",
      "   4: main\n",
      "   5: __libc_start_main\n",
      "   6: _start\n",
      "\n"
     ]
    },
    {
     "ename": "Error",
     "evalue": "Child process terminated with status: signal: 6 (core dumped)",
     "output_type": "error",
     "traceback": [
      "Child process terminated with status: signal: 6 (core dumped)"
     ]
    }
   ],
   "source": [
    "fn a(mut x: Rc<String>) {\n",
    "    let mut z = &*Rc::get_mut(&mut x).unwrap();\n",
    "    println!(\"{}\", z);\n",
    "}\n",
    "\n",
    "fn b(y: Rc<String>) {\n",
    "    println!(\"{}\", y);\n",
    "}\n",
    "\n",
    "pub fn hey() {\n",
    "    let s = \"hey\".to_string();\n",
    "    let r = Rc::new(s);\n",
    "    a(r.clone());\n",
    "    b(r.clone());\n",
    "}\n",
    "\n",
    "hey()"
   ]
  },
  {
   "cell_type": "markdown",
   "id": "2a649ba3",
   "metadata": {},
   "source": [
    "It doesn't go well. The problem here is that the `Option` you get back from `Rc::get_mut` returns `None` because\n",
    "you're not allowed to mutate the string since it's being referenced in another `Rc` somewhere else (in function `b()`). So even though `Rc` does easily let you move ownership around (of the wrapper), it doesn't make mutation any easier."
   ]
  },
  {
   "cell_type": "code",
   "execution_count": 45,
   "id": "da0b2512",
   "metadata": {},
   "outputs": [
    {
     "name": "stdout",
     "output_type": "stream",
     "text": [
      "Mutex { data: Node { id: 2, other: Some(Mutex { data: Node { id: 1, other: Some(Mutex { data: <locked> }) } }) } }\n",
      "Mutex { data: Node { id: 1, other: Some(Mutex { data: Node { id: 2, other: Some(Mutex { data: <locked> }) } }) } }\n",
      "Mutex { data: Node { id: 3, other: Some(Mutex { data: Node { id: 1, other: Some(Mutex { data: <locked> }) } }) } }\n",
      "Mutex { data: Node { id: 1, other: Some(Mutex { data: Node { id: 3, other: Some(Mutex { data: <locked> }) } }) } }\n",
      "Mutex { data: Node { id: 3, other: Some(Mutex { data: Node { id: 4, other: Some(Mutex { data: <locked> }) } }) } }\n",
      "Mutex { data: Node { id: 4, other: Some(Mutex { data: Node { id: 3, other: Some(Mutex { data: <locked> }) } }) } }\n",
      "Mutex { data: Node { id: 3, other: Some(Mutex { data: Node { id: 10, other: Some(Mutex { data: <locked> }) } }) } }\n",
      "Mutex { data: Node { id: 10, other: Some(Mutex { data: Node { id: 3, other: Some(Mutex { data: <locked> }) } }) } }\n"
     ]
    }
   ],
   "source": [
    "use std::sync::{Arc, Mutex};\n",
    "\n",
    "#[derive(Debug)]\n",
    "struct Node {\n",
    "    id: usize,\n",
    "    other: Option<Arc<Mutex<Node>>>,\n",
    "}\n",
    "\n",
    "let mut n1 = Node { id: 1, other: None };\n",
    "let mut n2 = Node { id: 2, other: None };\n",
    "\n",
    "let original = Arc::new(Mutex::new(n2));\n",
    "let or1 = original.clone();\n",
    "n1.other = Some(original.clone());\n",
    "\n",
    "let or2 = {\n",
    "    let mut n = original.lock().unwrap();\n",
    "    let tmp = Arc::new(Mutex::new(n1));\n",
    "    let result = tmp.clone();\n",
    "    (*n).other = Some(tmp);\n",
    "    result\n",
    "};\n",
    "\n",
    "println!(\"{:?}\", &or1);\n",
    "println!(\"{:?}\", &or2);\n",
    "//(or1, or2)\n",
    "\n",
    "or1.lock().unwrap().id = 3;\n",
    "println!(\"{:?}\", &or1);\n",
    "println!(\"{:?}\", &or2);\n",
    "\n",
    "or2.lock().unwrap().id = 4;\n",
    "println!(\"{:?}\", &or1);\n",
    "println!(\"{:?}\", &or2);\n",
    "\n",
    "if let Some(n) = &or1.lock().unwrap().other {\n",
    "    n.lock().unwrap().id = 10;\n",
    "};\n",
    "println!(\"{:?}\", &or1);\n",
    "println!(\"{:?}\", &or2);\n",
    "\n"
   ]
  },
  {
   "cell_type": "code",
   "execution_count": null,
   "id": "40f81a20",
   "metadata": {},
   "outputs": [],
   "source": [
    "\n"
   ]
  }
 ],
 "metadata": {
  "kernelspec": {
   "display_name": "Rust",
   "language": "rust",
   "name": "rust"
  },
  "language_info": {
   "codemirror_mode": "rust",
   "file_extension": ".rs",
   "mimetype": "text/rust",
   "name": "Rust",
   "pygment_lexer": "rust",
   "version": ""
  },
  "toc": {
   "base_numbering": 1,
   "nav_menu": {},
   "number_sections": false,
   "sideBar": true,
   "skip_h1_title": false,
   "title_cell": "Table of Contents",
   "title_sidebar": "Contents",
   "toc_cell": false,
   "toc_position": {},
   "toc_section_display": true,
   "toc_window_display": false
  }
 },
 "nbformat": 4,
 "nbformat_minor": 5
}
