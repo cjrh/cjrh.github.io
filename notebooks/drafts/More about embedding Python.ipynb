{
 "cells": [
  {
   "cell_type": "markdown",
   "id": "83e234cb",
   "metadata": {},
   "source": [
    "# More about embedding Python: `site.py`"
   ]
  },
  {
   "cell_type": "markdown",
   "id": "7320f0ae",
   "metadata": {},
   "source": [
    "I wrote about the minimal possible way to embed Python here (link). It turns out that this is incomplete, because parts of the standard library require loading binary extensions, and the binary parts of these standard library modules are available in the `DLLs` folder (on Windows) in the default Python installation structure. Since you cannot included the binary extension modules inside the `pythonXY.zip` archive of the `lib` folder contents, it means that this strategy won't work.\n",
    "\n",
    "You have two options:\n",
    "0. add the standard library as a `lib` folder inside the folder where the main binary (i.e. the program that is doing the embedding), as well as a `DLLs` folder. This would typically be done by copying these folders from a brand new python installation somewhere. `site-packages` need only contain 3rd party libraries that are required by the embedding application.\n",
    "0. use a `site.py` file alongside the embedding binary, and inside that file write something like\n",
    "```python\n",
    "# site.py\n",
    "import sys\n",
    "sys.path.insert(0, \"C:/MyPathToSomePython/lib\")\n",
    "sys.path.insert(0, \"C:/MyPathToSomePython/DLLs\")\n",
    "```\n",
    "Note that the version of Python in `MyPathToSomePython` must exactly match the `pythonXY.dll` that the embedding application is loading."
   ]
  },
  {
   "cell_type": "code",
   "execution_count": null,
   "id": "76828f69",
   "metadata": {},
   "outputs": [],
   "source": []
  }
 ],
 "metadata": {
  "kernelspec": {
   "display_name": "Python 3",
   "language": "python",
   "name": "python3"
  },
  "language_info": {
   "codemirror_mode": {
    "name": "ipython",
    "version": 3
   },
   "file_extension": ".py",
   "mimetype": "text/x-python",
   "name": "python",
   "nbconvert_exporter": "python",
   "pygments_lexer": "ipython3",
   "version": "3.8.5"
  },
  "toc": {
   "base_numbering": 1,
   "nav_menu": {},
   "number_sections": true,
   "sideBar": true,
   "skip_h1_title": false,
   "title_cell": "Table of Contents",
   "title_sidebar": "Contents",
   "toc_cell": false,
   "toc_position": {},
   "toc_section_display": true,
   "toc_window_display": false
  }
 },
 "nbformat": 4,
 "nbformat_minor": 1
}
