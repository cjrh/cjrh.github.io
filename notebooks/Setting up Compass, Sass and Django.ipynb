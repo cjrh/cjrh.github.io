{
 "cells": [
  {
   "cell_type": "markdown",
   "metadata": {},
   "source": [
    "# Setting up Compass, Sass and Django"
   ]
  },
  {
   "cell_type": "markdown",
   "metadata": {},
   "source": [
    "Brandon Rhodes gives a [great tutorial](http://rhodesmill.org/brandon/2011/adding-compass/) on how to add Compass to a [Django](https://www.djangoproject.com/) project. In that tutorial, the first step is to create a `compass` folder, and inside that folder, run an `install.sh` script to create the gems required for Compass.  I had trouble with the line inside this script that looks like this:\n",
    "\n",
    "```shell\n",
    "BASE=$(dirname $(readlink -f $(which \"$0\")))\n",
    "```\n",
    "\n",
    "For some reason on my Mac, `readlink` was missing. Instead, I [found](http://stackoverflow.com/questions/59895/can-a-bash-script-tell-what-directory-its-stored-in) a different way of obtaining the folder in which a script resides, and so my `install.sh` looks like this:"
   ]
  },
  {
   "cell_type": "markdown",
   "metadata": {},
   "source": [
    "```shell\n",
    "#!/bin/bash\n",
    "# compass/install.sh - install Compass under the \"./Gem\" directory\n",
    "\n",
    "if ! which gem >/dev/null ;then\n",
    "    echo 'Error: no \"gem\" command available'\n",
    "    echo 'Please install Ruby.'\n",
    "    exit 1\n",
    "fi\n",
    "BASE=$( cd \"$( dirname \"${BASH_SOURCE[0]}\" )\" && pwd )\n",
    "cd $BASE  # the directory where this script lives\n",
    "gem install -i Gem compass\n",
    "gem install -i Gem compass-susy-plugin\n",
    "```"
   ]
  },
  {
   "cell_type": "markdown",
   "metadata": {},
   "source": [
    "The same occurs in the second script, `compass.sh`:"
   ]
  },
  {
   "cell_type": "markdown",
   "metadata": {},
   "source": [
    "```shell\n",
    "#!/bin/bash\n",
    "# compass/compass.sh - properly invoke the \"Compass\" program\n",
    "\n",
    "BASE=$( cd \"$( dirname \"${BASH_SOURCE[0]}\" )\" && pwd )\n",
    "export GEM_HOME=$BASE/Gem\n",
    "export RUBYLIB=$BASE/Gem/lib\n",
    "$BASE/Gem/bin/compass \"$@\"\n",
    "```"
   ]
  },
  {
   "cell_type": "markdown",
   "metadata": {},
   "source": [
    "The remainder of the tutorial remains the same."
   ]
  }
 ],
 "metadata": {
  "kernelspec": {
   "display_name": "Python 2",
   "language": "python",
   "name": "python2"
  },
  "language_info": {
   "codemirror_mode": {
    "name": "ipython",
    "version": 2
   },
   "file_extension": ".py",
   "mimetype": "text/x-python",
   "name": "python",
   "nbconvert_exporter": "python",
   "pygments_lexer": "ipython2",
   "version": "2.7.10"
  }
 },
 "nbformat": 4,
 "nbformat_minor": 0
}
