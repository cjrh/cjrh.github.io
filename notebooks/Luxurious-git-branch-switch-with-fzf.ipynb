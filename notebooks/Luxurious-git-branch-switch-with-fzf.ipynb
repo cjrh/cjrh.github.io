{
 "cells": [
  {
   "cell_type": "markdown",
   "id": "80556caa-c311-483e-b667-9c6dcbb88f32",
   "metadata": {},
   "source": [
    "# Luxurious git branch switch with fzf\n",
    "\n",
    "Put the following in your `.bashrc`:\n",
    "\n",
    "```bash\n",
    "# This function must return either upstream/main or upstream/master,\n",
    "# depending on which one is present. If both are present it should\n",
    "# return upstream/main. If neither are present it should return\n",
    "# origin/main or origin/master, depending on which is present.\n",
    "function test_remote_branch_exists() {\n",
    "    local branch_name=\"$1\"\n",
    "    git branch --remote --list \"$branch_name\" | grep -q \"$branch_name\" && echo \"$branch_name\" || echo \"\"\n",
    "}\n",
    "\n",
    "export -f test_remote_branch_exists\n",
    "\n",
    "\n",
    "function get_primary_remote() {\n",
    "    local upstream_main_exists=$(test_remote_branch_exists \"upstream/main\")\n",
    "    if [ -n \"$upstream_main_exists\" ]; then\n",
    "        echo \"upstream/main\"\n",
    "        return\n",
    "    fi\n",
    "    upstream_master_exists=$(test_remote_branch_exists \"upstream/master\")\n",
    "    if [ -n \"$upstream_master_exists\" ]; then\n",
    "        echo \"upstream/master\"\n",
    "        return\n",
    "    fi\n",
    "    origin_main_exists=$(test_remote_branch_exists \"origin/main\")\n",
    "    if [ -n \"$origin_main_exists\" ]; then\n",
    "        echo \"origin/main\"\n",
    "        return\n",
    "    fi\n",
    "    origin_master_exists=$(test_remote_branch_exists \"origin/master\")\n",
    "    if [ -n \"$origin_master_exists\" ]; then\n",
    "        echo \"origin/master\"\n",
    "        return\n",
    "    fi\n",
    "}\n",
    "\n",
    "export -f get_primary_remote\n",
    "\n",
    "function show_branch_diff() {\n",
    "    local target_branch=\"$1\"\n",
    "    git diff --color=always \"$(base_commit \"$target_branch\")\" \"$target_branch\"\n",
    "}\n",
    "\n",
    "export -f show_branch_diff\n",
    "\n",
    "function base_commit() {\n",
    "    local target_branch=\"$1\"\n",
    "    git merge-base \"$(get_primary_remote)\" \"$target_branch\"\n",
    "}\n",
    "export -f base_commit\n",
    "\n",
    "# Have to add the branch here\n",
    "# alias gcb='git branch --sort=-committerdate | fzf | xargs git checkout'\n",
    "alias gcb='git branch | fzf --preview \"show_branch_diff {-1}\" | cut -c 3- | xargs git checkout'\n",
    "```"
   ]
  },
  {
   "cell_type": "markdown",
   "id": "133717c6-7d92-412b-991b-4283f4277230",
   "metadata": {},
   "source": [
    "Now, the `gcb` command will show you a fuzzy finder with diff preview on all your git branches"
   ]
  },
  {
   "cell_type": "code",
   "execution_count": null,
   "id": "3bcd3a8a-3bc8-4a98-b3c5-3614266d8011",
   "metadata": {},
   "outputs": [],
   "source": []
  }
 ],
 "metadata": {
  "kernelspec": {
   "display_name": "Python 3 (ipykernel)",
   "language": "python",
   "name": "python3"
  },
  "language_info": {
   "codemirror_mode": {
    "name": "ipython",
    "version": 3
   },
   "file_extension": ".py",
   "mimetype": "text/x-python",
   "name": "python",
   "nbconvert_exporter": "python",
   "pygments_lexer": "ipython3",
   "version": "3.12.3"
  }
 },
 "nbformat": 4,
 "nbformat_minor": 5
}
