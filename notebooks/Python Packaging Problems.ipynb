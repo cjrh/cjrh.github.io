{
 "cells": [
  {
   "cell_type": "markdown",
   "metadata": {},
   "source": [
    "# Python Packaging Problems"
   ]
  },
  {
   "cell_type": "markdown",
   "metadata": {},
   "source": [
    "As I write this, I am currently in the process of completing the server infrastructure for my startup, [codermoji](http://codermoji.com), which is proudly created on a Python stack.\n",
    "\n",
    "_Proudly_, though, is bittersweet.  Again and again I have been burned by the so-called _python packaging problem_. I have been using Python for fifteen years. I have heard all the talk; followed the online discussions; seen tools come and go. Even for someone like me, getting Python code working on a new computer is very frustrating.\n",
    "\n",
    "I also mentor at [CoderDojo](http://coderdojo.com), a coding club for kids aged nominally 7-17, run on Saturdays. I have a very, very clear idea of what it is like for beginners. And the Python story is really terrible in this environment, for multiple reasons.\n",
    "\n",
    "It always comes back to the _Python packaging problem_; however, I think that's a [misnomer](http://www.dictionary.com/browse/misnomer).  What do we mean by _packaging probem_?  There are hundreds of ways to package python code! (That proliferation is also a problem, but let's not get side-tracked). I think we should rather call it the **Python Deployment Problem**. \n",
    "\n",
    "I think we need to frame the discussion in a different way. The most active folks in these discussions tend to be, for obvious reasons, highly experienced software engineers who have to deal with the harsh complexities of software distribution, packaging and deployment, down to the OS-distribution level in a multi-platform environment.  Instead, let's rather work with **user stories** and see whether we have a solution for each user story. \n",
    "\n",
    "Sound good? Let's begin."
   ]
  },
  {
   "cell_type": "markdown",
   "metadata": {},
   "source": [
    "# The beginner\n",
    "\n",
    "The beginner is someone who either owns or accesses a computer, but doesn't know how to code, nor is familiar with the command line.  There are three main activities that the beginner wants to do:\n",
    "\n",
    "0. Install a dev environment\n",
    "0. Use a dev environment\n",
    "0. Put applications on other computers (e.g. show Mom, Dad, and their friends a new program they made)\n",
    "\n",
    "If you have any experience whatsoever in teaching kids to code, you will understand that familiar pain of trying to explain that mom needs to first install Python before your code will run. (Oh, and it has to be the right version of Python; Oh and does mum use Windows or Mac? Oh, and Mum needs to run a command-line command to install the dependencies of your program...)"
   ]
  },
  {
   "cell_type": "markdown",
   "metadata": {},
   "source": [
    "### Installing\n",
    "\n",
    "#### Windows\n",
    "\n",
    "On Windows, installing stock Python from Python.org is a pretty good experience. It exactly matches the way every other software is installed, in that you download a single installer file and run it, answer a few questions, and the installer exits. It is also important to point out that uninstalling Python also works exactly like other programs, in that you can use the *Programs* section in the *Control Panel* to uninstall.\n",
    "\n",
    "Actually, on Windows, the user is spoilt for choice. All of the Python distributions have graphical installers that \"just work\". There are two Python distributions that will also \"just work\" **later** when you try to install packages that require binary dependencies:\n",
    "- [Anaconda Python](http://continuum.io/downloads)\n",
    "- [WinPython](http://winpython.github.io/)\n",
    "\n",
    "#### Mac OSX\n",
    "\n",
    "On Mac, it's a bit trickier. Firstly, you're **stuck with legacy Python** if you just use what's already installed.  Secondly, please, **please** don't feel good about the fact that OSX \"ships with Python\". This Python is for the operating system. It's <u>not for users</u>. You need admin rights to install additional packages, and upgrading packages might break something in the system. It is better to tell people that Mac OSX does **not** include a Python for user programs, and that they should install a new one, just like you have to do with Windows. Does that sound harsh? It isn't mean to be. _Harsh_ is pretending that everything is going to be 💯  if your beginner user happily plays with the system Python; cruel even!\n",
    "\n",
    "So you do the honorable thing and suggest that a different Python should be installed; which one to install? The obvious one is the download from python.org.  First, let's note that the download is a **.pkg** file and not a **.dmg** bundle. The [official docs](https://docs.python.org/3/using/mac.html#getting-and-installing-macpython) say that for _uninstallation_, the stuff that will get installed will all have to be deleted manually, one at a time.\n",
    "\n",
    "Stop.  Pause.  Read that again.  Yes, this really is the _recommended way_.\n",
    "\n",
    "This is **incredibly** unlike the normal way OSX bundles get uninstalled, which is to drag the application bundle in \"Applications\" and drop it into the trash can on the dock.\n",
    "\n",
    "That's the first smell.  The second one is the installer warning saying *IDLE and other programs using tkinter require specific versions of the Tcl/Tk platform independent windowing toolkit*. And then there is a link to somewhere else for \"current information\". A beginner **doesn't know what this means**.  An expert knows the Python installer will not install a proper version of Tk, and that you will have to manually install ActiveTcl.  That installation also *won't* be a `.dmg` application bundle, **will** create a bunch of files all over the place, and will require [running a script](http://docs.activestate.com/activetcl/8.5/at.install.html#uninstall) to do the uninstallation. Remember, our beginner will not understand what to do, and/or get it wrong. They may not even know where to look to find information about it.\n",
    "\n",
    "So what are the other options?  Well, most expert users on Mac (that I know anyway, [YMMV](https://www.urbandictionary.com/define.php?term=ymmv)) **first** check http://brew.sh/ to install system-like things and so are likely to try there first for Python and/or Tk. But beginners won't.\n",
    "\n",
    "Personally, I use [Anaconda Python](http://continuum.io/downloads) on Mac for several reasons:\n",
    "- It installs into my home folder (and therefore doesn't interfere with the system),\n",
    "- Into a single folder that I can easily delete (uninstallation is completely painless),\n",
    "- Includes many binary packages that can be installed without requiring other deps (particularly system dependencies)\n",
    "- Automatically includes a tool for virtual environments (we get to this later)\n",
    "\n",
    "However, it still requires command-line work which makes it difficult for beginners to get started immediately.\n",
    "\n",
    "So, honestly, I don't think there is a good solution right now for installing Python for beginners. Just various levels of broken. If I was personally involved in the installation process, I would install Anaconda Python on the user's machine, but for a general recommendation to someone, somewhere else where I would be unable to intervene if necessary, probably just the stock installer from python.org. That, and a \"Good Luck!\" and, \"Ask for help online if you get stuck.\"\n",
    "\n",
    "#### Linux\n",
    "\n",
    "Beginners? There can't be too many.  In my classes I haven't seen a single child with a Linux machine. Nor would I recommend any try it. The user experience is really terrible, particularly with hardware support.\n",
    "\n",
    "As with OSX, I consider the built-in Python to be for the operating system, not for user programs, so I would want to encourage the user to install a Python for themselves to use.\n",
    "\n",
    "How would you do this? Before reading the next paragraph, take a guess at what the official suggestion might be...\n",
    "\n",
    "The [official docs](https://docs.python.org/3/using/unix.html#on-linux) for Python setup on Linux say that **if** you don't want to use the system python you can _\"...easily compile the latest version of Python from source.\"_  If you, dear reader, cannot see what is wrong with this within, say, five seconds, no amount of explanation from me is going to help you understand, so I'll just leave it there.  You should go back to [reddit](https://www.reddit.com/) or [Hacker News](https://news.ycombinator.com/), or even [Lambda the Ultimate](http://lambda-the-ultimate.org/) and stop wasting your time here 😉\n",
    "\n",
    "Besides, *ahem* installing from source, one other way I know is to install [Anaconda Python](http://continuum.io/downloads) which will install to your home folder, everything is located in a single folder, and so on.\n",
    "\n",
    "I recommend against a beginner learning Python on Linux.  Failure is all but assured."
   ]
  },
  {
   "cell_type": "markdown",
   "metadata": {},
   "source": [
    "### Using Python\n",
    "\n",
    "Before we get into OS-specific issues, let's first take a moment to understand what we mean by \"using Python\": here, I mean writing Python code, and using the code on our own (dev) machine.  Think of Python as a software application which is being used. There are two primary activities:\n",
    "0. writing code\n",
    "0. running code\n",
    "\n",
    "It's great if your editor lets you write code and then run the code with a button, or a keyboard shortcut. If the editor isn't aware that there can be different Python installations in multiple places, it can become much more difficult to work in virtual environments, for example.  Otherwise you have to edit in one window, and keep a terminal open nearby and run your code in that terminal session.\n",
    "\n",
    "I use Vim and have done so for almost twenty years now, but: **please** do not recommend that beginners learn Vim, or Emacs. It is irresponsible to do so. Not only does it make the learning process vastly more difficult, but it also only becomes valuable once certain plugins are installed, and it is also somewhat difficult to use with Python virtual environments. \n",
    "\n",
    "The first editor is [PyCharm](https://www.jetbrains.com/pycharm/). PyCharm is an excellent, professional-grade IDE for Python that has the best code-completion and debugging support, and a bunch of other things, out of all the Python editors available today. It even has a free version, called PyCharm Community. \n",
    "\n",
    "However, support for web-based work is crippled in the free version, which means you either have to pay or use a different editor for web-based work that has plugins available to provide the tooling that the free PyCharm version has locked out. You obviously can't add it back into the free version which is a rather curious situation for a programmable editor. If this isn't a big deal for you, PyCharm offers the most hassle-free way of using Python, i.e. writing Python code, available today. (Hey, if you're a Vim user, you should check out the Vim-emulation mode in PyCharm. It's the best I've seen.) \n",
    "\n",
    "On Windows, [Visual Studio](https://www.visualstudio.com/) now has very good support for Python, including code-completion (intellisense) interactive debugging.  However, you can only use Visual Studio on Windows, and so some users might be hesitant to get too used to it.  It also is a very large and time-consuming install, but it does also allow you to compile binary Python extensions so you get that too.\n",
    "\n",
    "[Spyder](http://pythonhosted.org/spyder/index.html) is an excellent cross-platform editor that installs into a particular Python installation, and also features code-completion and interactive debugging, and other really nice goodies like an interactive profiler, embedded IPython consoles, interactive help and so on.  Spyder is also included by default in an Anaconda Python installation (and WinPython) so you can get a good editor at the same time as your Python distro.  Like Visual Studio, Spyder makes it easy to \"find\" which Python you want to use to run code. You may have different versions installed, and you may also want to work in a virtualenv. You can do all this with Spyder as the editor.\n",
    "\n",
    "You could do much worse than [Sublime Text](http://www.sublimetext.com/). It is very easy to get started, is cross-platform, small, fast, great plugin ecosystem, and can grow with the beginner as they develop their skills. It doesn't (to my knowledge) have an integrated debugger, but plugins can give you other features. However, like Vim, getting plugins going is a bit fiddly.  Anything, I repeat *anything* fiddly is an additional obstacle for beginners. Managing your path is a bit trickier, you have to know what you're doing. Which is the same thing as saying that it might not be for beginners.\n",
    "\n",
    "There are a whole raft of other editors that everybody always keeps recommending. I think the noise is an overload. For beginners, we really need to keep the choices down to, say, two or three. Note that I failed to do this. And please, **please**, don't recommend IDLE. It's ugly, clunky, and nobody uses it."
   ]
  },
  {
   "cell_type": "markdown",
   "metadata": {},
   "source": [
    "### Deploying Python\n",
    "\n",
    "So our beginner has written an application and wants to give it to some friends to run on their computers; how do they do it?\n",
    "\n",
    "Imagine that their friends are even more beginner-like than they are. Imagine that they will be unable to download and install Python. Imagine that they all use Windows, and they have learned how to download an installer, run the installer, and then launch the application from the \"Start\" menu, or whatever that thingy at the bottom left is called nowadays in Windows 10.\n",
    "\n",
    "What would you recommend to our beginner? Perhaps [py2exe](http://www.py2exe.org/)? It turns out that while it works for simple cases, you can still end up with `ImportError` fairly easily depending on what your dependencies are.  Your program works when you run it on your computer, but py2exe doesn't make a standalone bundle that works.  Alas, this is the same with other \"freeze\" tools like cxFreeze and Pyinstaller. At the time of writing, Pyinstaller only supports legacy Python anyway. For Windows, you can use [pynsist](http://pynsist.readthedocs.org/en/latest/) which bundles up a Python (only 3.5+) into an installer. The great thing is that it is a fully bundled installer which will \"just work\" on your user's machines; the bad thing is that it will only work on Windows Vista onwards.\n",
    "\n",
    "Of course, that is all Windows-only anyway. What about deploying your code to Mac or Linux machines?"
   ]
  },
  {
   "cell_type": "markdown",
   "metadata": {
    "collapsed": true
   },
   "source": [
    "[WIP - more to come on this post]"
   ]
  },
  {
   "cell_type": "code",
   "execution_count": null,
   "metadata": {
    "collapsed": true
   },
   "outputs": [],
   "source": []
  }
 ],
 "metadata": {
  "kernelspec": {
   "display_name": "Python 3",
   "language": "python",
   "name": "python3"
  },
  "language_info": {
   "codemirror_mode": {
    "name": "ipython",
    "version": 3
   },
   "file_extension": ".py",
   "mimetype": "text/x-python",
   "name": "python",
   "nbconvert_exporter": "python",
   "pygments_lexer": "ipython3",
   "version": "3.5.1"
  }
 },
 "nbformat": 4,
 "nbformat_minor": 0
}
