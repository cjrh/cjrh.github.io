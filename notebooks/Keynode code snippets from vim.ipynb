{
 "cells": [
  {
   "cell_type": "markdown",
   "metadata": {},
   "source": [
    "# Keynode code snippets from vim\n",
    "\n",
    "In preparation for [PyCon Australia](http://2015.pycon-au.org/) coming up next weekend, I'm getting my tools together to make slides for my [Cython talk](http://2015.pycon-au.org/schedule/30051/view_talk?day=sunday).\n",
    "\n",
    "I had been intending to use the [IPython Notebook](http://ipython.org/notebook.html) to create the content, and then convert to slides using [reveal.js](http://lab.hakim.se/reveal-js/#/); the conversion process is supported by the Notebook itself, using the `nbconvert` command-line tool.\n",
    "\n",
    "Unfortunately, I failed to quite get all the styling how I wanted it, since some parts the Notebook css styles carry through to the final revealjs slides, and therefore revealjs themes don't fully apply in the final deck.\n",
    "\n",
    "Alas, I return to [Keynote](https://www.apple.com/au/mac/keynote/). For a coding talk, a bit issue is obviously having your code presented neatly and so I looked at ways of supporting this. My code editor is [vim-plus-plugins](http://www.vim.org/) (If anyone reading this would like to see a screencast of what vim on steroids looks like, particularly for Python-centric dev, let me know!). While Keynote is not the new hotness, it retains several redeeming features such as simplicity, great defaults, and easy conversion to bulletproof PDF: the absolute last thing I want to be doing two minutes before my talk is trying to figure out why my `$fancytool` slides won't work, or are glitching, or don't look the same on the podium machine if for some reason my machine breaks on the day. \n",
    "\n",
    "I wanted to find the shortest distance between getting code from my editor into a Keynote text box, and I think I have found one, at least for a system that has a command-line tool called `pbcopy`. As far as I know, this means Mac and Ubuntu, but I haven't looked for options on Windows, since my time on Windows seems to have ended when I left my last job.\n",
    "\n",
    "### Requirements\n",
    "\n",
    "- Vim\n",
    "- a command-line application called `pbcopy`\n",
    "- A Python library called [Pygments](http://pygments.org/) (install with `pip install Pygments`)\n",
    "\n",
    "Installing Pygments _should_ also install a command-line program called `pygmentize`, which is what we'll be using. If after installing Pygments, you _don't_ have `pygmentize` available, then something is wrong and you need to fix that first before continuing."
   ]
  },
  {
   "cell_type": "markdown",
   "metadata": {},
   "source": [
    "## Step 1: Basics\n",
    "\n",
    "Add two new key mapping to vim:\n",
    "\n",
    "```python\n",
    "nmap <leader>pc <esc>:%:w !pygmentize -g -f rtf \\| pbcopy<CR>\n",
    "vmap <leader>pc <esc>:'<,'>:w !pygmentize -g -f rtf \\| pbcopy<CR>\n",
    "\n",
    "```\n",
    "\n",
    "The `nmap` creates a new mapping in _normal_ mode that will run the current buffer contents through the shell command. The shell command begins with `!`, and in this case is `pygmentize`. The output format of `pygmentize` is set to be Rich Text Format (rtf), and is piped to the command-line program `pbcopy`, which transfer all the output onto the system clipboard.  Then you, as the user, can paste from the clipboard directly into a text box in Keynote, and your code will be immaculately presented.\n",
    "\n",
    "The way you _use_ the command is to hit the right sequence of keys, i.e., <kbd>\\</kbd>,<kbd>p</kbd>,<kbd>c</kbd> (the mnemonic is \"pasteboard-copy\"). Then you will be able to paste the contents into a new text-box in your Keynote slides.\n",
    "\n",
    "The `vmap` creates a mapping for _visual_ mode, and passes only the currently-selected visual block through `pygmentize`; everything else is the same."
   ]
  },
  {
   "cell_type": "markdown",
   "metadata": {},
   "source": [
    "## Step 2: Customization"
   ]
  },
  {
   "cell_type": "markdown",
   "metadata": {},
   "source": [
    "I prefer a bigger font size, and the [Liberation Mono](https://en.wikipedia.org/wiki/Liberation_fonts) font. These and further customizations can be applied directly in the commands. Also, for presentations I prefer the plain black and white theme `bw`. My vim key maps in my `.vimrc` look like the following:\n",
    "\n",
    "```python\n",
    "nmap <leader>pc <esc>:%:w\n",
    "    \\ !pygmentize -g -f rtf\n",
    "    \\ -O style=\"bw,fontface=Liberation Mono,fontsize=48\" \\| pbcopy<CR>\n",
    "\n",
    "vmap <leader>pc <esc>:'<,'>:w\n",
    "    \\ !pygmentize -g -f rtf\n",
    "    \\ -O style=\"bw,fontface=Liberation Mono,fontsize=48\" \\| pbcopy<CR>\n",
    "\n",
    "nmap <leader>pcc <esc>:%:w\n",
    "    \\ !pygmentize -g -f rtf -l cython\n",
    "    \\ -O style=\"bw,fontface=Liberation Mono,fontsize=48\" \\| pbcopy<CR>\n",
    "\n",
    "vmap <leader>pcc <esc>:'<,'>:w\n",
    "    \\ !pygmentize -g -f rtf -l cython\n",
    "    \\ -O style=\"bw,fontface=Liberation Mono,fontsize=48\" \\| pbcopy<CR>\n",
    "\n",
    "```\n",
    "Here we are using the _line continuation_ character `\\` so that we don't suffer from having a single, long line wrap. I duplicated both `nmap` and `vmap` with a longer command, `\\pcc`, specifically for cython-formatting which is what my PyCon AU talk will be based on. Pygments does do auto-detection, and it is pretty good, but Cython and Python seem to be too similar for the auto-detection to work without help."
   ]
  },
  {
   "cell_type": "markdown",
   "metadata": {},
   "source": [
    "## Step 3: Test\n",
    "\n",
    "That's it.  After you restart vim, you should be able to mark a block of code, then type `\\pc`, and then be able to paste from the clipboard into a new text box inside Keynote."
   ]
  }
 ],
 "metadata": {
  "kernelspec": {
   "display_name": "Python 2",
   "language": "python",
   "name": "python2"
  },
  "language_info": {
   "codemirror_mode": {
    "name": "ipython",
    "version": 2
   },
   "file_extension": ".py",
   "mimetype": "text/x-python",
   "name": "python",
   "nbconvert_exporter": "python",
   "pygments_lexer": "ipython2",
   "version": "2.7.10"
  }
 },
 "nbformat": 4,
 "nbformat_minor": 0
}
