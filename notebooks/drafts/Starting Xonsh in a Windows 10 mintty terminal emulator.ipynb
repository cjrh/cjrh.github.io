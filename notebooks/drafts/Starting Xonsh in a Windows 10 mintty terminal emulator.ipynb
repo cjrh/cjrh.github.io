{
  "cells": [
    {
      "cell_type": "markdown",
      "source": "# Starting Xonsh in a Windows 10 mintty terminal emulator\n\n1. Mintty is what you get when you install git bash on Windows\n1. It looks pretty (show screenshots)\n1. How to use Xonsh as your shell instead of bash?\n1. You have to get around the problem of how mintty doesn\u0027t use the \n   actual Windows console in the background, so there is no actual pty.\n1. This means that you have to run `winpty.exe` before any interactive\n   tools, which is a bummer. Xonsh is one of these interactive programs.\n1. This means that we have to run Xonsh under winpty.\n1. But first, how to install xonsh? Show how to use pipx to install xonsh:\n```\nC:\\\u003e pipx install xonsh[ptk,pygments,win,proctitle]\n```\n1. Now you can make a *Windows shortcut* with the following target:\n```cmd\nG:\\Programs\\Git\\usr\\bin\\mintty.exe --hold always \n    \"G:\\Programs\\Git\\usr\\bin\\winpty\" \n    \"C:\\Users\\caleb\\.local\\pipx\\venvs\\xonsh[ptk,pygments,win,proctitle]\\Scripts\\python.exe\" -m xonsh\n```\n\n## Just using the plain Windows console\n\nRunning everything under `winpty.exe` produces a somewhat janky experience.\nIt turns out that simply running *xonsh* under the normal Windows console\nis actually not too bad. It looks pretty ugly, but in Windows 10 that\nis quite easy to fix because there is support for changing the Console\u0027s\ncolor theme.\n\n- TODO: show some screenshots of cmd.com window.",
      "metadata": {
        "pycharm": {
          "metadata": false
        }
      }
    }
  ],
  "metadata": {
    "language_info": {
      "codemirror_mode": {
        "name": "ipython",
        "version": 2
      },
      "file_extension": ".py",
      "mimetype": "text/x-python",
      "name": "python",
      "nbconvert_exporter": "python",
      "pygments_lexer": "ipython2",
      "version": "2.7.6"
    },
    "kernelspec": {
      "name": "python3",
      "language": "python",
      "display_name": "Python 3"
    },
    "stem_cell": {
      "cell_type": "raw",
      "source": "",
      "metadata": {
        "pycharm": {
          "metadata": false
        }
      }
    }
  },
  "nbformat": 4,
  "nbformat_minor": 0
}