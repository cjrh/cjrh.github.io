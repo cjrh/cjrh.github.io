{
 "cells": [
  {
   "cell_type": "markdown",
   "metadata": {},
   "source": [
    "# PyQt with embedded matplotlib: `twinx()` and the `NavigationToolbar`"
   ]
  },
  {
   "cell_type": "markdown",
   "metadata": {},
   "source": [
    "It is fairly easy, and wonderfully useful to be able to embed a matplotlib figure into a PyQt application. Recently I found a strange problem: the *forward* and *back* buttons on the NavigationToolbar instance would stop working, but only when I added additional y-axes through the `plt.twinx()` method.\n",
    "\n",
    "It turns out that `NavigationToolbar` maintains an internal stack of axes (and other things), and when you make modifications to your set of axes in your figure, you need to **manually update the toolbar with `toolbar.update()`** to tell the toolbar to refresh its internal stack of axes.  "
   ]
  },
  {
   "cell_type": "code",
   "execution_count": null,
   "metadata": {
    "collapsed": true
   },
   "outputs": [],
   "source": []
  }
 ],
 "metadata": {
  "kernelspec": {
   "display_name": "Python 2",
   "language": "python",
   "name": "python2"
  },
  "language_info": {
   "codemirror_mode": {
    "name": "ipython",
    "version": 2
   },
   "file_extension": ".py",
   "mimetype": "text/x-python",
   "name": "python",
   "nbconvert_exporter": "python",
   "pygments_lexer": "ipython2",
   "version": "2.7.6"
  }
 },
 "nbformat": 4,
 "nbformat_minor": 0
}
