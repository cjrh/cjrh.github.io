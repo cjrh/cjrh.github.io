{
 "cells": [
  {
   "cell_type": "markdown",
   "metadata": {},
   "source": [
    "# Deploying Django with Docker Travel Notes"
   ]
  },
  {
   "cell_type": "markdown",
   "metadata": {},
   "source": [
    "I decided to build my own docker image for a Django deploy. My ultimate goal was to deploy on AWS. My plan is to start on a single EC2 instance, and then once I know how that works, move to a Beanstalk configuration that will allow auto-scaling. If I could avoid beanstalk and just use the load balancer to bring scale as needed, that would be great as I really don't understand how beanstalk does anything and the docs are entirely opaque to me."
   ]
  },
  {
   "cell_type": "markdown",
   "metadata": {},
   "source": [
    "I will be working through [this guide](https://www.digitalocean.com/community/tutorials/docker-explained-how-to-containerize-python-web-applications) from DigitalOcean."
   ]
  },
  {
   "cell_type": "markdown",
   "metadata": {},
   "source": [
    "### Creating a base image\n",
    "\n",
    "Seems pretty straightforward,\n",
    "```bash\n",
    "docker run -i -t -p 8080:80 /bin/bash\n",
    "```\n",
    "Port 80 is getting mapped through, and interactive mode is turned on for the bash shell. The plan is that we'll build up our final image step by step, and the image will save all our steps and be usable in its final form.\n",
    "\n",
    "_Comment: does CTRL+P, CTRL+Q always get you out of a docker interactive shell?_\n",
    "\n",
    "_Note: I changed the port mapping to use 8080 on the host._"
   ]
  },
  {
   "cell_type": "markdown",
   "metadata": {},
   "source": [
    "### Need to add the `universe` ubuntu repository\n",
    "\n",
    "```bash\n",
    "echo \"deb http://archive.ubuntu.com/ubuntu/ $(lsb_release -sc) main universe\" >> /etc/apt/sources.list\n",
    "\n",
    "```"
   ]
  },
  {
   "cell_type": "markdown",
   "metadata": {},
   "source": [
    "### Installing basic stuff\n",
    "\n",
    "```bash\n",
    "apt-get update\n",
    "apt-get install -y tar \\\n",
    "                   git \\\n",
    "                   curl \\\n",
    "                   nano \\\n",
    "                   vim \\\n",
    "                   wget \\\n",
    "                   dialog \\\n",
    "                   net-tools\n",
    "                   build-essential\n",
    "```\n",
    "\n",
    "_Note: I included `vim` in the list of stuff, but it's optional._"
   ]
  },
  {
   "cell_type": "markdown",
   "metadata": {},
   "source": [
    "### Installing the Python stuff"
   ]
  },
  {
   "cell_type": "markdown",
   "metadata": {},
   "source": [
    "My current is built on Python 3, so here I deviate from the tutorial and install the py3 versions of everything:\n",
    "\n",
    "```bash\n",
    "apt-get install -y python3 python3-dev python3-pip\n",
    "```"
   ]
  },
  {
   "cell_type": "markdown",
   "metadata": {},
   "source": [
    "### Setting up the application folder"
   ]
  },
  {
   "cell_type": "code",
   "execution_count": null,
   "metadata": {
    "collapsed": true
   },
   "outputs": [],
   "source": []
  }
 ],
 "metadata": {
  "kernelspec": {
   "display_name": "Python 2",
   "language": "python",
   "name": "python2"
  },
  "language_info": {
   "codemirror_mode": {
    "name": "ipython",
    "version": 2
   },
   "file_extension": ".py",
   "mimetype": "text/x-python",
   "name": "python",
   "nbconvert_exporter": "python",
   "pygments_lexer": "ipython2",
   "version": "2.7.10"
  }
 },
 "nbformat": 4,
 "nbformat_minor": 0
}
