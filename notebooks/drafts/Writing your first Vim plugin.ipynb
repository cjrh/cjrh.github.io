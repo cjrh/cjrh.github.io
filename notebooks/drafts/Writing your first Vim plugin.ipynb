{
 "metadata": {
  "name": "",
  "signature": "sha256:7569efbe57c7a34f3eb741ef52a33867a4c1b3921ad3156c87ac4e0a971b6bf8"
 },
 "nbformat": 3,
 "nbformat_minor": 0,
 "worksheets": [
  {
   "cells": [
    {
     "cell_type": "heading",
     "level": 1,
     "metadata": {},
     "source": [
      "Your first Vim Plugin"
     ]
    },
    {
     "cell_type": "markdown",
     "metadata": {},
     "source": [
      "Things to mention:\n",
      "\n",
      "- All the *Python* scope is shared. Vim variables can be scoped various ways depending on the variable name\n",
      "- Scoping for function arguments is `a:varname`\n",
      "- Scoping for script-local is `s:varname`\n",
      "- Vimscript functions must start with a capital\n",
      "```\n",
      "function! Myfunction()\n",
      "    let l:var = \"hello\"\n",
      "endfunction\n",
      "```\n",
      "- Incorporating Python *looks* a bit odd but you get used to it pretty quickly. Note that (in the sample below) the python section is not indented: that is intentional, and is required because everything between the `EOF` markers is passed verbatim to the Python interpreter.\n",
      "```\n",
      "function! Myfunction()\n",
      "python << EOF\n",
      "import os\n",
      "print os.listdir('.')\n",
      "for i in range(10):\n",
      "    print i\n",
      "EOF\n",
      "endfunction\n",
      "```\n",
      "- Python and Vim do not share a variable scope (obviously). Information must be passed through functions from the `vim` module that is exposed to Python. Note here below how you can assign to a local var from inside the python code, and then return that value out of the vim function after the python scope has ended:\n",
      "```\n",
      "function! Myfunction()\n",
      "python << EOF\n",
      "import vim\n",
      "vim.command(\"let l:var = \" + 123)\n",
      "EOF\n",
      "return l:var\n",
      "endfunction\n",
      "```\n",
      "- String concatenation in vimscript is done like this: `let l:var = \"blah\" . \"blah\"`, so `l:var` will have the contents `\"blahblah\"`"
     ]
    },
    {
     "cell_type": "code",
     "collapsed": false,
     "input": [],
     "language": "python",
     "metadata": {},
     "outputs": []
    }
   ],
   "metadata": {}
  }
 ]
}