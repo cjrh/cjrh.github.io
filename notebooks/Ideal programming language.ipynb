{
 "metadata": {
  "name": "",
  "signature": "sha256:a28f5d07911bde6c4de53aac7759b23d8ef48abb051dfc844334eec71e25923f"
 },
 "nbformat": 3,
 "nbformat_minor": 0,
 "worksheets": [
  {
   "cells": [
    {
     "cell_type": "heading",
     "level": 1,
     "metadata": {},
     "source": [
      "Ideal programming language"
     ]
    },
    {
     "cell_type": "markdown",
     "metadata": {},
     "source": [
      "- has tools that produce fast code\n",
      "- has tools that provide a RAD drag 'n drop GUI editor, with integration between code and gui\n",
      "- has tools that allow code completion/introspection/intellisense\n",
      "- provides closures\n",
      "- provides classes (inheritance, polymorphism)\n",
      "- concise (for some value of \"concise\")\n",
      "- easy to read (for some value of \"easy\"). An avoidance of using symbols to indicate concepts, particularly symbols that do not have a common-sense, i.e. non-tech, meaning.\n",
      "- has tools for document generation\n",
      "- has tools for *static*, *single binary/bundle/app* distribution to other machines. The runtime must be conveniently packagable.\n",
      "- has an ffi\n",
      "- has tools that provide access to existing libs in C (can consume an ffi)\n",
      "- allows optional args (default values) in functions.\n",
      "- supports the implementation of tail-call optimization in language implementations"
     ]
    },
    {
     "cell_type": "markdown",
     "metadata": {},
     "source": [
      "Note that my current favourite programming language, Python, does not completely satisfy this wishlist."
     ]
    }
   ],
   "metadata": {}
  }
 ]
}