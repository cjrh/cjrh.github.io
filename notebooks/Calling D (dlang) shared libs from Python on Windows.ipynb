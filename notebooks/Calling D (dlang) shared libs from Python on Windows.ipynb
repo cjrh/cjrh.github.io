{
  "cells": [
    {
      "cell_type": "markdown",
      "metadata": {
        "pycharm": {
          "metadata": false
        }
      },
      "source": "# Calling D (dlang) shared libs from Python\n\nThe D programming language is attractive for making native extensions\nfor Python, for several reasons:\n\n- Syntax features of D are excellent\n- Very fast compilation speed\n\nBut the primary benefit for this use case is to avoid the C runtime \nproblem (at least, I think it will?). The possibility of building a \nbinary once, and then using that same binary on different versions of \nPython is very attractive. Currently with Cython, for example, the\nextension module must be built on the target platform for each version\nof Python that is supported.\n\nThe idea is similar (in the basic idea) to how the _milksnake_ project \nuses CFFI to wrap rust-produced binaries in Python.\n\n## The Goal\n\nOur goal is to run a *Python* program that uses CFFI to call a function inside a native extension written in D.\nNow the Python file:\n\nRemember that you must install CFFI:\n\n```shell\n$ pip install cffi\n```\n\nThe Python file below will use the ABI mode of loading the dll:\n\n```python\nfrom cffi import FFI\n\nffi \u003d FFI()\nffi.cdef(\"int foo();\")\nC \u003d ffi.dlopen(\"blah.dll\")\nx \u003d C.foo()\nprint(f\"Called the dll, and the result was {x}\")\n```\n\nRunning the file must produce the following:\n\n```\n$ python blah.py\nCalled the dll, and the result was 123 \n```\n\n\n## Windows\n\nOn Windows it\u0027s a bit odd because you need some entrypoint code\ninside the shared library. This is just boilerplate though. Focus\non the actual exported functions at the bottom:\n\n```d\nimport core.sys.windows.windows;\nimport core.sys.windows.dll;\nimport core.stdc.stdio;\n\n__gshared HINSTANCE g_hInst;\n\nextern (Windows)\nBOOL DllMain(HINSTANCE hInstance, ULONG ulReason, LPVOID pvReserved)\n{\n    switch (ulReason)\n    {\n\tcase DLL_PROCESS_ATTACH:\n\t    g_hInst \u003d hInstance;\n\t    dll_process_attach( hInstance, true );\n\t    break;\n\n\tcase DLL_PROCESS_DETACH:\n\t    dll_process_detach( hInstance, true );\n\t    break;\n\n\tcase DLL_THREAD_ATTACH:\n\t    dll_thread_attach( true, true );\n\t    break;\n\n\tcase DLL_THREAD_DETACH:\n\t    dll_thread_detach( true, true );\n\t    break;\n\n        default:\n    }\n    return true;\n}\n\nextern (C) int foo() {\n    return 123;\n}\n\n```\n\nYou will also need a `.def` file:\n\n```\nLIBRARY blah\n\nCODE SHARED EXECUTE\nDATA WRITE\n\nEXPORTS\n    foo\n```\n\nTo build the `.dll`, run this:\n\n```\n$ dmd -m64 -betterC -shared -ofblah.dll blah.d blah.def\n```\n\n- On Windows you must supply `-m64` to make a 64-bit shared library. This\nis important if you want to load it into a 64-bit Python application.\n- We\u0027re passing the `-betterC` flag to indicate we don\u0027t need the D \nstandard library.\n- Obviously `-shared` is necessary to make a shared library.\n\nAfter building, you can inspect the DLL:\n\n```\n$ ls -lah blah.*\n-rw-r--r-- 1 caleb 197121  697 May  5 12:01 blah.d\n-rw-r--r-- 1 caleb 197121   69 May  5 12:06 blah.def\n-rwxr-xr-x 1 caleb 197121 401K May  5 12:06 blah.dll\n-rw-r--r-- 1 caleb 197121  787 May  5 12:06 blah.exp\n-rw-r--r-- 1 caleb 197121 1.7K May  5 11:59 blah.lib\n-rw-r--r-- 1 caleb 197121 1.8K May  5 12:06 blah.obj\n```\n\nRunning the Python program `blah.py` now produces the expected output."
    }
  ],
  "metadata": {
    "kernelspec": {
      "display_name": "Python 3",
      "language": "python",
      "name": "python3"
    },
    "language_info": {
      "codemirror_mode": {
        "name": "ipython",
        "version": 2
      },
      "file_extension": ".py",
      "mimetype": "text/x-python",
      "name": "python",
      "nbconvert_exporter": "python",
      "pygments_lexer": "ipython2",
      "version": "2.7.6"
    },
    "stem_cell": {
      "cell_type": "raw",
      "metadata": {
        "pycharm": {
          "metadata": false
        }
      },
      "source": ""
    }
  },
  "nbformat": 4,
  "nbformat_minor": 1
}