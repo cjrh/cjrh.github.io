{
 "cells": [
  {
   "cell_type": "markdown",
   "metadata": {},
   "source": [
    "# Failure: empty filename"
   ]
  },
  {
   "cell_type": "markdown",
   "metadata": {},
   "source": [
    "Pyinstaller is used for making a standalone distribution for your Python application. This is done so that your end-user does not need Python installed on their system, and also so that the version of Python in your app can be different (and isolated) from the user's installed Python versions.\n",
    "\n",
    "Typically, you invoke it like so:\n",
    "```batch\n",
    "C:\\> pyinstaller myapp.py\n",
    "```\n",
    "and after much processing, there will be a `dist/myapp` folder in which your application is placed; that is, if no errors occur.\n",
    "\n",
    "It turns out the installation of `pywin32` for Anaconda does **not place certain DLLs into the Windows System32 folder**. This is the cause of the error when building your application.\n",
    "\n",
    "If you look inside the folder `site-packages/pywin32_system32`, you will see these three files (assuming Python 2.7; they will have slightly different names for a different version of Python):\n",
    "\n",
    "- `pythoncom27.dll`\n",
    "- `pythoncomloader27.dll`\n",
    "- `pywintypes27.dll`\n",
    "\n",
    "The pyinstaller problem could be resolved by placing these binaries in the Windows system folder, but a better approach is place them in `site-packages/win32/lib` as this maintains the standalone nature of the Anaconda installation. Also, this works for conda environments, if the files are copied over inside the env."
   ]
  },
  {
   "cell_type": "code",
   "execution_count": null,
   "metadata": {
    "collapsed": true
   },
   "outputs": [],
   "source": []
  }
 ],
 "metadata": {
  "kernelspec": {
   "display_name": "Python 2",
   "language": "python",
   "name": "python2"
  },
  "language_info": {
   "codemirror_mode": {
    "name": "ipython",
    "version": 2
   },
   "file_extension": ".py",
   "mimetype": "text/x-python",
   "name": "python",
   "nbconvert_exporter": "python",
   "pygments_lexer": "ipython2",
   "version": "2.7.6"
  }
 },
 "nbformat": 4,
 "nbformat_minor": 0
}
