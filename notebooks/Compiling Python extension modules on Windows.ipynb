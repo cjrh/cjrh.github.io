{
 "metadata": {
  "name": "",
  "signature": "sha256:8b37a4229c78bfa91ad08eb56ff7cb884d472f76fa8536107601a5ae81d25d64"
 },
 "nbformat": 3,
 "nbformat_minor": 0,
 "worksheets": [
  {
   "cells": [
    {
     "cell_type": "heading",
     "level": 1,
     "metadata": {},
     "source": [
      "Compile Python extensions on Windows: the short guide"
     ]
    },
    {
     "cell_type": "markdown",
     "metadata": {},
     "source": [
      "Compiling binary extension modules on Windows is regarded as difficult. It is so, and one of the reasons is that it is difficult to obtain the exact knowledge required to even set up the build environment.  This post will help to set that up."
     ]
    },
    {
     "cell_type": "heading",
     "level": 2,
     "metadata": {},
     "source": [
      "Step 1: Obtain the Windows SDK"
     ]
    },
    {
     "cell_type": "markdown",
     "metadata": {},
     "source": [
      "The SDK includes C/C++ compilers for **both x86 and x64**. Wikipedia has a [great page](http://en.wikipedia.org/wiki/Microsoft_Windows_SDK) on all the various versions of the SDK, but you don't need everything: You only need **SDK v7.0 for Python 2.7.x** and **SDK v7.1 for Python 3.x**.\n",
      "\n",
      "- The link to the **ISO** download for SDK v7.0: [http://www.microsoft.com/en-us/download/details.aspx?id=18950](http://www.microsoft.com/en-us/download/details.aspx?id=18950)\n",
      "- The link to the **ISO** download for SDK v7.1: [http://www.microsoft.com/en-us/download/details.aspx?id=8442](http://www.microsoft.com/en-us/download/details.aspx?id=8442)"
     ]
    },
    {
     "cell_type": "markdown",
     "metadata": {},
     "source": [
      "Download those and install both. Note that certain applications, such as [MacType](https://code.google.com/p/mactype/) can interfere with the installation process. It nearly drove me made trying to find what was breaking my most recent SDK install. *I strongly recommend you close as many other programs (including on the system tray) as you can while installing the SDKs.*"
     ]
    },
    {
     "cell_type": "heading",
     "level": 2,
     "metadata": {},
     "source": [
      "Step 2: Create helper scripts"
     ]
    },
    {
     "cell_type": "markdown",
     "metadata": {},
     "source": [
      "Compilation of Python extension modules is normally done from the command prompt (`cmd`). I have found it very useful to have a batch file \"activate\" the path and environment for the Microsoft compilers. I make two of these batch files, one for each SDK, and **place these somewhere on my system path.** Editing the system path is painful so I use an excellent freeware product called (Rapid Environment Editor)[http://www.rapidee.com/en/about] to add new path entries, or check whether my existing path entries are valid: non-existing paths will be highlighted in red.  This is a great application.\n",
      "\n",
      "I first make a batch file called **`env_SDK70.bat`**, with contents:\n",
      "```\n",
      "SET MSSdk=1\n",
      "SET DISTUTILS_USE_SDK=1\n",
      "C:\\Windows\\System32\\cmd.exe /E:ON /V:ON /T:0E /K \"C:\\Program Files\\Microsoft SDKs\\Windows\\v7.0\\Bin\\SetEnv.cmd\"\n",
      "```\n",
      "\n",
      "Then, I make another batch file, called **`env_SDK71.bat`**, with contents:\n",
      "```\n",
      "SET MSSdk=1\n",
      "SET DISTUTILS_USE_SDK=1\n",
      "C:\\Windows\\System32\\cmd.exe /E:ON /V:ON /T:0E /K \"C:\\Program Files\\Microsoft SDKs\\Windows\\v7.1\\Bin\\SetEnv.cmd\"\n",
      "```"
     ]
    },
    {
     "cell_type": "markdown",
     "metadata": {},
     "source": [
      "Now, when you need to build extension modules, you just open a command prompt, change to the correct folder and run the appropriate **`env_*`** batch file in order to activate the path and environment to the correct compiler. If you need to `pip install <package>` and the package requires a compiler, then you *first* run the \"`env_`\" command, and then `pip install` in the normal way.\n",
      "\n",
      "That's all you need, and you should be able to compile any Python extension modules yourself."
     ]
    }
   ],
   "metadata": {}
  }
 ]
}