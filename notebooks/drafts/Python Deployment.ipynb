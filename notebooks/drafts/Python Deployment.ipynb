{
 "cells": [
  {
   "cell_type": "markdown",
   "metadata": {},
   "source": [
    "# Deploying Python code to servers"
   ]
  },
  {
   "cell_type": "markdown",
   "metadata": {},
   "source": [
    "<blockquote style=\"font-family: 'Times New Roman', serif; font-size: 20px; font-style: italic;\"><span style=\"font-size: 4rem;\">T</span>here are things that are hard, and then there's Python deployment. &mdash; me</blockquote>"
   ]
  },
  {
   "cell_type": "markdown",
   "metadata": {},
   "source": [
    "So you have some Python code that you would like to run on the web? This can become staggeringly more difficult than you might expect. First, let's be clear what we're talking about.\n",
    "\n",
    "- deploy *desktop software* to users' computers and devices\n",
    "- deploy *server software* to a server, typically on cloud infrastructure like Amazon Web Services (AWS) or Google Cloud Platform, Heroku, PythonAnywhere and so on\n",
    "\n",
    "In this essay, we are focusing only on the second one, i.e., deployment of Python code to **servers**.\n",
    "\n",
    "There *are* easy ways to do this: [Google App Engine](https://cloud.google.com/appengine/docs) makes it almost completely painless, **as long as** you [stick to Python 2.7](http://stackoverflow.com/a/24229338/170656) and [avoid packages with C-extensions](https://cloud.google.com/appengine/docs/python/runtime#Python_Pure_Python) "
   ]
  },
  {
   "cell_type": "markdown",
   "metadata": {},
   "source": [
    "I'm kinda into [Cython](http://cython.org/) so this is a problem for me, never mind the requirement for legacy Python. So what to do?"
   ]
  },
  {
   "cell_type": "markdown",
   "metadata": {},
   "source": [
    "## Web Hosts, Web Hosts everywhere"
   ]
  },
  {
   "cell_type": "markdown",
   "metadata": {},
   "source": [
    "There are many places to host Python code online. [PythonAnywhere](https://www.pythonanywhere.com/) is a top-notch solution that makes it very, very easy to get going with your Python app, **as long as** your Python version is one of 2.6, 2.7, 3.3 and 3.4. Since there is shell access, you *can* also use virtualenv, but I'm grouping PythonAnywhere in the \"does a lot for you\" camp because they have a cool UI that simplifies much of the server administration tasks you would normally need to do from the shell.\n",
    "\n",
    "[Heroku]() is the other popular choice, **as long as** the Python version you need happens to [match one of the two supported runtimes](https://devcenter.heroku.com/articles/python-runtimes#supported-python-runtimes).\n",
    "\n",
    "Heroku does auto-scaling (just like App Engine), but with PythonAnywhere you just need to switch plans for more resources."
   ]
  },
  {
   "cell_type": "markdown",
   "metadata": {},
   "source": [
    "## Moving towards server administration AKA What fresh, new hell is this?\n",
    "\n",
    "If the restrictions are too much, you might have to set up your own server, like an Amazon EC2 instance, or a Rackspace/Linode server, and many others.  One of the best places to do that is [DigitalOcean](https://www.digitalocean.com/community/tutorials/how-to-set-up-ubuntu-cloud-servers-for-python-web-applications), not least because their guides are *excellent*. The guides do also work well at other hosts though.  \n",
    "\n",
    "What you're pretty much doing at this point is taking on the role of a system administrator, likely *without any formal training*, and even more likely **without an awareness of the Linux distribution life cycle and support practices**, particularly if your development platform is OS X or Windows.  Unfortunately, it turns out that if you don't make an effort to understand those upstream issues, you subject yourself to surprising and painful experiences, like that time when [Ubuntu just downgraded its Python 3 package in the Long Term Support version, without fixing packages that depended on that version leaving my docker deployment in a broken state](https://bugs.launchpad.net/ubuntu/+source/python3.4/+bug/1503382). (I *chose* the LTS specifically to avoid things like that!)  Don't worry, eventually it all got fixed a few weeks later.\n",
    "\n",
    "But let's get back to the deployment of Python apps."
   ]
  },
  {
   "cell_type": "markdown",
   "metadata": {},
   "source": [
    "## Patterns, Anti-patterns - Can you tell the difference?\n",
    "\n",
    "If you sink a lot of time into reading blogs and StackOverflow, there is much wisdom to be found. [Hynek](https://hynek.me/articles/python-deployment-anti-patterns/) made an excellent post about deployment anti-patterns to avoid.\n",
    "\n",
    "[Graham Dumpleton](http://blog.dscpl.com.au/2016/01/python-virtual-environments-and-docker.html) has an extensive blog series going about deploying your Python code in Docker containers, and the nature of the content is very much a collection of good patterns, and anti-patterns to avoid.  I've read them several times, and still don't quite get everything, especially with respect to Docker, but I *feel* like if just read through it one more time, all will become clear :/"
   ]
  },
  {
   "cell_type": "markdown",
   "metadata": {},
   "source": [
    "# ...which brings us to Docker\n",
    "\n",
    "In case you don't know, `Docker` is a very clever tool that makes it easy for you run virtual machines. The docker people don't like to hear that, but honestly it's the easiest mental picture until you need to care about the details.  The easiness has direct implications for two things:\n",
    "- Easy to set up locally, to make development easier\n",
    "- Easy to re-create the virtual machine on a production server, making deployment easier"
   ]
  },
  {
   "cell_type": "markdown",
   "metadata": {},
   "source": [
    "### You still have to do system administration!  Docker doesn't solve this!\n",
    "\n",
    "You *still* have to do system administration; `docker` just makes it easy to work with a \"known\" configuration.  This means that it doesn't matter whether your project runs on Amazon Web Services, or Openshift, or Google Cloud Platform: you can deploy the same docker image to all of them.\n",
    "\n",
    "However, **this doesn't solve all our problems**."
   ]
  },
  {
   "cell_type": "markdown",
   "metadata": {},
   "source": [
    "# What are our problems?"
   ]
  },
  {
   "cell_type": "markdown",
   "metadata": {},
   "source": [
    "Imagine the following:\n",
    "- We want to deploy a service onto a single server\n",
    "- This service uses several different applications locally.  \n",
    "- Each application is a Python application\n",
    "- Each Python application uses one or more versions of **Python**\n",
    "- Each Python application uses a different set of packages, each pinned themselves to different versions"
   ]
  },
  {
   "cell_type": "markdown",
   "metadata": {},
   "source": [
    "The tricky part is *one or more versions of Python*."
   ]
  },
  {
   "cell_type": "markdown",
   "metadata": {},
   "source": [
    "## Different Versions of Python"
   ]
  },
  {
   "cell_type": "markdown",
   "metadata": {},
   "source": [
    "Linux distros tend to be slow-moving, for the obvious reason that updating packages requires an enormous coordination effort to make sure that upgrading one thing doesn't break other things.  Unfortunately, this means that it can be difficult to use version of software, say, Python, that are not the *official packaged versions* of the Linux distribution you're targetting.\n",
    "\n",
    "However, this *isn't the actual problem*.  It doesn't matter how fast the distro moves.  The issue is really about being able to pin software versions to a specific version that you choose.  And only upgrade *when* you want."
   ]
  },
  {
   "cell_type": "markdown",
   "metadata": {},
   "source": [
    "## About virtualenv - version pinning"
   ]
  },
  {
   "cell_type": "markdown",
   "metadata": {},
   "source": [
    "`virtualenv` isolates different Python applications' dependecies from each other.  For example, suppose you have one Python application that needs Numpy 1.7.1 and a different Python application that needs Numpy 1.8. `virtualenv` will allow you to install and run both Python applications on the same machine.  However, you are still restricted by the Python interpreter running on that machine.  On most Linux distributions (at the time of writing), you can install Python 2.7 and Python 3.4, but not 3.5.\n",
    "\n",
    "Assuming you installed both 2.7 and 3.4, you could make virtualenvs of either of them, but you **cannot make a virtualenv for 3.5**.  Virtualenv doesn't work like that.\n",
    "\n",
    "In the future, popular linux distributions will likely upgrade 3.4 to 3.5.  **This does not solve our problems**."
   ]
  },
  {
   "cell_type": "markdown",
   "metadata": {},
   "source": [
    "## Version pinning - also for Python itself"
   ]
  },
  {
   "cell_type": "markdown",
   "metadata": {},
   "source": [
    "The entire point of using virtualenv in the first place, is to allow us to pin our app dependencies and isolate the **version** requirements of different apps from each other. What we *really* want, is to have version-pinning **also for Python itself**.  \n",
    "\n",
    "Let's imagine we have two Python apps, `alpha` and `beta`.  The first, `alpha` was written against 2.7, while the second, `beta` was written against 3.4.  Because they used different versions of Python, *strictly speaking* we don't need to use virtualenv, but because we fear the wrath of Hynek we did it anyway.\n",
    "\n",
    "It was just as well: six months down the road, a new app is deployed to the same server, `gamma`, which also runs on 3.4, but which uses different versions of some of the app dependencies.  For example, suppose `beta` uses Numpy 1.7.1 while `gamma` uses Numpy 1.8.  Virtualenv allows us to keep `beta` and `gamma` running on their own dependencies, even though they are both using 3.4\n",
    "\n",
    "*Now* suppose that we deploy a new app, `delta` to the same server, but that app needs to run on Python 3.5!  What we **don't want to do** is have to upgrade `beta` and `gamma` also to 3.5.  For one thing, there may be some packages that are dependencies of `beta` and `gamma` that have not yet been made available for 3.5."
   ]
  },
  {
   "cell_type": "markdown",
   "metadata": {},
   "source": [
    "# How to do version pinning for <u>Python</u> itself\n",
    "\n",
    "Right now, as far as I am aware there are two main routes:\n",
    "0. [Conda](http://conda.pydata.org/docs/)\n",
    "0. [pyenv](https://github.com/yyuu/pyenv)"
   ]
  },
  {
   "cell_type": "markdown",
   "metadata": {},
   "source": [
    "There is another route, called *Compiling Python from source yourself* which I won't go into here.  If you're going to do it all by hand then you will inevitably have to start building the same kinds of tools that the other routes already provide."
   ]
  },
  {
   "cell_type": "markdown",
   "metadata": {},
   "source": [
    "## Conda\n",
    "\n",
    "Conda is a tool that you normally obtain from, and use with the [Anaconda Python](https://www.continuum.io/downloads) distribution from Continuum Analytics.  **`conda` is both a package manager and a virtual environment manager**.  This means that not only do you install Python packages with it, but you can also create new Python virtual environments, just like virtualenv. There are other features of the conda ecosystem, such as the support for built (compiled) packages so that you don't need to compile packages yourself like you would have to do with `pip`.\n",
    "\n",
    "(You *can* install built packages with `pip` if there is a `wheel` available for that package, however not all packages provide wheels.  With `conda` almost all the popular packages are available in a pre-compiled, or \"built\", format.)\n",
    "\n",
    "What we are interested in is the support for virtual environments.  Using `conda` you can install and activate different versions of Python from 2.6 to 3.5, *and* you can create multiple virtual environments off each of those.\n",
    "\n",
    "One of the niggles with using `conda` is that **not all Python packages** are available in the special `conda` repository; `conda` does not install from the Python Package Index, but rather its own repository that is maintained by Continuum Analytics.  The fallback, in such situations, is to use `pip` from inside the `conda` virtual environment and install extra packages that way. Now you have to deal with a chimeric environment where there are two package managers competing for control (within that environment).  They *mostly* get along when you're running all the commands manually, but we're interested in **servers** and **automated deployment**.\n",
    "\n",
    "Which one must use `requirements.txt`?  `conda` or `pip`?  This difficult question, and similar issues, is why I generally don't deploy to servers using `conda`.  It makes things more complicated, including the explanations you have to give to other devs on the project about what `conda` even is."
   ]
  },
  {
   "cell_type": "markdown",
   "metadata": {},
   "source": [
    "## pyenv\n",
    "\n",
    "Pyenv is an *even more clever hack* than what `virtualenv` does, and `pyenv` is really closer to what `conda` is doing for virtual environments.  Note that `pyenv` is not a package manager though: it only deals with Python environments, which means you would still use `pip` for installing packages.  Also, `pyenv` is not a replacement for `virtualenv` (which makes *virtual* Python environments), but it can work with `virtualenv`.  Confused yet?\n",
    "\n",
    "Pyenv is a tool for installing multiple different Python versions, including not only the official CPython releases, but even PyPy versions and even [Stackless Python](http://stackless.readthedocs.org/en/latest/stackless-python.html).\n",
    "\n",
    "Unfortunately, `pyenv` does not work on Windows (`conda` does)."
   ]
  },
  {
   "cell_type": "markdown",
   "metadata": {},
   "source": [
    "# Bring on the pain AKA a demonstration with pyenv and Docker"
   ]
  },
  {
   "cell_type": "markdown",
   "metadata": {},
   "source": [
    "# Docker"
   ]
  },
  {
   "cell_type": "markdown",
   "metadata": {},
   "source": [
    "Getting docker set up is well beyond the scope of this post.  I'm using docker only as a very simple way to start a VM with the Centos Linux distribution. (Perhaps I should make another blog post called \"Docker for ordinary devs\"...)\n",
    "\n",
    "You don't need to use docker for this.  You can also just start a VM using VMware or Virtualbox.  However, to get going with docker, once it is set up, is quite easy:\n",
    "\n",
    "```shell\n",
    "docker run -i -t centos:7.2.1511 /bin/bash\n",
    "```\n",
    "\n",
    "And then you'll see the prompt change to something like this:\n",
    "\n",
    "```shell\n",
    "[root@7bc15f9e0045 /]#\n",
    "```\n",
    "\n",
    "In the following steps, I change the prompt to `$` to keep it simpler (and more general)."
   ]
  },
  {
   "cell_type": "markdown",
   "metadata": {},
   "source": [
    "\n",
    "# Setting up `pyenv`"
   ]
  },
  {
   "cell_type": "markdown",
   "metadata": {},
   "source": [
    "Install the development tools (this is specific to the Centos and Red Hat distributions of Linux):\n",
    "\n",
    "```bash\n",
    "$ yum groupinstall 'Development Tools'\n",
    "```"
   ]
  },
  {
   "cell_type": "markdown",
   "metadata": {},
   "source": [
    "Certain libraries are needed to build Python, which we are going to do a bunch of times:\n",
    "\n",
    "```bash\n",
    "$ yum install zlib-devel bzip2 bzip2-devel readline-devel sqlite sqlite-devel openssl-devel\n",
    "```"
   ]
  },
  {
   "cell_type": "markdown",
   "metadata": {},
   "source": [
    "Make a folder for the upcoming pydev installer:\n",
    "\n",
    "```bash\n",
    "$ mkdir pyenv\n",
    "$ cd pyenv\n",
    "```"
   ]
  },
  {
   "cell_type": "markdown",
   "metadata": {},
   "source": [
    "Obtain the pyenv installer (copied from the pyenv docs):\n",
    "\n",
    "```bash\n",
    "$ curl -L https://raw.githubusercontent.com/yyuu/pyenv-installer/master/bin/pyenv-installer | bash\n",
    "```"
   ]
  },
  {
   "cell_type": "markdown",
   "metadata": {},
   "source": [
    "This will fail because you also need `git`:\n",
    "\n",
    "```\n",
    "$ yum install git\n",
    "```\n",
    "\n",
    "Now do the `curl` command again."
   ]
  },
  {
   "cell_type": "markdown",
   "metadata": {},
   "source": [
    "Need to add some things to your bash profile:\n",
    "\n",
    "```\n",
    "$ echo 'export PYENV_ROOT=\"$HOME/.pyenv\"' >> ~/.bash_profile\n",
    "$ echo 'export PATH=\"$PYENV_ROOT/bin:$PATH\"' >> ~/.bash_profile\n",
    "```\n",
    "\n",
    "and\n",
    "\n",
    "```shell\n",
    "$ echo 'eval \"$(pyenv init -)\"' >> ~/.bash_profile\n",
    "```"
   ]
  },
  {
   "cell_type": "markdown",
   "metadata": {},
   "source": [
    "Now re-read your `bash` config file to set up pyenv:\n",
    "\n",
    "```bash\n",
    "$ source ~/.bash_profile\n",
    "```"
   ]
  },
  {
   "cell_type": "markdown",
   "metadata": {},
   "source": [
    "Install a Python version:\n",
    "\n",
    "```\n",
    "$ pyenv install 2.7.11\n",
    "```\n",
    "\n",
    "Note that this doesn't automatically \"activate\" or do anything with the new Python, it just installs it. You can check to see which Python is currently active:\n",
    "\n",
    "```bash\n",
    "$ pyenv version\n",
    "system (set by /root/.pyenv/version)\n",
    "```"
   ]
  },
  {
   "cell_type": "markdown",
   "metadata": {},
   "source": [
    "You can set up things so that a specific Python version is associated with a **particular directory**.  This is called the **`local`** setting.  You can also change out the **`global`** python interpreter using the subcommand of the same name. Lastly, you can change the **`shell`** interpreter.  Let's do that by changing from the default to the one we just installed.\n",
    "\n",
    "```shell \n",
    "$ pyenv versions\n",
    "* system (set by /root/.pyenv/version)\n",
    "  2.7.11\n",
    "$ python -V\n",
    "Python 2.7.5\n",
    "$ pyenv shell 2.7.11\n",
    "$ python -V\n",
    "Python 2.7.11\n",
    "```\n",
    "\n",
    "The `2.7.5` is the default Python installed on this version of Centos, 7.2.1511."
   ]
  },
  {
   "cell_type": "markdown",
   "metadata": {},
   "source": [
    "Let's add another Python:\n",
    "\n",
    "```shell\n",
    "$ pyenv install 3.5.1\n",
    "sha256sum: the --quiet option is meaningful only when verifying checksums\n",
    "Try 'sha256sum --help' for more information.\n",
    "Downloading Python-3.5.1.tgz...\n",
    "-> https://www.python.org/ftp/python/3.5.1/Python-3.5.1.tgz\n",
    "Installing Python-3.5.1...\n",
    "Installed Python-3.5.1 to /root/.pyenv/versions/3.5.1\n",
    "```"
   ]
  },
  {
   "cell_type": "markdown",
   "metadata": {},
   "source": [
    "Listing out the versions shows that 3.5.1 is now available:\n",
    "\n",
    "```shell\n",
    "$ pyenv versions\n",
    "  system\n",
    "* 2.7.11 (set by PYENV_VERSION environment variable)\n",
    "  3.5.1\n",
    "```\n",
    "\n",
    "It's also pretty great how the feedback tells us that the currently active one was set for the shell."
   ]
  },
  {
   "cell_type": "markdown",
   "metadata": {},
   "source": [
    "So now we have decoupled Python versions from the operating system. In fact we can now install **any of these Python versions** in this incredibly long list (apologies for the length; just scroll past it if you like):\n",
    "\n",
    "```\n",
    "$ pyenv install --list\n",
    "Available versions:\n",
    "  2.1.3\n",
    "  2.2.3\n",
    "  2.3.7\n",
    "  2.4\n",
    "  2.4.1\n",
    "  2.4.2\n",
    "  2.4.3\n",
    "  2.4.4\n",
    "  2.4.5\n",
    "  2.4.6\n",
    "  2.5\n",
    "  2.5.1\n",
    "  2.5.2\n",
    "  2.5.3\n",
    "  2.5.4\n",
    "  2.5.5\n",
    "  2.5.6\n",
    "  2.6.6\n",
    "  2.6.7\n",
    "  2.6.8\n",
    "  2.6.9\n",
    "  2.7-dev\n",
    "  2.7\n",
    "  2.7.1\n",
    "  2.7.2\n",
    "  2.7.3\n",
    "  2.7.4\n",
    "  2.7.5\n",
    "  2.7.6\n",
    "  2.7.7\n",
    "  2.7.8\n",
    "  2.7.9\n",
    "  2.7.10\n",
    "  2.7.11\n",
    "  3.0.1\n",
    "  3.1\n",
    "  3.1.1\n",
    "  3.1.2\n",
    "  3.1.3\n",
    "  3.1.4\n",
    "  3.1.5\n",
    "  3.2-dev\n",
    "  3.2\n",
    "  3.2.1\n",
    "  3.2.2\n",
    "  3.2.3\n",
    "  3.2.4\n",
    "  3.2.5\n",
    "  3.2.6\n",
    "  3.3.0\n",
    "  3.3-dev\n",
    "  3.3.1\n",
    "  3.3.2\n",
    "  3.3.3\n",
    "  3.3.4\n",
    "  3.3.5\n",
    "  3.3.6\n",
    "  3.4.0\n",
    "  3.4-dev\n",
    "  3.4.1\n",
    "  3.4.2\n",
    "  3.4.3\n",
    "  3.4.4\n",
    "  3.5.0\n",
    "  3.5-dev\n",
    "  3.5.1\n",
    "  3.6-dev\n",
    "  anaconda-1.4.0\n",
    "  anaconda-1.5.0\n",
    "  anaconda-1.5.1\n",
    "  anaconda-1.6.0\n",
    "  anaconda-1.6.1\n",
    "  anaconda-1.7.0\n",
    "  anaconda-1.8.0\n",
    "  anaconda-1.9.0\n",
    "  anaconda-1.9.1\n",
    "  anaconda-1.9.2\n",
    "  anaconda-2.0.0\n",
    "  anaconda-2.0.1\n",
    "  anaconda-2.1.0\n",
    "  anaconda-2.2.0\n",
    "  anaconda-2.3.0\n",
    "  anaconda-2.4.0\n",
    "  anaconda2-2.4.0\n",
    "  anaconda2-2.4.1\n",
    "  anaconda3-2.0.0\n",
    "  anaconda3-2.0.1\n",
    "  anaconda3-2.1.0\n",
    "  anaconda3-2.2.0\n",
    "  anaconda3-2.3.0\n",
    "  anaconda3-2.4.0\n",
    "  anaconda3-2.4.1\n",
    "  ironpython-dev\n",
    "  ironpython-2.7.4\n",
    "  ironpython-2.7.5\n",
    "  jython-dev\n",
    "  jython-2.5.0\n",
    "  jython-2.5-dev\n",
    "  jython-2.5.1\n",
    "  jython-2.5.2\n",
    "  jython-2.5.3\n",
    "  jython-2.5.4-rc1\n",
    "  jython-2.7.0\n",
    "  jython-2.7.1b1\n",
    "  jython-2.7.1b2\n",
    "  miniconda-latest\n",
    "  miniconda-2.2.2\n",
    "  miniconda-3.0.0\n",
    "  miniconda-3.0.4\n",
    "  miniconda-3.0.5\n",
    "  miniconda-3.3.0\n",
    "  miniconda-3.4.2\n",
    "  miniconda-3.7.0\n",
    "  miniconda-3.8.3\n",
    "  miniconda-3.9.1\n",
    "  miniconda-3.10.1\n",
    "  miniconda-3.16.0\n",
    "  miniconda-3.18.3\n",
    "  miniconda2-latest\n",
    "  miniconda2-3.18.3\n",
    "  miniconda2-3.19.0\n",
    "  miniconda3-latest\n",
    "  miniconda3-2.2.2\n",
    "  miniconda3-3.0.0\n",
    "  miniconda3-3.0.4\n",
    "  miniconda3-3.0.5\n",
    "  miniconda3-3.3.0\n",
    "  miniconda3-3.4.2\n",
    "  miniconda3-3.7.0\n",
    "  miniconda3-3.8.3\n",
    "  miniconda3-3.9.1\n",
    "  miniconda3-3.10.1\n",
    "  miniconda3-3.16.0\n",
    "  miniconda3-3.18.3\n",
    "  miniconda3-3.19.0\n",
    "  pypy-c-jit-latest\n",
    "  pypy-c-nojit-latest\n",
    "  pypy-dev\n",
    "  pypy-stm-2.3\n",
    "  pypy-portable-2.3.1\n",
    "  pypy-portable-2.4\n",
    "  pypy-portable-2.5\n",
    "  pypy-portable-2.5.1\n",
    "  pypy-stm-2.5.1\n",
    "  pypy-portable-2.6\n",
    "  pypy-portable-2.6.1\n",
    "  pypy-portable-4.0\n",
    "  pypy-portable-4.0.1\n",
    "  pypy-1.5-src\n",
    "  pypy-1.5\n",
    "  pypy-1.6\n",
    "  pypy-1.7-dev\n",
    "  pypy-1.7\n",
    "  pypy-1.8-dev\n",
    "  pypy-1.8\n",
    "  pypy-1.9-dev\n",
    "  pypy-1.9\n",
    "  pypy-2.0-dev\n",
    "  pypy-2.0-src\n",
    "  pypy-2.0\n",
    "  pypy-2.0.1-src\n",
    "  pypy-2.0.1\n",
    "  pypy-2.0.2-src\n",
    "  pypy-2.0.2\n",
    "  pypy-2.1-src\n",
    "  pypy-2.1\n",
    "  pypy-2.2-src\n",
    "  pypy-2.2\n",
    "  pypy-2.2.1-src\n",
    "  pypy-2.2.1\n",
    "  pypy-2.3-src\n",
    "  pypy-2.3\n",
    "  pypy-2.3.1-src\n",
    "  pypy-2.3.1\n",
    "  pypy-2.4.0-src\n",
    "  pypy-2.4.0\n",
    "  pypy-2.4-beta1-src\n",
    "  pypy-2.4-beta1\n",
    "  pypy-2.5.0-src\n",
    "  pypy-2.5.0\n",
    "  pypy-2.5.1-src\n",
    "  pypy-2.5.1\n",
    "  pypy-2.6.0-src\n",
    "  pypy-2.6.0\n",
    "  pypy-2.6.1-src\n",
    "  pypy-2.6.1\n",
    "  pypy-4.0.0-src\n",
    "  pypy-4.0.0\n",
    "  pypy-4.0.1-src\n",
    "  pypy-4.0.1\n",
    "  pypy3-dev\n",
    "  pypy3-portable-2.3.1\n",
    "  pypy3-portable-2.4\n",
    "  pypy3-2.3.1-src\n",
    "  pypy3-2.3.1\n",
    "  pypy3-2.4.0-src\n",
    "  pypy3-2.4.0\n",
    "  stackless-dev\n",
    "  stackless-2.7-dev\n",
    "  stackless-2.7.2\n",
    "  stackless-2.7.3\n",
    "  stackless-2.7.4\n",
    "  stackless-2.7.5\n",
    "  stackless-2.7.6\n",
    "  stackless-2.7.7\n",
    "  stackless-2.7.8\n",
    "  stackless-3.2-dev\n",
    "  stackless-3.2.2\n",
    "  stackless-3.2.5\n",
    "  stackless-3.3-dev\n",
    "  stackless-3.3.5\n",
    "  stackless-3.4.1\n",
    "```"
   ]
  },
  {
   "cell_type": "markdown",
   "metadata": {},
   "source": [
    "However, we **still have a problem** because different Python apps using the **same version of Python** still need version pinning for their respective dependencies.  Remember the example of one app needing Numpy 1.7.1 and the other needing Numpy 1.8?\n",
    "\n",
    "This is what **virtualenv** is for, and you can also use it with `pyenv`:\n",
    "\n",
    "```shell\n",
    "$ pyenv versions\n",
    "  system\n",
    "* 2.7.11 (set by PYENV_VERSION environment variable)\n",
    "  3.5.1\n",
    "```\n",
    "\n",
    "Now lets create a new `virtualenv` for the 3.5.1 version of Python:\n",
    "\n",
    "```shell\n",
    "$ pyenv virtualenv 3.5.1 my_env_35\n",
    "Ignoring indexes: https://pypi.python.org/simple\n",
    "Requirement already satisfied (use --upgrade to upgrade): setuptools in /root/.pyenv/versions/3.5.1/envs/my_env_35/lib/python3.5/site-packages\n",
    "Requirement already satisfied (use --upgrade to upgrade): pip in /root/.pyenv/versions/3.5.1/envs/my_env_35/lib/python3.5/site-packages\n",
    "```"
   ]
  },
  {
   "cell_type": "markdown",
   "metadata": {},
   "source": [
    "Listing out the available versions again:\n",
    "\n",
    "```shell\n",
    "pyenv versions\n",
    "  system\n",
    "* 2.7.11 (set by PYENV_VERSION environment variable)\n",
    "  3.5.1\n",
    "  3.5.1/envs/my_env_35\n",
    "  my_env_35\n",
    "```\n",
    "\n",
    "The virtualenv is listed separately, and twice.  I don't know why."
   ]
  },
  {
   "cell_type": "markdown",
   "metadata": {},
   "source": [
    "You can activate the new virtualenv in two ways:\n",
    "\n",
    "```shell\n",
    "$ pyenv shell my_env_35\n",
    "pyenv-virtualenv: deactivate\n",
    "pyenv-virtualenv: activate my_env_35\n",
    "pyenv-virtualenv: prompt changing will be removed from future release. configure `export PYENV_VIRTUALENV_DISABLE_PROMPT=1' to simulate the behavior.\n",
    "(my_env_35) $ python -V\n",
    "Python 3.5.1\n",
    "```\n",
    "\n",
    "This method treats the virtualenv like just another Python instance, which is nice. To do the deactivation, just switch to another Python version:\n",
    "\n",
    "```shell\n",
    "$ pyenv shell system\n",
    "pyenv-virtualenv: deactivate 3.5.1/envs/my_env_35\n",
    "$ python -V\n",
    "Python 2.7.5\n",
    "```"
   ]
  },
  {
   "cell_type": "markdown",
   "metadata": {},
   "source": [
    "The other way is to use `pyenv activate <envname>` and `pyenv deactivate`."
   ]
  },
  {
   "cell_type": "markdown",
   "metadata": {},
   "source": [
    "# Running your app"
   ]
  },
  {
   "cell_type": "markdown",
   "metadata": {},
   "source": [
    "The easiest way is probably to create a short [wrapper shell script](http://stackoverflow.com/a/30222231/170656) to change to the correct env, and then call your app:\n",
    "\n",
    "```shell\n",
    "# run.sh\n",
    "pyenv shell 3.5.1\n",
    "python myapp.py\n",
    "```\n",
    "\n",
    "And then the way you start your app becomes:\n",
    "\n",
    "```shell\n",
    "$ source run.sh\n",
    "```\n",
    "\n",
    "(You can also put a bash shebang at the top of `run.sh` and make it executable, in the usual way.)"
   ]
  },
  {
   "cell_type": "markdown",
   "metadata": {},
   "source": [
    "If you have multiple apps, this becomes tedious, so rather just have a single runner, and pass it args:\n",
    "\n",
    "```shell\n",
    "# run.sh\n",
    "pyenv shell 3.5.1\n",
    "python \"$@\"\n",
    "```\n",
    "\n",
    "The `\"$@\"` arguments is special (and [make sure you include the quotes](http://stackoverflow.com/a/3816747/170656)). It makes sure all the arguments passed to your `run.sh` script will get passed on.  So now the name of your Python app becomes an argument to run.sh:\n",
    "\n",
    "```shell\n",
    "$ source run.sh myapp.py\n",
    "(myapp.py runs under 3.5.1)\n",
    "$ source run.sh myotherapp.py\n",
    "(myotherapp.py also runs 3.5.1)\n",
    "```"
   ]
  },
  {
   "cell_type": "markdown",
   "metadata": {},
   "source": [
    "If you're still paying attention and have not been completely exhausted yet, it should be easy to see how you might generalize `run.sh` so that you can also pass the name of the Python environment to use. However, it begins to get a bit fiddly with managing the list of command-line parameters if some of them (e.g. \"3.5.1\") are not meant for the python script, but you still want to pass everything _else_ to your app.  \n",
    "\n",
    "In this case, it will be much easier to simply set an environment variable.\n",
    "\n",
    "### In fact, `pyenv` already provides this by default"
   ]
  },
  {
   "cell_type": "markdown",
   "metadata": {},
   "source": [
    "You don't even need to muck around with a shell script at all.  To have exactly the same effect as running `pyenv shell 3.5.1`, all you need is this:\n",
    "\n",
    "```shell\n",
    "$ PYENV_VERSION=my_env_35 python myapp.py\n",
    "(myapp.py runs under the virtualenv)\n",
    "$ PYENV_VERSION=system python myapp.py\n",
    "(myapp.py runs under the system python)\n",
    "$ PYENV_VERSION=2.7.11 python myapp.py\n",
    "(myapp.py runs under Python 2.7.11)\n",
    "```"
   ]
  },
  {
   "cell_type": "code",
   "execution_count": null,
   "metadata": {
    "collapsed": true
   },
   "outputs": [],
   "source": []
  }
 ],
 "metadata": {
  "kernelspec": {
   "display_name": "Python 2",
   "language": "python",
   "name": "python2"
  },
  "language_info": {
   "codemirror_mode": {
    "name": "ipython",
    "version": 2
   },
   "file_extension": ".py",
   "mimetype": "text/x-python",
   "name": "python",
   "nbconvert_exporter": "python",
   "pygments_lexer": "ipython2",
   "version": "2.7.11"
  }
 },
 "nbformat": 4,
 "nbformat_minor": 0
}
