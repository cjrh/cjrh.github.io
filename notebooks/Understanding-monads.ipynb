{
 "cells": [
  {
   "cell_type": "markdown",
   "id": "ec61bf4b-dc63-4d71-bc08-5a1f215165f4",
   "metadata": {},
   "source": [
    "# Understanding Monads using Python"
   ]
  },
  {
   "cell_type": "markdown",
   "id": "f4180ea9-e73d-4953-a9b7-fadcd4f45bea",
   "metadata": {},
   "source": [
    "Many tutorials I've seen have tended to focus on a top-down approach of explanation. I'd like to try a bottom-up approach, using just the normal plain old Python you already know.\n",
    "\n",
    "We're going to make a `Result` monad, to encapsulate both success and failure states, and we're going to compare this to using plain old exceptions."
   ]
  },
  {
   "cell_type": "markdown",
   "id": "aef9805f-5612-43f3-8fb0-018053758add",
   "metadata": {},
   "source": [
    "## It's all about the bind"
   ]
  },
  {
   "cell_type": "markdown",
   "id": "bdef0442-a784-4d0b-956b-3e5fc83e7eb2",
   "metadata": {},
   "source": [
    "Imagine you did a sequence of operations like this:"
   ]
  },
  {
   "cell_type": "code",
   "execution_count": 22,
   "id": "7a7e6b6c-0090-44e3-8bca-41cdda861f20",
   "metadata": {},
   "outputs": [
    {
     "name": "stdout",
     "output_type": "stream",
     "text": [
      "6\n"
     ]
    }
   ],
   "source": [
    "s = \"    This is my wonderful long string   \"\n",
    "output: int = (\n",
    "    s.strip()\n",
    "    .replace(\"w\", \"W\")\n",
    "    .split(\" \")\n",
    "    .__len__()\n",
    ")\n",
    "print(output)"
   ]
  },
  {
   "cell_type": "markdown",
   "id": "29c22000-c569-4055-bfd7-1cc05d0f18ca",
   "metadata": {},
   "source": [
    "Look carefully at how the data, which is originally the string `s`, propagates through the chain of calls and the data gets modified along the way. Now imagine that every successive chained operation was wrapped in a method call called `bind()`. Without going into too much detail, let's just write out what the previous operation might look like. This code won't run, I just want you to visualize how the chain of operations is still being respected, albeit with extra parts:\n",
    "\n",
    "```python\n",
    "s = \"    This is my wonderful long string   \"\n",
    "output = (\n",
    "    s.bind(str.strip)\n",
    "    .bind(lambda s: s.replace(\"w\", \"W\"))\n",
    "    .bind(lambda s: s.split(\" \"))\n",
    "    .bind(lambda lst: len(lst))\n",
    ")\n",
    "print(output)\n",
    "```\n",
    "\n",
    "The `bind()` is just a way to apply a function to the object. For the above to have any chance of working, it is necessary that every usage of `bind()` returns another thing itself also has a `bind()` method, right? That is a bit annoying; however, on the plus side if we have a standard way of applying a succession of function calls to some data, that gives us the opportunity to make some decisions about what to do when a particular function needs to be applied.\n",
    "\n",
    "Crucially, one of those choices is about what to do if a particular function being applied causes an error. This is the key idea. So to summarize:\n",
    "- We need to wrap our data in some kind of object wrapper that has a `bind()` method\n",
    "- The `bind()` method will execute a function, passing the current value (or \"state\") to that function\n",
    "- It is important that the `bind()` method returns an object that also has a `bind()` method, allowing more chaining.\n",
    "\n",
    "With all that out of the way, let's make a set of classes that will handle \"success\" and \"failure\"."
   ]
  },
  {
   "cell_type": "markdown",
   "id": "42785bc6-a4c8-4ab3-927a-755feadd507c",
   "metadata": {},
   "source": [
    "## New classes to wrap our data, and implement `bind`"
   ]
  },
  {
   "cell_type": "markdown",
   "id": "f61b1051-4739-4d40-bcdc-da5313fc2204",
   "metadata": {},
   "source": [
    "I'll write out the code first, and then we'll talk about it."
   ]
  },
  {
   "cell_type": "code",
   "execution_count": 25,
   "id": "db8e8713-59cf-4d9c-9e01-f896520ce1a5",
   "metadata": {},
   "outputs": [],
   "source": [
    "from dataclasses import dataclass\n",
    "from abc import abstractmethod\n",
    "from typing import Any\n",
    "\n",
    "@dataclass\n",
    "class Result:\n",
    "    @abstractmethod\n",
    "    def bind(self, f):\n",
    "        raise NotImplementedError\n",
    "\n",
    "@dataclass\n",
    "class Ok(Result):\n",
    "    value: Any\n",
    "    def bind(self, f):\n",
    "        try:\n",
    "            return Ok(f(self.value))\n",
    "        except Exception as e:\n",
    "            return Err(e)\n",
    "\n",
    "@dataclass\n",
    "class Err(Result):\n",
    "    value: Exception\n",
    "    def bind(self, f):\n",
    "        return self"
   ]
  },
  {
   "cell_type": "markdown",
   "id": "ffd5a6c1-44e1-4063-a2e3-fdfb701df1ba",
   "metadata": {},
   "source": [
    "We don't actually need the base class `Result`, but it will help with type annotations.\n",
    "\n",
    "The import bit to explain is that we have two classes that will **wrap** our actual data. These two classes are `Ok` and `Err`. Pay attention to the following:\n",
    "- They both have a `bind()` method\n",
    "- For each, their `bind()` method returns an object that itself has a `bind()` method.\n",
    "\n",
    "Let's talk about the last point for a minute.  The `Err` class is easy. It's internal `value` is always an exception type, and it's `bind()` method always just returns itself. This might seem pointless, but the true point is to satisfy the two requirements above.\n",
    "\n",
    "The other class, `Ok`, is more interesting. Inside its `bind()` method, it will apply the given function `f` to its internal data, and if this call succeeds it will wrap that new result in a new instance of `Ok`, and return that. However, if the evaluation of `f(self.value)` fails, then it will wrap the resulting `Exception` type in a new instance of `Err` and return that instead.\n",
    "\n",
    "The `Ok.bind()` method can only return `Ok` or `Err`. There are no other possible options. Since both `Ok` and `Err` satisfy our two requirements, we should be able to use our new classes."
   ]
  },
  {
   "cell_type": "markdown",
   "id": "b7199328-179f-4861-ab1e-fabe6e8a9f24",
   "metadata": {},
   "source": [
    "## Using the `Ok` and `Err` classes"
   ]
  },
  {
   "cell_type": "markdown",
   "id": "5412ece9-d079-4625-9f64-9388bd4c7b14",
   "metadata": {},
   "source": [
    "Let's try to implement the idealised example from earlier, this time with real code using our two examples."
   ]
  },
  {
   "cell_type": "code",
   "execution_count": 16,
   "id": "3c4a6678-da62-4ed1-9fb1-3cd0d94125ec",
   "metadata": {},
   "outputs": [
    {
     "name": "stdout",
     "output_type": "stream",
     "text": [
      "Ok(value=6)\n"
     ]
    }
   ],
   "source": [
    "s = \"    This is my wonderful long string   \"\n",
    "output: Result = (\n",
    "    Ok(s)\n",
    "    .bind(str.strip)\n",
    "    .bind(lambda s: s.replace(\"w\", \"W\"))\n",
    "    .bind(lambda s: s.split(\" \"))\n",
    "    .bind(lambda lst: len(lst))\n",
    ")\n",
    "print(output)"
   ]
  },
  {
   "cell_type": "markdown",
   "id": "baa9341c-7b38-4327-b19c-a14487d735ef",
   "metadata": {},
   "source": [
    "How interesting: instead of getting a `6`, as before, we get the value wrapped in an `Ok` object wrapper. That makes sense, because remember that every application of `bind()` will keep returning a new wrapper.  \n",
    "\n",
    "Note the type annotation, `Result`, in the code snippet above. That's why we have a base class for `Ok` and `Err`, because it allows us to describe that an identifier's type, like `output` above, could be one of those two subclasses.\n",
    "\n",
    "To get the data out, you can simply access the `value` attribute:"
   ]
  },
  {
   "cell_type": "code",
   "execution_count": 17,
   "id": "ccdda10d-9ffe-4888-8975-4f182e2dfa76",
   "metadata": {},
   "outputs": [
    {
     "name": "stdout",
     "output_type": "stream",
     "text": [
      "6\n"
     ]
    }
   ],
   "source": [
    "print(output.value)"
   ]
  },
  {
   "cell_type": "markdown",
   "id": "dfebe049-e2ba-46d9-83b2-a95457b5df72",
   "metadata": {},
   "source": [
    "So far this seems like a laborious way to do a very simple chaining operation. At least, in the original plain Python code it was quite simple. There were earlier implications that this strategy using `bind()` might be useful for error handling. With that in mind let's modify our example to introduce an error. "
   ]
  },
  {
   "cell_type": "markdown",
   "id": "08c99740-caea-44db-ab3e-0b73472cd915",
   "metadata": {},
   "source": [
    "## Compare error handling: exceptions vs bind"
   ]
  },
  {
   "cell_type": "markdown",
   "id": "fa056f5d-3f2d-4a4a-8118-e87c96dfb94a",
   "metadata": {},
   "source": [
    "Here I've changed the value `s` from a string to a float. None of the string manipulations are going to work, and we're going to get an error:"
   ]
  },
  {
   "cell_type": "code",
   "execution_count": 18,
   "id": "eeb0621b-5b16-410a-90b3-72b8e1c7b987",
   "metadata": {},
   "outputs": [
    {
     "ename": "AttributeError",
     "evalue": "'float' object has no attribute 'strip'",
     "output_type": "error",
     "traceback": [
      "\u001b[0;31m---------------------------------------------------------------------------\u001b[0m",
      "\u001b[0;31mAttributeError\u001b[0m                            Traceback (most recent call last)",
      "Cell \u001b[0;32mIn[18], line 3\u001b[0m\n\u001b[1;32m      1\u001b[0m s \u001b[38;5;241m=\u001b[39m \u001b[38;5;241m123.4\u001b[39m\n\u001b[1;32m      2\u001b[0m output \u001b[38;5;241m=\u001b[39m (\n\u001b[0;32m----> 3\u001b[0m     \u001b[43ms\u001b[49m\u001b[38;5;241;43m.\u001b[39;49m\u001b[43mstrip\u001b[49m()\n\u001b[1;32m      4\u001b[0m     \u001b[38;5;241m.\u001b[39mreplace(\u001b[38;5;124m\"\u001b[39m\u001b[38;5;124mw\u001b[39m\u001b[38;5;124m\"\u001b[39m, \u001b[38;5;124m\"\u001b[39m\u001b[38;5;124mW\u001b[39m\u001b[38;5;124m\"\u001b[39m)\n\u001b[1;32m      5\u001b[0m     \u001b[38;5;241m.\u001b[39msplit(\u001b[38;5;124m\"\u001b[39m\u001b[38;5;124m \u001b[39m\u001b[38;5;124m\"\u001b[39m)\n\u001b[1;32m      6\u001b[0m     \u001b[38;5;241m.\u001b[39m\u001b[38;5;21m__len__\u001b[39m()\n\u001b[1;32m      7\u001b[0m )\n\u001b[1;32m      8\u001b[0m \u001b[38;5;28mprint\u001b[39m(output)\n",
      "\u001b[0;31mAttributeError\u001b[0m: 'float' object has no attribute 'strip'"
     ]
    }
   ],
   "source": [
    "s = 123.4\n",
    "output = (\n",
    "    s.strip()\n",
    "    .replace(\"w\", \"W\")\n",
    "    .split(\" \")\n",
    "    .__len__()\n",
    ")\n",
    "print(output)"
   ]
  },
  {
   "cell_type": "markdown",
   "id": "271c1a8d-6e75-491b-ac8c-4164fb096b88",
   "metadata": {},
   "source": [
    "By changing the data type of the data, `s`, our code now blows up. In normal Python, the way to deal with this is with exception handling. Let's add some."
   ]
  },
  {
   "cell_type": "code",
   "execution_count": 19,
   "id": "985b8494-390e-4288-9bda-c1a47f9c3d7d",
   "metadata": {},
   "outputs": [
    {
     "name": "stdout",
     "output_type": "stream",
     "text": [
      "There was an error: 'float' object has no attribute 'strip'\n"
     ]
    }
   ],
   "source": [
    "s = 123.4\n",
    "try:\n",
    "  output = (\n",
    "    s.strip()\n",
    "    .replace(\"w\", \"W\")\n",
    "    .split(\" \")\n",
    "    .__len__()\n",
    "  )\n",
    "except Exception as e:\n",
    "    print(f\"There was an error: {e}\")\n",
    "else:\n",
    "    print(output)"
   ]
  },
  {
   "cell_type": "markdown",
   "id": "98e57a3c-addd-4003-b528-d2566f1c3abd",
   "metadata": {},
   "source": [
    "That's much less explosive!\n",
    "\n",
    "Let's try to process the same bad data with our new code that uses `bind()` and the `Ok` and `Err` types. No exception handler will be added."
   ]
  },
  {
   "cell_type": "code",
   "execution_count": 20,
   "id": "f32a68ba-9606-4671-a5a8-62fc20fa33fe",
   "metadata": {},
   "outputs": [
    {
     "name": "stdout",
     "output_type": "stream",
     "text": [
      "Err(value=TypeError(\"descriptor 'strip' for 'str' objects doesn't apply to a 'float' object\"))\n"
     ]
    }
   ],
   "source": [
    "s = 123.4\n",
    "output = (\n",
    "    Ok(s)\n",
    "    .bind(str.strip)\n",
    "    .bind(lambda s: s.replace(\"w\", \"W\"))\n",
    "    .bind(lambda s: s.split(\" \"))\n",
    "    .bind(lambda lst: len(lst))\n",
    ")\n",
    "print(output)"
   ]
  },
  {
   "cell_type": "markdown",
   "id": "6a25a353-8cb8-4b8b-9a9e-49f4ae7a6f9f",
   "metadata": {},
   "source": [
    "This is super interesting. We didn't get an exception raised, but what we observe is the the _output value itself_ is an instance of the `Err` class. Furthermore, the internal value of this object contains our exception. I personally find it quite interesting that the error message is better in this case than what we got with the more natural error handling approach with the non-bind code.\n",
    "\n",
    "In the above example, the error was introduced right at the start. It might help to understand even more deeply by seeing what happens if we move the error to somewhere deeper in the call chain."
   ]
  },
  {
   "cell_type": "code",
   "execution_count": 21,
   "id": "17268bb0-f6dd-47c3-9ea7-f81a296ba750",
   "metadata": {},
   "outputs": [
    {
     "name": "stdout",
     "output_type": "stream",
     "text": [
      "Err(value=AttributeError(\"'NoneType' object has no attribute 'split'\"))\n"
     ]
    }
   ],
   "source": [
    "s = \"    This is my wonderful long string   \"\n",
    "output = (\n",
    "    Ok(s)\n",
    "    .bind(str.strip)\n",
    "    .bind(lambda s: s.replace(\"w\", \"W\"))\n",
    "    # This is new, I'm replacing the data in the stream with `None`\n",
    "    .bind(lambda s: None) \n",
    "    # This application will fail because you can't call `split` on `None`\n",
    "    .bind(lambda s: s.split(\" \"))\n",
    "    .bind(lambda lst: len(lst))\n",
    ")\n",
    "print(output)"
   ]
  },
  {
   "cell_type": "markdown",
   "id": "1d60f49b-e302-455f-9250-d41c5619ee17",
   "metadata": {},
   "source": [
    "And there go you. The failure along the chain of applications got caught and propagated through."
   ]
  },
  {
   "cell_type": "markdown",
   "id": "1516e16a-c352-4b10-a2d1-fd076cc12176",
   "metadata": {},
   "source": [
    "Just as we saw with the success case, it was necessary to extract the value of the result, `6`. Likewise, it will be necessary here to extract the exception. If you wanted to handle both the success and the error case, you might use the `match` statement:"
   ]
  },
  {
   "cell_type": "code",
   "execution_count": 33,
   "id": "dea96154-6243-4c60-ae85-f44e6c15f8d3",
   "metadata": {},
   "outputs": [],
   "source": [
    "def some_processing(s: str|None) -> Result:\n",
    "    return (\n",
    "        Ok(s)\n",
    "        .bind(str.strip)\n",
    "        .bind(lambda s: s.replace(\"w\", \"W\"))\n",
    "        .bind(lambda s: s.split(\" \"))\n",
    "        .bind(lambda lst: len(lst))\n",
    "    )"
   ]
  },
  {
   "cell_type": "markdown",
   "id": "eebf9397-93a7-4e6a-bba7-07c6eecd2d20",
   "metadata": {},
   "source": [
    "First we'll try valid data:"
   ]
  },
  {
   "cell_type": "code",
   "execution_count": 30,
   "id": "e9800851-e889-423d-9524-f641cfec3f2e",
   "metadata": {},
   "outputs": [
    {
     "name": "stdout",
     "output_type": "stream",
     "text": [
      "Success. The result was 6\n"
     ]
    }
   ],
   "source": [
    "s = \"    This is my wonderful long string   \"\n",
    "match some_processing(s):\n",
    "    case Ok(value):\n",
    "        print(f\"Success. The result was {value}\")\n",
    "    case Err(e):\n",
    "        print(f\"Failure. The exception was {e}\")"
   ]
  },
  {
   "cell_type": "markdown",
   "id": "a2852b10-910d-4a5d-98f4-a4ce190aaaa9",
   "metadata": {},
   "source": [
    "...and now invalid data:"
   ]
  },
  {
   "cell_type": "code",
   "execution_count": 32,
   "id": "c7260f02-c658-42d9-8611-f642f96663af",
   "metadata": {},
   "outputs": [
    {
     "name": "stdout",
     "output_type": "stream",
     "text": [
      "Failure. The exception was descriptor 'strip' for 'str' objects doesn't apply to a 'NoneType' object\n"
     ]
    }
   ],
   "source": [
    "s = None\n",
    "match some_processing(s):\n",
    "    case Ok(value):\n",
    "        print(f\"Success. The result was {value}\")\n",
    "    case Err(e):\n",
    "        print(f\"Failure. The exception was {e}\")"
   ]
  },
  {
   "cell_type": "markdown",
   "id": "be01a3e6-ab7f-4370-8e7f-a75492d23c20",
   "metadata": {},
   "source": [
    "We made good use of the `match` statement's pattern matching features in extract the values from each of the `Ok` and `Err` variants."
   ]
  },
  {
   "cell_type": "markdown",
   "id": "c62d8be3-624d-4e52-a0e2-c04d4a0d608f",
   "metadata": {},
   "source": [
    "## Conclusion"
   ]
  },
  {
   "cell_type": "markdown",
   "id": "b80edcab-4239-4e8c-84fb-28fc29ee0487",
   "metadata": {},
   "source": [
    "Perhaps a good way to compare the two approaches above for error handling is to describe them like this: \n",
    "- Exceptions jump directly out of the path of execution and race up the stack to the nearest exception handler where you can handle them appropriately.\n",
    "- Monadic error handling, e.g. using the `Ok` and `Err` classes above, instead allows the chain of execution to _bypass_ code once an error condition has been found. Crucially, the error condition and the success condition are now both different types of data which means that their handling and detection can be managed with type-checking rather than an error handler.\n",
    "\n",
    "Which is better? The classic question. My personal view is that programming languages that do a good job of modelling types, or said in another way have a rich type system, are likely to be better off with monadic styles. On the other hand, programming languages that focus less on the type system, for example dynamically-typed systems like Python and JavaScript, are likely to find little benefit using monadic error handling compared to exception handling."
   ]
  },
  {
   "cell_type": "markdown",
   "id": "b3471e29-ea55-4572-b697-243fb285003e",
   "metadata": {},
   "source": [
    "One compelling advantage of the monadic approach for a language like Python, is that it allows the error types to be described by the type system. For example, I could conceive of the following kind of function signature based on using the earlier types described in this post:\n",
    "\n",
    "```python\n",
    "# This code won't work, it's for explanation only\n",
    "def some_processing(a: str|None) -> Result[Ok[int], Err[Exception]]:\n",
    "    ...\n",
    "```"
   ]
  },
  {
   "cell_type": "code",
   "execution_count": null,
   "id": "63269a69-f8b1-4faa-8da2-fca33433b043",
   "metadata": {},
   "outputs": [],
   "source": []
  },
  {
   "cell_type": "code",
   "execution_count": null,
   "id": "cbb269f0-c393-4f0d-ac2d-0ff2396aacb0",
   "metadata": {},
   "outputs": [],
   "source": []
  }
 ],
 "metadata": {
  "kernelspec": {
   "display_name": "Python 3 (ipykernel)",
   "language": "python",
   "name": "python3"
  },
  "language_info": {
   "codemirror_mode": {
    "name": "ipython",
    "version": 3
   },
   "file_extension": ".py",
   "mimetype": "text/x-python",
   "name": "python",
   "nbconvert_exporter": "python",
   "pygments_lexer": "ipython3",
   "version": "3.11.6"
  }
 },
 "nbformat": 4,
 "nbformat_minor": 5
}
