{
 "cells": [
  {
   "cell_type": "markdown",
   "metadata": {},
   "source": [
    "# Bundled Python App on OS X\n",
    "\n",
    "Let's make a redistributable app, using Python, for OS X.\n",
    "\n",
    "Yes, I know what you're thinking: since OS X already includes Python, this should be easy, right?  For many good reasons, one should never use the system Python.  Firstly, you should avoid installing new packages into the system Python, or even upgrading the ones that are there.  The reason should be obvious: you can break your system.\n",
    "\n",
    "The system Python is there for the system, so leave it alone.  (However, if you know what you're doing, and there are very specific reasons why the system Python is the right choice, you'll know why).\n",
    "\n",
    "Secondly, you _could_ use virtualenv to make a new virtual Python environment that is isolated from the system Python. This is fine, but does mean that you're restricted to whatever version of Python that happens to be.  At the time of writing, that means 2.7 on OS X.  What if you want to use cool, new Python 3.6 features in your app?  You're out of luck.\n",
    "\n",
    "Homebrew is another way to install updated versions of Python on your OS X system, but it isn't a great experience for non-technical users, since it requires using the command-line.  It is, however, great for developers.\n",
    "\n",
    "In this post we're going to look at making a _bundled_ OS X app, which means that the app bundle can be copied to another OS X machine and will \"just work\"."
   ]
  }
 ],
 "metadata": {
  "kernelspec": {
   "display_name": "Python 3",
   "language": "python",
   "name": "python3"
  },
  "language_info": {
   "codemirror_mode": {
    "name": "ipython",
    "version": 3
   },
   "file_extension": ".py",
   "mimetype": "text/x-python",
   "name": "python",
   "nbconvert_exporter": "python",
   "pygments_lexer": "ipython3",
   "version": "3.5.1"
  }
 },
 "nbformat": 4,
 "nbformat_minor": 0
}
