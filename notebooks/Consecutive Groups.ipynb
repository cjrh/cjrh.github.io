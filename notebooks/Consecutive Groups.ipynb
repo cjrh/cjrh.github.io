{
 "cells": [
  {
   "cell_type": "markdown",
   "metadata": {},
   "source": [
    "# Consecutive Groups\n",
    "\n",
    "The goal is to convert a sequence of things, say integers, into a sequence of consequence groups. Given a list like this:"
   ]
  },
  {
   "cell_type": "code",
   "execution_count": 111,
   "metadata": {},
   "outputs": [],
   "source": [
    "r = [1, 4, 5, 7, 8, 9, 10, 12, 13, 14, 15, 16, 20]"
   ]
  },
  {
   "cell_type": "markdown",
   "metadata": {},
   "source": [
    "We want to convert it into something like:"
   ]
  },
  {
   "cell_type": "code",
   "execution_count": 112,
   "metadata": {},
   "outputs": [
    {
     "data": {
      "text/plain": [
       "[[1, 1], [4, 5], [7, 10], [12, 16], [20, 20]]"
      ]
     },
     "execution_count": 112,
     "metadata": {},
     "output_type": "execute_result"
    }
   ],
   "source": [
    "[[1, 1], [4, 5], [7, 10], [12, 16], [20, 20]]"
   ]
  },
  {
   "cell_type": "markdown",
   "metadata": {},
   "source": [
    "or perhaps"
   ]
  },
  {
   "cell_type": "code",
   "execution_count": 113,
   "metadata": {},
   "outputs": [
    {
     "data": {
      "text/plain": [
       "[[1], [4, 5], [7, 10], [12, 16], [20]]"
      ]
     },
     "execution_count": 113,
     "metadata": {},
     "output_type": "execute_result"
    }
   ],
   "source": [
    "[[1], [4, 5], [7, 10], [12, 16], [20]]"
   ]
  },
  {
   "cell_type": "markdown",
   "metadata": {},
   "source": [
    "Pre-existing solutions"
   ]
  },
  {
   "cell_type": "markdown",
   "metadata": {},
   "source": [
    "The easy way is to just install the [more-itertools](https://more-itertools.readthedocs.io/en/stable/api.html#more_itertools.consecutive_groups) package, which has a method that gets you very close to this:"
   ]
  },
  {
   "cell_type": "code",
   "execution_count": 114,
   "metadata": {},
   "outputs": [
    {
     "data": {
      "text/plain": [
       "[[1], [4, 5], [7, 8, 9, 10], [12, 13, 14, 15, 16], [20]]"
      ]
     },
     "execution_count": 114,
     "metadata": {},
     "output_type": "execute_result"
    }
   ],
   "source": [
    "from more_itertools import consecutive_groups\n",
    "list(map(list, consecutive_groups(r)))"
   ]
  },
  {
   "cell_type": "markdown",
   "metadata": {},
   "source": [
    "In a second pass we could remove the inner items in the groups that have more than two entries.  But what are our options for doing it in one pass?"
   ]
  },
  {
   "cell_type": "markdown",
   "metadata": {},
   "source": [
    "Starting with the naive approach first:"
   ]
  },
  {
   "cell_type": "code",
   "execution_count": 115,
   "metadata": {},
   "outputs": [],
   "source": [
    "def make_ranges_single(r: List[int]):\n",
    "    ranges = []\n",
    "    for a in r:\n",
    "        if not ranges or not ranges[-1]:\n",
    "            ranges.append([a])\n",
    "            continue\n",
    "            \n",
    "        if a == ranges[-1][-1] + 1:\n",
    "            ranges[-1].append(a)\n",
    "        else:\n",
    "            ranges.append([a])\n",
    "    return ranges        "
   ]
  },
  {
   "cell_type": "code",
   "execution_count": 116,
   "metadata": {},
   "outputs": [
    {
     "name": "stdout",
     "output_type": "stream",
     "text": [
      "[[1], [4, 5], [7, 8, 9, 10], [12, 13, 14, 15, 16], [20]]\n"
     ]
    }
   ],
   "source": [
    "print(make_ranges_single(r))"
   ]
  },
  {
   "cell_type": "markdown",
   "metadata": {},
   "source": [
    "Gets us back to the `consecutive_groups` solution from _more-itertools_.  But we want to exclude the middle bits of groups that have a range, so"
   ]
  },
  {
   "cell_type": "code",
   "execution_count": 117,
   "metadata": {},
   "outputs": [],
   "source": [
    "def make_ranges_single2(r: List[int]):\n",
    "    ranges = []\n",
    "    for a in r:\n",
    "        if not ranges or not ranges[-1]:\n",
    "            ranges.append([a])\n",
    "            continue\n",
    "            \n",
    "        if a == ranges[-1][-1] + 1:\n",
    "            if len(ranges[-1]) == 1:\n",
    "                ranges[-1].append(a)\n",
    "            else:\n",
    "                # Overwrite the second element of this group\n",
    "                ranges[-1][-1] = a\n",
    "        else:\n",
    "            ranges.append([a])\n",
    "    return ranges   "
   ]
  },
  {
   "cell_type": "code",
   "execution_count": 118,
   "metadata": {},
   "outputs": [
    {
     "name": "stdout",
     "output_type": "stream",
     "text": [
      "[[1], [4, 5], [7, 10], [12, 16], [20]]\n"
     ]
    }
   ],
   "source": [
    "print(make_ranges_single2(r))"
   ]
  },
  {
   "cell_type": "markdown",
   "metadata": {},
   "source": [
    "## functools.reduce\n",
    "\n",
    "It occurred to me that this process looks very much like a reduction. Can we use the `reduce` function to do the same job?"
   ]
  },
  {
   "cell_type": "code",
   "execution_count": 119,
   "metadata": {},
   "outputs": [],
   "source": [
    "from functools import reduce"
   ]
  },
  {
   "cell_type": "code",
   "execution_count": 120,
   "metadata": {},
   "outputs": [],
   "source": [
    "def f(ranges, a):\n",
    "    \"\"\"The body of this function is identical to the for-loop in \n",
    "    the previous example!\"\"\"\n",
    "    if not ranges or not ranges[-1]:\n",
    "        ranges.append([a])\n",
    "        return ranges\n",
    "    \n",
    "    if a == ranges[-1][-1] + 1:\n",
    "        if len(ranges[-1]) == 1:\n",
    "            ranges[-1].append(a)\n",
    "        else:\n",
    "            ranges[-1][-1] = a\n",
    "    else:\n",
    "        ranges.append([a])\n",
    "    return ranges"
   ]
  },
  {
   "cell_type": "code",
   "execution_count": 121,
   "metadata": {},
   "outputs": [
    {
     "name": "stdout",
     "output_type": "stream",
     "text": [
      "r=[1, 4, 5, 7, 8, 9, 10, 12, 13, 14, 15, 16, 20]\n",
      "[[1], [4, 5], [7, 10], [12, 16], [20]]\n"
     ]
    }
   ],
   "source": [
    "print(f'r={r}')\n",
    "print(reduce(f, r, []))"
   ]
  },
  {
   "cell_type": "markdown",
   "metadata": {},
   "source": [
    "We get the same using `reduce`.  Since the body of the reducer and the for-loop approach is the same, do we expect any performance difference?"
   ]
  },
  {
   "cell_type": "markdown",
   "metadata": {},
   "source": [
    "### Timings"
   ]
  },
  {
   "cell_type": "code",
   "execution_count": 122,
   "metadata": {},
   "outputs": [
    {
     "name": "stdout",
     "output_type": "stream",
     "text": [
      "Python version: 3.7.4 (tags/v3.7.4:e09359112e, Jul  8 2019, 20:34:20) [MSC v.1916 64 bit (AMD64)]\n",
      "\n",
      "2.91 µs ± 217 ns per loop (mean ± std. dev. of 7 runs, 100000 loops each)\n",
      "3.54 µs ± 156 ns per loop (mean ± std. dev. of 7 runs, 100000 loops each)\n"
     ]
    }
   ],
   "source": [
    "import sys\n",
    "print('Python version:', sys.version, end='\\n\\n')\n",
    "\n",
    "%timeit make_ranges_single2(r)\n",
    "%timeit reduce(f, r, [])"
   ]
  },
  {
   "cell_type": "markdown",
   "metadata": {},
   "source": [
    "There doesn't seem to be much difference, but our sequence is very short.  Let's make a larger sequence and try again."
   ]
  },
  {
   "cell_type": "code",
   "execution_count": 123,
   "metadata": {},
   "outputs": [
    {
     "name": "stdout",
     "output_type": "stream",
     "text": [
      "[1, 5, 6, 8, 11, 13, 14, 15, 16, 17] ... [999982, 999984, 999986, 999988, 999989, 999993, 999994, 999995, 999996, 999999]\n"
     ]
    }
   ],
   "source": [
    "from random import sample\n",
    "\n",
    "bigr = sorted(set(sample(range(1_000_000), 500000)))\n",
    "print(bigr[:10], '...', bigr[-10:])"
   ]
  },
  {
   "cell_type": "code",
   "execution_count": 124,
   "metadata": {},
   "outputs": [
    {
     "name": "stdout",
     "output_type": "stream",
     "text": [
      "151 ms ± 7.36 ms per loop (mean ± std. dev. of 7 runs, 10 loops each)\n",
      "174 ms ± 3.55 ms per loop (mean ± std. dev. of 7 runs, 10 loops each)\n"
     ]
    }
   ],
   "source": [
    "%timeit make_ranges_single2(bigr)\n",
    "%timeit reduce(f, bigr, [])"
   ]
  },
  {
   "cell_type": "markdown",
   "metadata": {},
   "source": [
    "And the content looks like this:"
   ]
  },
  {
   "cell_type": "code",
   "execution_count": 125,
   "metadata": {},
   "outputs": [],
   "source": [
    "ranges = make_ranges_single2(bigr)"
   ]
  },
  {
   "cell_type": "code",
   "execution_count": 126,
   "metadata": {},
   "outputs": [
    {
     "name": "stdout",
     "output_type": "stream",
     "text": [
      "[[1], [5, 6], [8], [11], [13, 17], [19], [21, 25], [29], [32], [34, 35], [40, 41], [43, 46], [48], [51, 52], [58], [63], [67, 68], [71], [76], [79], [84], [86], [90, 93], [95, 99], [101, 102], [105], [109], [111], [115, 118], [120, 122], [124, 125], [130, 131], [135], [140, 141], [145, 149], [152, 153], [157, 158], [160], [162, 163], [166], [168, 169], [172, 173], [175, 176], [180, 183], [185], [187, 188], [192], [194, 197], [199, 201], [204, 209], [213, 214], [216, 217], [220], [223], [229], [231, 233], [235, 236], [239], [242], [244], [246, 247], [251, 252], [256, 257], [259], [263], [270, 271], [273], [275], [280], [282, 283], [287, 289], [293], [296], [299, 301], [304, 305], [307, 308], [311, 313], [316], [320], [323], [325], [328], [337], [339, 340], [345, 347], [351, 354], [356, 362], [365], [371, 372], [374, 376], [378], [380, 381], [383, 384], [387, 391], [394], [396], [402], [406, 408], [412, 413], [415, 420]]\n"
     ]
    }
   ],
   "source": [
    "print(ranges[:100])"
   ]
  },
  {
   "cell_type": "markdown",
   "metadata": {},
   "source": [
    "The more sparse _or_ dense the array is, the more compact will be the final representation. For example, if the input data has only 10 elements out of a pool of a million, you typically get out 10 groups of single elements:"
   ]
  },
  {
   "cell_type": "code",
   "execution_count": 127,
   "metadata": {},
   "outputs": [
    {
     "data": {
      "text/plain": [
       "[[123475],\n",
       " [330919],\n",
       " [401559],\n",
       " [455704],\n",
       " [567898],\n",
       " [605655],\n",
       " [668479],\n",
       " [812333],\n",
       " [860165],\n",
       " [899989]]"
      ]
     },
     "execution_count": 127,
     "metadata": {},
     "output_type": "execute_result"
    }
   ],
   "source": [
    "make_ranges_single2(sorted(set(sample(range(1_000_000), 10))))"
   ]
  },
  {
   "cell_type": "markdown",
   "metadata": {},
   "source": [
    "However, if your input sequence is almost completely full, say only 10 elements short of the full million element, you also get a sparse representation:"
   ]
  },
  {
   "cell_type": "code",
   "execution_count": 128,
   "metadata": {},
   "outputs": [
    {
     "name": "stdout",
     "output_type": "stream",
     "text": [
      "[[0, 12278], [12280, 127465], [127467, 219925], [219927, 295128], [295130, 313021], [313023, 537491], [537493, 557266], [557268, 657134], [657136, 767071], [767073, 967509], [967511, 999999]]\n"
     ]
    }
   ],
   "source": [
    "big_ranges = make_ranges_single2(sorted(set(sample(range(1_000_000), 1_000_000 - 10))))\n",
    "print(big_ranges)"
   ]
  },
  {
   "cell_type": "markdown",
   "metadata": {},
   "source": [
    "## Applications"
   ]
  },
  {
   "cell_type": "markdown",
   "metadata": {},
   "source": [
    "I became interested in this because of an application where I wanted to generate `BETWEEN` clauses for SQL statements, given a potentially large sequence of integers which may have many consecutive runs. Using the previously calculated value as an example, we might us it something like this:"
   ]
  },
  {
   "cell_type": "code",
   "execution_count": 129,
   "metadata": {},
   "outputs": [
    {
     "name": "stdout",
     "output_type": "stream",
     "text": [
      "select * \n",
      "from table\n",
      "where\n",
      "  id = 1\n",
      "  or id is between 4 and 5\n",
      "  or id is between 7 and 10\n",
      "  or id is between 12 and 16\n",
      "  or id = 20\n",
      "\n"
     ]
    }
   ],
   "source": [
    "from string import Template\n",
    "\n",
    "tmpl = Template('''select * \n",
    "from table\n",
    "where\n",
    "  $betweeners\n",
    "''')\n",
    "\n",
    "ranges = make_ranges_single2(r)\n",
    "\n",
    "betweeners = '\\n  or '.join(\n",
    "    f'id is between {a} and {b[0]}' if b else f'id = {a}' \n",
    "        for a, *b in ranges\n",
    ")\n",
    "print(tmpl.safe_substitute(betweeners=betweeners))"
   ]
  },
  {
   "cell_type": "markdown",
   "metadata": {},
   "source": [
    "With a different format string, you can output the information differently:"
   ]
  },
  {
   "cell_type": "code",
   "execution_count": 130,
   "metadata": {},
   "outputs": [
    {
     "name": "stdout",
     "output_type": "stream",
     "text": [
      "1,4-5,7-10,12-16,20\n"
     ]
    }
   ],
   "source": [
    "range_summary = ','.join(f'{a}-{b[0]}' if b else f'{a}' for a, *b in ranges)\n",
    "print(range_summary)"
   ]
  },
  {
   "cell_type": "markdown",
   "metadata": {},
   "source": [
    "And given that string representation, to get back to the full sequence:"
   ]
  },
  {
   "cell_type": "code",
   "execution_count": 131,
   "metadata": {},
   "outputs": [
    {
     "name": "stdout",
     "output_type": "stream",
     "text": [
      "[1, 4, 5, 7, 8, 9, 10, 12, 13, 14, 15, 16, 20]\n",
      "Same as original? True\n"
     ]
    }
   ],
   "source": [
    "def reconstruct(range_summary: str):\n",
    "    for group in range_summary.split(','):\n",
    "        a, _, b = group.partition('-')\n",
    "        if not b:\n",
    "            yield int(a)\n",
    "        else:\n",
    "            yield from range(int(a), int(b) + 1)\n",
    "            \n",
    "remade = list(reconstruct(range_summary))\n",
    "print(remade)\n",
    "print('Same as original?', r == remade)"
   ]
  }
 ],
 "metadata": {
  "kernelspec": {
   "display_name": "Python 3",
   "language": "python",
   "name": "python3"
  },
  "language_info": {
   "codemirror_mode": {
    "name": "ipython",
    "version": 3
   },
   "file_extension": ".py",
   "mimetype": "text/x-python",
   "name": "python",
   "nbconvert_exporter": "python",
   "pygments_lexer": "ipython3",
   "version": "3.7.4"
  }
 },
 "nbformat": 4,
 "nbformat_minor": 1
}
