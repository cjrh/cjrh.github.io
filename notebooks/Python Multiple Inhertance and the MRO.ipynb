{
 "cells": [
  {
   "cell_type": "markdown",
   "metadata": {},
   "source": [
    "# Multiple inheritance in Python: Even more to learn\n",
    "\n",
    "I felt so proud of myself when I first learned how to reason about multiple inheritance in Python, and the MRO in particular.  The _method resolution order_ (MRO) is the order in which Python arranges name lookups in a class hierarchy.  For single inheritance, this is simple and obvious, and works like most languages with object-oriented features.\n",
    "\n",
    "However, for multiple inheritance, thing become a little trickier. Here is an example:"
   ]
  },
  {
   "cell_type": "code",
   "execution_count": 6,
   "metadata": {
    "collapsed": true
   },
   "outputs": [],
   "source": [
    "class A:\n",
    "    def __init__(self):\n",
    "        print('A: before init')\n",
    "        super().__init__()\n",
    "        print('A: after init')\n",
    "\n",
    "class B(A):\n",
    "    def __init__(self):\n",
    "        print('B: before init')\n",
    "        super().__init__()\n",
    "        print('B: after init')\n",
    "        \n",
    "class C:\n",
    "    def __init__(self):\n",
    "        print('C: before init')\n",
    "        super().__init__()\n",
    "        print('C: after init')\n",
    "        \n",
    "class D(B, C):\n",
    "    def __init__(self):\n",
    "        print('D: before init')\n",
    "        super().__init__()\n",
    "        print('D: after init')"
   ]
  },
  {
   "cell_type": "markdown",
   "metadata": {},
   "source": [
    "Here we have four classes, `A` through `D`. The important stuff begins at `D`.  Do you see how `D` inherits from both `B` _and_ `C`?  If you have not already learned how Python deals with this, then you're in for a treat:"
   ]
  },
  {
   "cell_type": "code",
   "execution_count": 8,
   "metadata": {},
   "outputs": [
    {
     "name": "stdout",
     "output_type": "stream",
     "text": [
      "D: before init\n",
      "B: before init\n",
      "A: before init\n",
      "C: before init\n",
      "C: after init\n",
      "A: after init\n",
      "B: after init\n",
      "D: after init\n"
     ]
    }
   ],
   "source": [
    "d = D()"
   ]
  },
  {
   "cell_type": "markdown",
   "metadata": {},
   "source": [
    "Making an instance of `D`, we see the cascade of `print()` calls.  Here, it is obvious that Python has arranged the sequence of `super()` calls such that lookup proceeds **depth-first**.  In other words, the lookup being triggered by `super()` will proceed through the entire superclass list of `B`, before working through the same for `C`.\n",
    "\n",
    "_Side-note_: If `A` did **not** also make a call to `super()` in its initializer, the chain would have been broken and `C.__init__()` would **not** have been called.  This means that for classes to cooperate in a multiple-inheritance arrangement, even base classes _must_ call `super()`.\n",
    "\n",
    "But I digress.  Let's get back to the MRO.  It's easy to see the MRO being used:"
   ]
  },
  {
   "cell_type": "markdown",
   "metadata": {},
   "source": [
    "for _ in D.__mro__: print(_)"
   ]
  },
  {
   "cell_type": "markdown",
   "metadata": {},
   "source": [
    "This makes the order obvious.  And this is what I learned a few years ago.  However, a [recent talk](https://youtu.be/l8u8VENJhpM) by Mike Leonard, _The Wizardry of Metaprogramming_, had an example of multiple inheritance in which it seemed like the MRO was constructed in a **breadth-first** sequence, the exact opposite of how I thought it worked! Here is a slightly reworked example:"
   ]
  },
  {
   "cell_type": "code",
   "execution_count": 12,
   "metadata": {
    "collapsed": true
   },
   "outputs": [],
   "source": [
    "class A:\n",
    "    def __init__(self):\n",
    "        print('A: before init')\n",
    "        super().__init__()\n",
    "        print('A: after init')\n",
    "\n",
    "class B(A):\n",
    "    def __init__(self):\n",
    "        print('B: before init')\n",
    "        super().__init__()\n",
    "        print('B: after init')\n",
    "        \n",
    "class C(A):\n",
    "    def __init__(self):\n",
    "        print('C: before init')\n",
    "        super().__init__()\n",
    "        print('C: after init')\n",
    "        \n",
    "class D(B, C):\n",
    "    def __init__(self):\n",
    "        print('D: before init')\n",
    "        super().__init__()\n",
    "        print('D: after init')"
   ]
  },
  {
   "cell_type": "markdown",
   "metadata": {},
   "source": [
    "This is _almost_ the same as the previous code, but I've made one tiny change. Can you spot it?  I will reveal in a moment, but first, let's create an instance of `D` and print out the MRO:"
   ]
  },
  {
   "cell_type": "code",
   "execution_count": 13,
   "metadata": {},
   "outputs": [
    {
     "name": "stdout",
     "output_type": "stream",
     "text": [
      "D: before init\n",
      "B: before init\n",
      "C: before init\n",
      "A: before init\n",
      "A: after init\n",
      "C: after init\n",
      "B: after init\n",
      "D: after init\n"
     ]
    }
   ],
   "source": [
    "d = D()"
   ]
  },
  {
   "cell_type": "code",
   "execution_count": 14,
   "metadata": {},
   "outputs": [
    {
     "name": "stdout",
     "output_type": "stream",
     "text": [
      "<class '__main__.D'>\n",
      "<class '__main__.B'>\n",
      "<class '__main__.C'>\n",
      "<class '__main__.A'>\n",
      "<class 'object'>\n"
     ]
    }
   ],
   "source": [
    "for _ in D.__mro__: print(_)"
   ]
  },
  {
   "cell_type": "markdown",
   "metadata": {},
   "source": [
    "Whaaaat?  Now the sequence seems to indicate that `C` immediately follows `B`, and the root class `A` comes last!  That is no longer \"depth-first\".\n",
    "\n",
    "It turns out that Python does things a little differently when a class appears **multiple times** in the MRO.  In this situation, all duplicate appearances (of `A` in this case) will be removed **except for the last**.  Earlier, I had changed the code for the `C` class to also inherit from `A`.  This meant that both `B` **and** `C` inherit from `A`, and a naive depth-first construction of the MRO results in two entries for `A`. Python therefore deletes all appearances except the last.\n",
    "\n",
    "This is all documented in tremendous detail in [The Python 2.3 Method Resolution Order](https://www.python.org/download/releases/2.3/mro/).  I probably should have read it a long time ago."
   ]
  }
 ],
 "metadata": {
  "kernelspec": {
   "display_name": "Python 3",
   "language": "python",
   "name": "python3"
  },
  "language_info": {
   "codemirror_mode": {
    "name": "ipython",
    "version": 3
   },
   "file_extension": ".py",
   "mimetype": "text/x-python",
   "name": "python",
   "nbconvert_exporter": "python",
   "pygments_lexer": "ipython3",
   "version": "3.6.1"
  }
 },
 "nbformat": 4,
 "nbformat_minor": 2
}
