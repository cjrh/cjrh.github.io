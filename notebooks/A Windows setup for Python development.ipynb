{
 "metadata": {
  "name": "",
  "signature": "sha256:c3712e7a196f9822425752347183ea13e35d87e8fa803f5f3239ce8f579b2f9c"
 },
 "nbformat": 3,
 "nbformat_minor": 0,
 "worksheets": [
  {
   "cells": [
    {
     "cell_type": "heading",
     "level": 1,
     "metadata": {},
     "source": [
      "Configuration is everything"
     ]
    },
    {
     "cell_type": "markdown",
     "metadata": {},
     "source": [
      "I have experience with Python development on all three of the major platforms: Windows, OSX and Linux. The cross-platform features of Python are deeply wonderful, allowing you to transfer much code effortlessy between these platforms.  It is frequently the case that I start a project on Windows, leave work and go home in the evening, continue where I left off on OSX, (run a quick test on Linux if necessary), and then again continue on Windows the following day.\n",
      "\n",
      "However---and you knew this was coming, right?---it only becomes seamless once you know all the different ways in which the platforms differ, such that you can develop an intuition for which things to avoid on each.\n",
      "\n",
      "This series of posts will discuss the various habits I have adopted over the years to keep a clean workflow. It didn't start this way: my initial workflows were bad, and painful experiences and many lost hours have brought me to this point.  I cannot say that my habits are best, or possibly even desirable; only that I have tried to improve them as far as I could, and I have tried to keep up to date with what others are doing."
     ]
    },
    {
     "cell_type": "heading",
     "level": 2,
     "metadata": {},
     "source": [
      "An overview"
     ]
    },
    {
     "cell_type": "markdown",
     "metadata": {},
     "source": [
      "A quick overview of the sub-topics:\n",
      "- Python distribution issues\n",
      "  - Standard disribution versus Anaconda Python\n",
      "  - Dealing with virtual environments\n",
      "- Editor setup\n",
      "  - For non-software developers: Spyder \n",
      "  - For software developers: Vim\n",
      "    - A robust configuration\n",
      "      - Rather do ~/vimfiles/vimrc than .vimrc\n",
      "    - Mandatory extensions\n",
      "    - Optional extensions\n",
      "- Windows-specific\n",
      "  - Making python files executable\n",
      "  - Vim needs a (Python)home\n",
      "  - Improving the terminal experience with Clink\n",
      "    - Basic usage\n",
      "    - Adding completions for .py files\n",
      "  - Annoyances and workarounds\n",
      "    - Software that adds Python27.dll to the path\n",
      "    - Tools for managing the system path\n",
      "- Version control:\n",
      "  - Why you must use Sourcetree on Windows and OSX\n",
      "  - Standard ignores\n",
      "- IPython Notebook for exploratory programming\n",
      "  - Configuration on Windows\n",
      "  - Configuration on OSX\n",
      "  - Magic: %%timeit\n",
      "  - Magic: %matplotlib inline\n",
      "  - Magic: %%cython -a\n",
      "  - Tips and tricks"
     ]
    },
    {
     "cell_type": "markdown",
     "metadata": {},
     "source": [
      "The next post will examine the first question of Python distributions."
     ]
    }
   ],
   "metadata": {}
  }
 ]
}