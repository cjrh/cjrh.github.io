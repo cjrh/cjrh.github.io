{
 "cells": [
  {
   "cell_type": "markdown",
   "metadata": {},
   "source": [
    "# Making executables with Python\n",
    "\n",
    "Did you know you can? This will be a very quick demo just to tantalize the senses.\n",
    "\n",
    "### You need this\n",
    "\n",
    "- Python (I'm using Anaconda on 3.5.1 but others may work)\n",
    "- Cython (I'm using 0.24 but others may work)\n",
    "\n",
    "This code was generated and run on Mac OS X _El Capitan_, but it may work with others.  Specifically, it kinda relies on a tool called `python-config` being installed as part of Python.  I don't _think_ this gets installed on Windows, but I'd be glad to know I'm wrong.\n",
    "\n",
    "## The central technique\n",
    "\n",
    "You make a Cython file, like so:"
   ]
  },
  {
   "cell_type": "markdown",
   "metadata": {},
   "source": [
    "```cython\n",
    "# blah.pyx\n",
    "\n",
    "cpdef int f(int x):\n",
    "    return x + 5\n",
    "\n",
    "if __name__ == '__main__':\n",
    "    print(2)\n",
    "```"
   ]
  },
  {
   "cell_type": "markdown",
   "metadata": {},
   "source": [
    "Then, you use a special flag of cython itself, called **embed**, in the shell, to generate a C file:\n",
    "\n",
    "```\n",
    "$ cython --embed blah.pyx\n",
    "```\n",
    "\n",
    "This results in a new file `blah.c` in the same folder.  At this point, all you have to do is compile the C file, and it will produce a binary that you can run.  The _tricky_ bit is that you need to tell the compiler where all the Python libraries are, because `blah.c` wants to be linked to Python.\n",
    "\n",
    "This is where the `python-config` tool comes in.  It _fills in_ all the messy parts, such as the location of all the header files and the dynamic libraries for linking.  Here, you need to run your compiler, and let's presume it's GCC.  The shell command to produce the _binary executable_ looks like this:\n",
    "\n",
    "```\n",
    "$ gcc `python-config --cflags` blah.c `python-config --ldflags` -o blah \n",
    "```\n",
    "\n",
    "When the compilation completes, you'll have a brand new executable `blah` in the same folder, and when you run it, it should print `7` (if you used the same code as this example)."
   ]
  },
  {
   "cell_type": "code",
   "execution_count": null,
   "metadata": {
    "collapsed": true
   },
   "outputs": [],
   "source": []
  }
 ],
 "metadata": {
  "kernelspec": {
   "display_name": "Python 3",
   "language": "python",
   "name": "python3"
  },
  "language_info": {
   "codemirror_mode": {
    "name": "ipython",
    "version": 3
   },
   "file_extension": ".py",
   "mimetype": "text/x-python",
   "name": "python",
   "nbconvert_exporter": "python",
   "pygments_lexer": "ipython3",
   "version": "3.5.1"
  }
 },
 "nbformat": 4,
 "nbformat_minor": 0
}
