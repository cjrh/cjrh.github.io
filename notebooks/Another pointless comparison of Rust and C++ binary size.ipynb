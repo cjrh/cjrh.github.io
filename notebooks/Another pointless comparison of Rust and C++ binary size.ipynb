{
 "cells": [
  {
   "cell_type": "markdown",
   "id": "01662e45",
   "metadata": {},
   "source": [
    "# Another pointless comparison of binary size between Rust and C++\n",
    "\n",
    "I recently saw a Youtube video of someone going through a laundry list of complaints about Rust. The merits of the discussion notwithstanding, one of the points raised was about the difference in binary size produced from different compilers.\n",
    "\n",
    "There are [many](https://github.com/johnthagen/min-sized-rust), [many](https://os.phil-opp.com/freestanding-rust-binary/), [many](https://lifthrasiir.github.io/rustlog/why-is-a-rust-executable-large.html), [many](https://kripken.github.io/blog/binaryen/2018/04/18/rust-emscripten.html), [many](https://stackoverflow.com/questions/29008127/why-are-rust-executables-so-huge), [many](https://github.com/rust-embedded/wg/issues/5) discussions about Rust binary sizes online and I'm not going to rehash any of that. I was just curious about reproducing the data in the Youtube video, and in particular I am generally interested in producing static binaries for simplified deployment reasons.  I realise the static-vs-dynamic debate is a whole other flamewar online and I don't really care 😃\n",
    "\n",
    "_This post was made in a Jupyter Notebook using the awesome [evcxr](https://github.com/google/evcxr) Rust interpreter. All the cells were executed live in the notebook._"
   ]
  },
  {
   "cell_type": "markdown",
   "id": "b993df10",
   "metadata": {},
   "source": [
    "## Utility functions"
   ]
  },
  {
   "cell_type": "code",
   "execution_count": 2,
   "id": "3fad98bf",
   "metadata": {},
   "outputs": [],
   "source": [
    "/// Tool to easily run shell commands.\n",
    "fn sh(dir: &str, cmd: &str, args: &[&'static str]) -> Result<(), Box<dyn std::error::Error>> {\n",
    "    let output = std::process::Command::new(cmd)\n",
    "        .current_dir(dir)\n",
    "        .args(args)\n",
    "        .output()?;\n",
    "    if output.stdout.len() > 0 {\n",
    "        println!(\"stdout:\\n{}\", String::from_utf8(output.stdout)?);\n",
    "    }\n",
    "    if output.stderr.len() > 0 {\n",
    "        println!(\"stderr:\\n{}\", String::from_utf8(output.stderr)?);\n",
    "    }\n",
    "    Ok(())\n",
    "}"
   ]
  },
  {
   "cell_type": "markdown",
   "id": "abccd05d",
   "metadata": {},
   "source": [
    "# C++ binary size\n",
    "\n",
    "The example given in the video was like this:"
   ]
  },
  {
   "cell_type": "code",
   "execution_count": 3,
   "id": "29792039",
   "metadata": {},
   "outputs": [],
   "source": [
    "std::fs::remove_dir_all(\"~/tmp/cppsize/\").ok();\n",
    "std::fs::create_dir_all(\"~/tmp/cppsize/\")?;\n",
    "std::fs::write(\"~/tmp/cppsize/main.cc\", \"int main() {}\")?;"
   ]
  },
  {
   "cell_type": "code",
   "execution_count": 4,
   "id": "2639f34c",
   "metadata": {},
   "outputs": [
    {
     "name": "stdout",
     "output_type": "stream",
     "text": [
      "stdout:\n",
      "total 12K\n",
      "drwxrwxr-x 2 caleb caleb 4.0K Mar 20 14:46 .\n",
      "drwxrwxr-x 3 caleb caleb 4.0K Mar 20 14:46 ..\n",
      "-rw-rw-r-- 1 caleb caleb   13 Mar 20 14:46 main.cc\n",
      "\n"
     ]
    }
   ],
   "source": [
    "sh(\"~/tmp/cppsize\", \"ls\", &vec![\"-lah\"])?;"
   ]
  },
  {
   "cell_type": "markdown",
   "id": "6e518896",
   "metadata": {},
   "source": [
    "Compiling the empty file, according to the aforementioned video:"
   ]
  },
  {
   "cell_type": "code",
   "execution_count": 5,
   "id": "86255330",
   "metadata": {},
   "outputs": [],
   "source": [
    "sh(\n",
    "    \"~/tmp/cppsize\",\n",
    "    \"g++\",\n",
    "    &vec![\"-o\", \"main\", \n",
    "        \"main.cc\", \n",
    "        \"-Ofast\", \n",
    "        \"-std=c++20\", \n",
    "        \"-s\", \n",
    "        \"-flto\", \n",
    "        \"-static-libgcc\", \n",
    "        \"-static-libstdc++\"\n",
    "    ]\n",
    ")?;"
   ]
  },
  {
   "cell_type": "code",
   "execution_count": 6,
   "id": "66a68877",
   "metadata": {},
   "outputs": [
    {
     "name": "stdout",
     "output_type": "stream",
     "text": [
      "stdout:\n",
      "total 28K\n",
      "drwxrwxr-x 2 caleb caleb 4.0K Mar 20 14:46 .\n",
      "drwxrwxr-x 3 caleb caleb 4.0K Mar 20 14:46 ..\n",
      "-rwxrwxr-x 1 caleb caleb  14K Mar 20 14:46 main\n",
      "-rw-rw-r-- 1 caleb caleb   13 Mar 20 14:46 main.cc\n",
      "\n"
     ]
    }
   ],
   "source": [
    "sh(\"~/tmp/cppsize\", \"ls\", &vec![\"-lah\"])?;"
   ]
  },
  {
   "cell_type": "markdown",
   "id": "6cd2a150",
   "metadata": {},
   "source": [
    "In the Youtube video, the very low binary size of `main` was as given above, around **14 kB**. However, this is not the whole truth. C++ also has a runtime library and the above binary will dynamically link to that runtime. You can see this with `ldd`:"
   ]
  },
  {
   "cell_type": "code",
   "execution_count": 7,
   "id": "e1355ffe",
   "metadata": {},
   "outputs": [
    {
     "name": "stdout",
     "output_type": "stream",
     "text": [
      "stdout:\n",
      "\tlinux-vdso.so.1 (0x00007ffe4d3fa000)\n",
      "\tlibc.so.6 => /lib/x86_64-linux-gnu/libc.so.6 (0x00007fb549b1c000)\n",
      "\t/lib64/ld-linux-x86-64.so.2 (0x00007fb549d61000)\n",
      "\n"
     ]
    }
   ],
   "source": [
    "sh(\"~/tmp/cppsize\", \"ldd\", &vec![\"main\"])?;"
   ]
  },
  {
   "cell_type": "markdown",
   "id": "87caab7e",
   "metadata": {},
   "source": [
    "By default, Rust will include its standard library into the compiled binary. We can add one small extra option to the compiler options for this empty C++ example to produce a fully static binary:"
   ]
  },
  {
   "cell_type": "code",
   "execution_count": 8,
   "id": "9ba09cfa",
   "metadata": {},
   "outputs": [],
   "source": [
    "sh(\n",
    "    \"~/tmp/cppsize\",\n",
    "    \"g++\",\n",
    "    &vec![\"-o\", \"main\", \n",
    "        \"main.cc\", \n",
    "        \"-Ofast\", \n",
    "        \"-std=c++20\", \n",
    "        \"-s\", \n",
    "        \"-flto\", \n",
    "        \"-static-libgcc\", \n",
    "        \"-static-libstdc++\",\n",
    "        \"-static\"  // <--- THIS IS THE EXTRA OPTION\n",
    "    ]\n",
    ")?;"
   ]
  },
  {
   "cell_type": "code",
   "execution_count": 9,
   "id": "1876b1f3",
   "metadata": {},
   "outputs": [
    {
     "name": "stdout",
     "output_type": "stream",
     "text": [
      "stdout:\n",
      "total 808K\n",
      "drwxrwxr-x 2 caleb caleb 4.0K Mar 20 14:46 .\n",
      "drwxrwxr-x 3 caleb caleb 4.0K Mar 20 14:46 ..\n",
      "-rwxrwxr-x 1 caleb caleb 793K Mar 20 14:46 main\n",
      "-rw-rw-r-- 1 caleb caleb   13 Mar 20 14:46 main.cc\n",
      "\n"
     ]
    }
   ],
   "source": [
    "sh(\"~/tmp/cppsize\", \"ls\", &vec![\"-lah\"])?;"
   ]
  },
  {
   "cell_type": "markdown",
   "id": "b1efe3af",
   "metadata": {},
   "source": [
    "Now the size is much bigger, around **793 kB**. `ldd` tells us the binary no longer links dynamically to anything:"
   ]
  },
  {
   "cell_type": "code",
   "execution_count": 10,
   "id": "7da36d4b",
   "metadata": {},
   "outputs": [
    {
     "name": "stdout",
     "output_type": "stream",
     "text": [
      "stderr:\n",
      "\tnot a dynamic executable\n",
      "\n"
     ]
    }
   ],
   "source": [
    "sh(\"~/tmp/cppsize\", \"ldd\", &vec![\"main\"])?;"
   ]
  },
  {
   "cell_type": "markdown",
   "id": "d4f34d7f",
   "metadata": {},
   "source": [
    "## Rust binary size\n",
    "\n",
    "In the Youtube video, an empty rust file was compiled in the following way:"
   ]
  },
  {
   "cell_type": "code",
   "execution_count": 11,
   "id": "25c88500",
   "metadata": {},
   "outputs": [],
   "source": [
    "std::fs::remove_dir_all(\"~/tmp/rustsize/\").ok();\n",
    "std::fs::create_dir_all(\"~/tmp/rustsize/\")?;\n",
    "std::fs::write(\"~/tmp/rustsize/a.rs\", \"fn main() {}\")?;"
   ]
  },
  {
   "cell_type": "code",
   "execution_count": 12,
   "id": "3f986e2a",
   "metadata": {},
   "outputs": [
    {
     "name": "stdout",
     "output_type": "stream",
     "text": [
      "stdout:\n",
      "total 12K\n",
      "drwxrwxr-x 2 caleb caleb 4.0K Mar 20 14:47 .\n",
      "drwxrwxr-x 4 caleb caleb 4.0K Mar 20 14:47 ..\n",
      "-rw-rw-r-- 1 caleb caleb   12 Mar 20 14:47 a.rs\n",
      "\n"
     ]
    }
   ],
   "source": [
    "sh(\"~/tmp/rustsize\", \"ls\", &vec![\"-lah\"])?;"
   ]
  },
  {
   "cell_type": "markdown",
   "id": "452c9f10",
   "metadata": {},
   "source": [
    "For some reason the video author didn't want to use Cargo 🤷. Anyway let's go with it:"
   ]
  },
  {
   "cell_type": "code",
   "execution_count": 13,
   "id": "e41651d7",
   "metadata": {},
   "outputs": [],
   "source": [
    "sh(\n",
    "    \"~/tmp/rustsize\",\n",
    "    \"rustc\",\n",
    "    &vec![\n",
    "        \"-O\", \n",
    "        \"-C\", \"strip=symbols\",\n",
    "        \"a.rs\", \n",
    "    ]\n",
    ")?;"
   ]
  },
  {
   "cell_type": "code",
   "execution_count": 14,
   "id": "0d95e16f",
   "metadata": {},
   "outputs": [
    {
     "name": "stdout",
     "output_type": "stream",
     "text": [
      "stdout:\n",
      "total 300K\n",
      "drwxrwxr-x 2 caleb caleb 4.0K Mar 20 14:47 .\n",
      "drwxrwxr-x 4 caleb caleb 4.0K Mar 20 14:47 ..\n",
      "-rwxrwxr-x 1 caleb caleb 287K Mar 20 14:47 a\n",
      "-rw-rw-r-- 1 caleb caleb   12 Mar 20 14:47 a.rs\n",
      "\n"
     ]
    }
   ],
   "source": [
    "sh(\"~/tmp/rustsize\", \"ls\", &vec![\"-lah\"])?;"
   ]
  },
  {
   "cell_type": "markdown",
   "id": "d136bbdb",
   "metadata": {},
   "source": [
    "Indeed, we find almost the exact same number as the author in the video, around **290 kB**. The author concludes that Rust-induced bloat is 290/14 => 20X bigger.\n",
    "\n",
    "However, there are a couple things missing from the Rust compiler flags. Let's add those in:"
   ]
  },
  {
   "cell_type": "code",
   "execution_count": 15,
   "id": "b0de4131",
   "metadata": {},
   "outputs": [],
   "source": [
    "sh(\n",
    "    \"~/tmp/rustsize\",\n",
    "    \"rustc\",\n",
    "    &vec![\n",
    "        \"-O\", \n",
    "        \"-C\", \"strip=symbols\",\n",
    "        \"-C\", \"lto=on\",\n",
    "        \"-C\", \"codegen-units=1\",\n",
    "        \"a.rs\", \n",
    "    ]\n",
    ")?;"
   ]
  },
  {
   "cell_type": "code",
   "execution_count": 16,
   "id": "571a7b4d",
   "metadata": {},
   "outputs": [
    {
     "name": "stdout",
     "output_type": "stream",
     "text": [
      "stdout:\n",
      "total 272K\n",
      "drwxrwxr-x 2 caleb caleb 4.0K Mar 20 14:47 .\n",
      "drwxrwxr-x 4 caleb caleb 4.0K Mar 20 14:47 ..\n",
      "-rwxrwxr-x 1 caleb caleb 259K Mar 20 14:47 a\n",
      "-rw-rw-r-- 1 caleb caleb   12 Mar 20 14:47 a.rs\n",
      "\n"
     ]
    }
   ],
   "source": [
    "sh(\"~/tmp/rustsize\", \"ls\", &vec![\"-lah\"])?;"
   ]
  },
  {
   "cell_type": "markdown",
   "id": "5e91cf68",
   "metadata": {},
   "source": [
    "Unsurprisingly, adding LTO gives a 1 - 259/287 => 10% reduction in binary size.\n",
    "\n",
    "There are a few more extra options beyond what was used in the C++ example, but these don't make a significant difference to a completely-empty program."
   ]
  },
  {
   "cell_type": "code",
   "execution_count": 17,
   "id": "5b31ec8f",
   "metadata": {},
   "outputs": [],
   "source": [
    "sh(\n",
    "    \"~/tmp/rustsize\",\n",
    "    \"rustc\",\n",
    "    &vec![\n",
    "        \"-O\", \n",
    "        \"-C\", \"strip=symbols\",\n",
    "        \"-C\", \"lto=on\",\n",
    "        \"-C\", \"codegen-units=1\",\n",
    "        \n",
    "        // Extra\n",
    "        \"-C\", \"opt-level=s\",  // Optimize for size\n",
    "        \"-C\", \"panic=abort\",  // Disable stack-unwinding\n",
    "        \n",
    "        \"a.rs\", \n",
    "    ]\n",
    ")?;"
   ]
  },
  {
   "cell_type": "code",
   "execution_count": 18,
   "id": "b54c65a7",
   "metadata": {},
   "outputs": [
    {
     "name": "stdout",
     "output_type": "stream",
     "text": [
      "stdout:\n",
      "total 256K\n",
      "drwxrwxr-x 2 caleb caleb 4.0K Mar 20 14:47 .\n",
      "drwxrwxr-x 4 caleb caleb 4.0K Mar 20 14:47 ..\n",
      "-rwxrwxr-x 1 caleb caleb 243K Mar 20 14:47 a\n",
      "-rw-rw-r-- 1 caleb caleb   12 Mar 20 14:47 a.rs\n",
      "\n"
     ]
    }
   ],
   "source": [
    "sh(\"~/tmp/rustsize\", \"ls\", &vec![\"-lah\"])?;"
   ]
  },
  {
   "cell_type": "markdown",
   "id": "ac7f2326",
   "metadata": {},
   "source": [
    "Now we're at (compared to the original Youtube example) 1 - 243/287 => 15.3% smaller.\n",
    "\n",
    "Anyway, these extra flags and settings are making marginal improvements. The biggest impact is of course what is being linked into the binary and what is not. Currently we have a Rust binary with the stdlib statically linked at **243 kB**, and the C++ empty-project binary at **793 kB**. It doesn't seem to me that C++ is doing all that well here!\n",
    "\n",
    "Or is it?\n",
    "\n",
    "We haven't yet checked whether the Rust binary is linking dynamically to anything yet.  Apples-to-apples, remember? So let's look into that:"
   ]
  },
  {
   "cell_type": "code",
   "execution_count": 19,
   "id": "d40dee12",
   "metadata": {},
   "outputs": [
    {
     "name": "stdout",
     "output_type": "stream",
     "text": [
      "stdout:\n",
      "\tlinux-vdso.so.1 (0x00007ffc4e1e0000)\n",
      "\tlibgcc_s.so.1 => /lib/x86_64-linux-gnu/libgcc_s.so.1 (0x00007f070cb8d000)\n",
      "\tlibc.so.6 => /lib/x86_64-linux-gnu/libc.so.6 (0x00007f070c965000)\n",
      "\t/lib64/ld-linux-x86-64.so.2 (0x00007f070cbfd000)\n",
      "\n"
     ]
    }
   ],
   "source": [
    "sh(\"~/tmp/rustsize\", \"ldd\", &vec![\"a\"])?;"
   ]
  },
  {
   "cell_type": "markdown",
   "id": "63587818",
   "metadata": {},
   "source": [
    "Woah, the Rust binary is dynamically linked to libc! Why does it need to do that?  Here's a great concise explanation [from 2015](https://news.ycombinator.com/item?id=9436004):\n",
    "\n",
    "> erickt on April 24, 2015:\n",
    ">\n",
    "> No it's not a stupid question. libc (or CRT on windows) really is the library that exposes all the user space system libraries. It contains the functions to do IO, sockets, threads, and etc. So we use it to expose that functionality to rust users.\n",
    ">\n",
    "> Now there are some languages, namely Go, that skip libc and just implement directly against the syscall interface. Go has the advantage of being able to draw from Google's vast experience interacting deep within the system, so it was comparatively cheap for them to do this.\n",
    ">\n",
    "> For rust, it never really felt like it was worth the effort for the benefit we'd get out of it. It was more important to get the language done. \n",
    "\n",
    "So Rust is still using the C runtime to interact with the OS through userspace libraries provided in the C runtime. So it doesn't need the C or C++ standard libraries, only the runtime for OS interaction.\n",
    "\n",
    "Ok so for a fair comparison we should compare the sizes after statically linking against the CRT.\n"
   ]
  },
  {
   "cell_type": "code",
   "execution_count": 20,
   "id": "7a1e8ed2",
   "metadata": {},
   "outputs": [],
   "source": [
    "sh(\n",
    "    \"~/tmp/rustsize\",\n",
    "    \"rustc\",\n",
    "    &vec![\n",
    "        \"-O\", \n",
    "        \"-C\", \"strip=symbols\",\n",
    "        \"-C\", \"lto=on\",\n",
    "        \"-C\", \"codegen-units=1\",\n",
    "        \"-C\", \"opt-level=s\",  // Optimize for size\n",
    "        \"-C\", \"panic=abort\",  // Disable stack-unwinding\n",
    "        \n",
    "        // New\n",
    "        \"-C\", \"target-feature=+crt-static\",\n",
    "        \n",
    "        \"a.rs\", \n",
    "    ]\n",
    ")?;"
   ]
  },
  {
   "cell_type": "code",
   "execution_count": 21,
   "id": "8f12450a",
   "metadata": {},
   "outputs": [
    {
     "name": "stdout",
     "output_type": "stream",
     "text": [
      "stderr:\n",
      "\tnot a dynamic executable\n",
      "\n"
     ]
    }
   ],
   "source": [
    "sh(\"~/tmp/rustsize\", \"ldd\", &vec![\"a\"])?;"
   ]
  },
  {
   "cell_type": "markdown",
   "id": "7bd93986",
   "metadata": {},
   "source": [
    "And the size?"
   ]
  },
  {
   "cell_type": "code",
   "execution_count": 22,
   "id": "a4b64e34",
   "metadata": {},
   "outputs": [
    {
     "name": "stdout",
     "output_type": "stream",
     "text": [
      "stdout:\n",
      "total 1.2M\n",
      "drwxrwxr-x 2 caleb caleb 4.0K Mar 20 14:48 .\n",
      "drwxrwxr-x 4 caleb caleb 4.0K Mar 20 14:47 ..\n",
      "-rwxrwxr-x 1 caleb caleb 1.2M Mar 20 14:48 a\n",
      "-rw-rw-r-- 1 caleb caleb   12 Mar 20 14:47 a.rs\n",
      "\n"
     ]
    }
   ],
   "source": [
    "sh(\"~/tmp/rustsize\", \"ls\", &vec![\"-lah\"])?;"
   ]
  },
  {
   "cell_type": "markdown",
   "id": "d86fe651",
   "metadata": {},
   "source": [
    "Now it's a whopping 1.2 MB. So if we do all the work to produce a fully static executable from an empty `main()` for both Rust and C++, we indeed find that C++ produces the smaller binary. It's 1 - 793/1200 => **34%** smaller than the Rust binary, which is clearly a much smaller difference than the ~ 20X comparison I gave at the start."
   ]
  },
  {
   "cell_type": "markdown",
   "id": "5320db7e",
   "metadata": {},
   "source": [
    "## Conclusion\n",
    "\n",
    "What do you think this is, a research paper? My parting words are that none of this really matters. Binary size is certainly a concern in certain environments, but the real impact of whether you use Rust, C or C++ is not going to matter. The people working in the embedded space are already all over these issues. If you're interested in the embedded domain, do go check out the [Embedded Rust Working Group](http://blog.rust-embedded.org/)."
   ]
  }
 ],
 "metadata": {
  "kernelspec": {
   "display_name": "Rust",
   "language": "rust",
   "name": "rust"
  },
  "language_info": {
   "codemirror_mode": "rust",
   "file_extension": ".rs",
   "mimetype": "text/rust",
   "name": "Rust",
   "pygment_lexer": "rust",
   "version": ""
  }
 },
 "nbformat": 4,
 "nbformat_minor": 5
}
