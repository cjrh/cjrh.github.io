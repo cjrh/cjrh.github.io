{
 "cells": [
  {
   "cell_type": "markdown",
   "metadata": {},
   "source": [
    "# Notes for AWS"
   ]
  },
  {
   "cell_type": "markdown",
   "metadata": {},
   "source": [
    "- ssh must be `ssh ec2-user@<ip>`\n",
    "- `sudo yum install python34`\n",
    "- `sudo yum install python34-pip`\n",
    "- `sudo yum install python34-virtualenv`\n",
    "- `sudo yum install zlib zlib-devel libzip libzip-devel libjpeg libjpeg-devel`"
   ]
  },
  {
   "cell_type": "markdown",
   "metadata": {},
   "source": [
    "# Other stuff"
   ]
  },
  {
   "cell_type": "markdown",
   "metadata": {},
   "source": [
    "- Don't forget about `ALLOWED_HOSTS = ['*']` (for a real site, use the actual host name)"
   ]
  },
  {
   "cell_type": "markdown",
   "metadata": {},
   "source": [
    "## Make a test file for uwsgi"
   ]
  },
  {
   "cell_type": "markdown",
   "metadata": {},
   "source": [
    "```python\n",
    "# test.py\n",
    "def application(env, start_response):\n",
    "    start_response('200 OK', [('Content-Type','text/html')])\n",
    "    return \"Hello World\"\n",
    "```"
   ]
  },
  {
   "cell_type": "markdown",
   "metadata": {},
   "source": [
    "Call like so:\n",
    "\n",
    "`uwsgi --http :8000 --wsgi-file test.py`"
   ]
  },
  {
   "cell_type": "markdown",
   "metadata": {},
   "source": [
    "NOTE: On python 3, uwsgi expects bytes, not unicode.  So in the last line in the code fragment above, you have to \n",
    "\n",
    "```python\n",
    "return b\"Hello world\"\n",
    "```"
   ]
  },
  {
   "cell_type": "markdown",
   "metadata": {},
   "source": [
    "### Test with django"
   ]
  },
  {
   "cell_type": "markdown",
   "metadata": {},
   "source": [
    "`uwsgi --http :8000 --module proj.wsgi`"
   ]
  },
  {
   "cell_type": "markdown",
   "metadata": {},
   "source": [
    "This is assuming that in the folder where `manage.py` resides, there is a folder called `proj` and inside that, a file called `wsgi.py`."
   ]
  },
  {
   "cell_type": "markdown",
   "metadata": {},
   "source": [
    "http://www.oliverelliott.org/article/computing/tut_setup_nginx_django/"
   ]
  },
  {
   "cell_type": "markdown",
   "metadata": {},
   "source": [
    "Remember that the nginx user will have to be able to read stuff in `media` and `static` etc.  You can change that in `/etc/nginx/nginx.conf`, top of the file."
   ]
  },
  {
   "cell_type": "markdown",
   "metadata": {},
   "source": [
    "to start up uwsgi:\n",
    "\n",
    "`$ uwsgi --socket site1.socket --module site1.wsgi --chmod-socket=664`"
   ]
  },
  {
   "cell_type": "markdown",
   "metadata": {
    "collapsed": true
   },
   "source": [
    "How to setup nginx to serve folder contents automatically."
   ]
  },
  {
   "cell_type": "code",
   "execution_count": null,
   "metadata": {
    "collapsed": true
   },
   "outputs": [],
   "source": []
  }
 ],
 "metadata": {
  "kernelspec": {
   "display_name": "Python 2",
   "language": "python",
   "name": "python2"
  },
  "language_info": {
   "codemirror_mode": {
    "name": "ipython",
    "version": 2
   },
   "file_extension": ".py",
   "mimetype": "text/x-python",
   "name": "python",
   "nbconvert_exporter": "python",
   "pygments_lexer": "ipython2",
   "version": "2.7.6"
  }
 },
 "nbformat": 4,
 "nbformat_minor": 0
}
