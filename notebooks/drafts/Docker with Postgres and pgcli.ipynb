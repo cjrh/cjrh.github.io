{
 "cells": [
  {
   "cell_type": "markdown",
   "metadata": {},
   "source": [
    "# Docker with Postgres and pgcli"
   ]
  },
  {
   "cell_type": "markdown",
   "metadata": {},
   "source": [
    "Obtaining the docker image is easy:\n",
    "\n",
    "```bash\n",
    "$ docker pull postgres\n",
    "```"
   ]
  },
  {
   "cell_type": "markdown",
   "metadata": {},
   "source": [
    "Getting it all running is a whole other matter entirely.  Before continuing with the docker stuff, let's first make sure we have `pgcli` working:\n",
    "```bash\n",
    "$ pip install pgcli\n",
    "```"
   ]
  },
  {
   "cell_type": "markdown",
   "metadata": {},
   "source": [
    "Now, this succeeded for me, but starting up `pgcli` in the terminal threw errors around being unable to load the binary extension module for `psycopg`.  This is pretty much why I use the Anaconda distribution of Python:\n",
    "```bash\n",
    "$ conda install psycopg2\n",
    "```\n",
    "That completed successfully, and thereafter, `pgcli` worked as normal."
   ]
  },
  {
   "cell_type": "markdown",
   "metadata": {},
   "source": [
    "Returning to the docker stuff, I found it quite difficult to get going.  As usual, [the instructions](https://hub.docker.com/_/postgres/) do not give you all the information.\n",
    "\n",
    "I had to add the port map to let `pgcli` connect. For production, to connect another container you will not need to have the port mapping. So, you need to create your container like this:\n",
    "```bash\n",
    "$ docker run -p 5432:5432 \\\n",
    "--name some-postgres \\\n",
    "-e POSTGRES_PASSWORD=mysecretpassword \\\n",
    "-d postgres\n",
    "```\n",
    "\n",
    "Obviously you have to replace `mysecretpassword` with what you intend to use."
   ]
  },
  {
   "cell_type": "markdown",
   "metadata": {},
   "source": [
    "Now, to connect to that running postgres container, connect with `pgcli` like so:\n",
    "\n",
    "```bash\n",
    "$ pgcli -h 192.168.99.100 -p 5432 -U postgres\n",
    "\n",
    "Password: mysecretpassword\n",
    "Version: 0.19.2\n",
    "Chat: https://gitter.im/dbcli/pgcli\n",
    "Mail: https://groups.google.com/forum/#!forum/pgcli\n",
    "Home: http://pgcli.com\n",
    "username> _\n",
    "```"
   ]
  },
  {
   "cell_type": "code",
   "execution_count": null,
   "metadata": {
    "collapsed": true
   },
   "outputs": [],
   "source": []
  }
 ],
 "metadata": {
  "kernelspec": {
   "display_name": "Python 2",
   "language": "python",
   "name": "python2"
  },
  "language_info": {
   "codemirror_mode": {
    "name": "ipython",
    "version": 2
   },
   "file_extension": ".py",
   "mimetype": "text/x-python",
   "name": "python",
   "nbconvert_exporter": "python",
   "pygments_lexer": "ipython2",
   "version": "2.7.10"
  }
 },
 "nbformat": 4,
 "nbformat_minor": 0
}
