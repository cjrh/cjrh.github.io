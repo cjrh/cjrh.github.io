{
 "metadata": {
  "name": "",
  "signature": "sha256:f4e949d9601a3d726c5f322b05f0edec923d2b58f00d087789ef8b68afcf8192"
 },
 "nbformat": 3,
 "nbformat_minor": 0,
 "worksheets": [
  {
   "cells": [
    {
     "cell_type": "heading",
     "level": 1,
     "metadata": {},
     "source": [
      "Interactively switching between Python versions"
     ]
    },
    {
     "cell_type": "markdown",
     "metadata": {},
     "source": [
      "Points:\n",
      "- Explain: nice to do easily and quickly in editor\n",
      "- Discuss: does not replace automated testing & CI\n",
      "- Discuss conda versus virtualenv; mention that conda allows multi-python-version switching (but not x86/x64).\n",
      "- Give a demonstration in vim, using vim-conda\n",
      "- Give an example of when something fails when switching between versions."
     ]
    },
    {
     "cell_type": "heading",
     "level": 2,
     "metadata": {},
     "source": [
      "Different package versions within a single Python version"
     ]
    },
    {
     "cell_type": "markdown",
     "metadata": {},
     "source": [
      "- Discuss conda env creation with `conda create -n testPy3Np19Sc15 python=3 numpy=1.9 scipy=0.15`\n",
      "- And how you can create a few of these for different sub-versions\n",
      "- Give an example where something fails."
     ]
    },
    {
     "cell_type": "code",
     "collapsed": false,
     "input": [],
     "language": "python",
     "metadata": {},
     "outputs": []
    }
   ],
   "metadata": {}
  }
 ]
}