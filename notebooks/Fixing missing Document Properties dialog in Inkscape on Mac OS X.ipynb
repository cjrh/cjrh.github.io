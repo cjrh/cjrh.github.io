{
 "cells": [
  {
   "cell_type": "markdown",
   "metadata": {},
   "source": [
    "# Fixing missing Document Properties dialog in Inkscape on Mac OS X\n",
    "\n",
    "It has been bugging me for a while that I could not open the _Document Properties_ dialog on Inkscape on my mac.  The button clicks, but the window would not show.  I noticed that the main Inkscape window would lose focus, but alas no properties dialog.\n",
    "\n",
    "I finally decided to do something about it today. It turns out that you have to edit the preferences file and manually give x and y coordinates to this dialog.  I found the answer [here](https://bugs.launchpad.net/inkscape/+bug/1268308/comments/5) and [here](https://bugs.launchpad.net/inkscape/+bug/902071/comments/3).\n",
    "\n",
    "In `~/.config/inkscape/preferences.xml`, find \n",
    "\n",
    "```xml\n",
    "<group\n",
    "    id=\"documentoptions\"\n",
    "    state=\"1\" />\n",
    "    \n",
    "```\n",
    "and change it by adding coordinatesL\n",
    "```xml\n",
    "<group\n",
    "    id=\"documentoptions\"\n",
    "    x=\"500\"\n",
    "    y=\"500\"\n",
    "    state=\"1\" />\n",
    "```\n",
    "\n",
    "The bug is apparently due to poor multi-monitor support, but anyway, there ya go!\n",
    "\n",
    "    \n",
    "\n"
   ]
  },
  {
   "cell_type": "code",
   "execution_count": null,
   "metadata": {
    "collapsed": true
   },
   "outputs": [],
   "source": []
  }
 ],
 "metadata": {
  "kernelspec": {
   "display_name": "Python 2",
   "language": "python",
   "name": "python2"
  },
  "language_info": {
   "codemirror_mode": {
    "name": "ipython",
    "version": 2
   },
   "file_extension": ".py",
   "mimetype": "text/x-python",
   "name": "python",
   "nbconvert_exporter": "python",
   "pygments_lexer": "ipython2",
   "version": "2.7.10"
  }
 },
 "nbformat": 4,
 "nbformat_minor": 0
}
