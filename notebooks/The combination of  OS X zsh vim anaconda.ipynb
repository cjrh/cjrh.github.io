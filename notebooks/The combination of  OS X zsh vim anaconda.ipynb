{
 "metadata": {
  "name": "",
  "signature": "sha256:2494ab6624851d8698f0253d1c34c250acfe9259aaeb08c4bde85205416f8ed8"
 },
 "nbformat": 3,
 "nbformat_minor": 0,
 "worksheets": [
  {
   "cells": [
    {
     "cell_type": "heading",
     "level": 1,
     "metadata": {},
     "source": [
      "The combination of OS X, zsh, vim, and Anaconda Python"
     ]
    },
    {
     "cell_type": "markdown",
     "metadata": {},
     "source": [
      "I have for some time now been writing Python code using the four tools in the heading; however, something has been bugging me. When launching vim from a terminal (actually iTerm2), it would find and use the system Python in `usr/local/bin` rather than the Anaconda Python I had installed in my home folder, but added to my shell path.  \n",
      "\n",
      "This did not happen with the `bash` shell, but that didn't occur to me at the time. [This excellent guide](https://github.com/sstephenson/rbenv/wiki/Unix-shell-initialization) explains how different dot files are loaded."
     ]
    },
    {
     "cell_type": "markdown",
     "metadata": {},
     "source": [
      "It turns out that zsh installs `/etc/zshenv` and this file uses *path_handler* to prepend system paths to `$PATH`. `~/.zprofile` is sourced *before* this happens, so no matter what you put in your custom `zprofile`, it will be clobbered by system paths."
     ]
    }
   ],
   "metadata": {}
  }
 ]
}